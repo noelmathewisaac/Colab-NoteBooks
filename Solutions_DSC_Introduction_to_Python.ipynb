{
  "nbformat": 4,
  "nbformat_minor": 0,
  "metadata": {
    "colab": {
      "name": "Solutions - DSC Introduction to Python.ipynb",
      "provenance": [],
      "collapsed_sections": [
        "phKocH6lbRjj",
        "bXduwTNWKuwv"
      ],
      "authorship_tag": "ABX9TyOp7BR11mxmOwLFYpjNK7Jh",
      "include_colab_link": true
    },
    "kernelspec": {
      "name": "python3",
      "display_name": "Python 3"
    }
  },
  "cells": [
    {
      "cell_type": "markdown",
      "metadata": {
        "id": "view-in-github",
        "colab_type": "text"
      },
      "source": [
        "<a href=\"https://colab.research.google.com/github/noelmathewisaac/Colab-NoteBooks/blob/master/Solutions_DSC_Introduction_to_Python.ipynb\" target=\"_parent\"><img src=\"https://colab.research.google.com/assets/colab-badge.svg\" alt=\"Open In Colab\"/></a>"
      ]
    },
    {
      "cell_type": "markdown",
      "metadata": {
        "id": "phKocH6lbRjj"
      },
      "source": [
        "# **Problem Set 1**"
      ]
    },
    {
      "cell_type": "markdown",
      "metadata": {
        "id": "6DQFWTYExPrd"
      },
      "source": [
        "#### **Exercise 1**\n",
        "| Marks | Output message |\n",
        "| -------- | ------- |\n",
        "| >= 80 | Your grade is: A+ |\n",
        "| 70 - 79 | Your grade is: A |\n",
        "| 60 - 69 | Your grade is: B |\n",
        "| < 60 | Your grade is: Pass |\n",
        "\n",
        "#### Based on the table above, print out the appropriate message for the following student's marks\n",
        "\n",
        "Note that the output message should change when the value of `marks` changes"
      ]
    },
    {
      "cell_type": "code",
      "metadata": {
        "id": "LJm2z3fLxrxL",
        "outputId": "d19758bd-747b-4f8d-cb1d-73df927fb433",
        "colab": {
          "base_uri": "https://localhost:8080/",
          "height": 35
        }
      },
      "source": [
        "marks = 71\n",
        "\n",
        "# Fill in your code here!\n",
        "if(marks >= 80):\n",
        "  print('Your grade is: A+')\n",
        "elif(marks >= 70):\n",
        "  print('Your grade is: A')\n",
        "elif(marks >= 60):\n",
        "  print('Your grade is: B')\n",
        "else:\n",
        "  print('Your grade is: Pass')"
      ],
      "execution_count": 5,
      "outputs": [
        {
          "output_type": "stream",
          "text": [
            "Your grade is: A+\n"
          ],
          "name": "stdout"
        }
      ]
    },
    {
      "cell_type": "markdown",
      "metadata": {
        "id": "KTlW_TJgR8TF"
      },
      "source": [
        "#### **Exercise 2**\n",
        "#### Update the value 10 to 20 in this dictionary\n",
        "```\n",
        "{\"Level0\": {\"Level2\": [10]},\n",
        " \"Level1\": [1,2,3]\n",
        "}\n",
        "```\n",
        "\n",
        "\n"
      ]
    },
    {
      "cell_type": "code",
      "metadata": {
        "id": "AFdxbUqKTaqZ",
        "outputId": "1e2d88f0-769c-4558-f249-1ccb63260abd",
        "colab": {
          "base_uri": "https://localhost:8080/",
          "height": 35
        }
      },
      "source": [
        "dictionary = {\"Level0\": {\"Level2\": [10]},\"Level1\": [1,2,3]}\n",
        "\n",
        "\n",
        "# Fill in your code here!\n",
        "dictionary[\"Level0\"][\"Level2\"][0]=20\n",
        "\n",
        "print(dictionary)\n"
      ],
      "execution_count": 7,
      "outputs": [
        {
          "output_type": "stream",
          "text": [
            "{'Level0': {'Level2': [20]}, 'Level1': [1, 2, 3]}\n"
          ],
          "name": "stdout"
        }
      ]
    },
    {
      "cell_type": "markdown",
      "metadata": {
        "id": "OqNUDm38bueb"
      },
      "source": [
        "#### **Exercise 3**\n",
        "#### Use a for loop to print out all the numbers between 1 and 100 which are divisble by 7\n",
        "(Hint: Use if-statements and the % operator)\n",
        "\n"
      ]
    },
    {
      "cell_type": "code",
      "metadata": {
        "id": "bkqKFb52beNx",
        "outputId": "a8542563-b1a4-4c20-b4ee-867d552cc4d1",
        "colab": {
          "base_uri": "https://localhost:8080/",
          "height": 260
        }
      },
      "source": [
        "for i in range(1,100):\n",
        "    # Fill in your code here!\n",
        "    if(i%7 == 0):\n",
        "      print(i)"
      ],
      "execution_count": 8,
      "outputs": [
        {
          "output_type": "stream",
          "text": [
            "7\n",
            "14\n",
            "21\n",
            "28\n",
            "35\n",
            "42\n",
            "49\n",
            "56\n",
            "63\n",
            "70\n",
            "77\n",
            "84\n",
            "91\n",
            "98\n"
          ],
          "name": "stdout"
        }
      ]
    },
    {
      "cell_type": "markdown",
      "metadata": {
        "id": "98vbb70izs9J"
      },
      "source": [
        "#### **Exercise 4**\n",
        "#### Find and print the mean of all the items in `data`\n",
        "Expected output = 225.33333333333334"
      ]
    },
    {
      "cell_type": "code",
      "metadata": {
        "id": "IbOxG55mSWhm",
        "outputId": "dbe6a93e-af15-41ea-971e-f4466fec95ac",
        "colab": {
          "base_uri": "https://localhost:8080/",
          "height": 35
        }
      },
      "source": [
        "data = [2, 13, 65, 88, 243, 5, 1098, 492, 22]\n",
        "\n",
        "# Fill in your code here!\n",
        "sum = 0\n",
        "for num in data:\n",
        "    sum = sum + num\n",
        "\n",
        "print(sum/len(data))\n",
        "\n"
      ],
      "execution_count": 9,
      "outputs": [
        {
          "output_type": "stream",
          "text": [
            "225.33333333333334\n"
          ],
          "name": "stdout"
        }
      ]
    },
    {
      "cell_type": "markdown",
      "metadata": {
        "id": "usQO2IT-1Zea"
      },
      "source": [
        "#### **Exercise 5**\n",
        "#### Print out the following pattern of '*' using for loops:\n",
        "\n",
        "```\n",
        "*****\n",
        "*****\n",
        "*****\n",
        "*****\n",
        "```\n",
        "\n"
      ]
    },
    {
      "cell_type": "code",
      "metadata": {
        "id": "Yf0H8uGP1-LD",
        "outputId": "0197db4d-e770-40c4-8591-0978ec90ec84",
        "colab": {
          "base_uri": "https://localhost:8080/",
          "height": 104
        }
      },
      "source": [
        "# Fill in you code here!\n",
        "for i in range(5):\n",
        "    print(\"*****\")"
      ],
      "execution_count": 10,
      "outputs": [
        {
          "output_type": "stream",
          "text": [
            "*****\n",
            "*****\n",
            "*****\n",
            "*****\n",
            "*****\n"
          ],
          "name": "stdout"
        }
      ]
    },
    {
      "cell_type": "markdown",
      "metadata": {
        "id": "8yVRbrD_7U04"
      },
      "source": [
        "#### **Exercise 6**\n",
        "#### Update the following 2D array `data2D` by replacing every element with its square:\n",
        "\n",
        "```\n",
        "arr = [[1,2,3],[23,44,12,34],[91,23,7,0,56],[3,76,4]]\n",
        "updated arr = [[1, 4, 9], [529, 1936, 144, 1156], [8281, 529, 49, 0, 3136], [9, 5776, 16]]\n",
        "```\n",
        "\n"
      ]
    },
    {
      "cell_type": "code",
      "metadata": {
        "id": "kEldO2187MGy",
        "outputId": "c1599fd6-cfff-41c8-be5b-0820dbfd47c6",
        "colab": {
          "base_uri": "https://localhost:8080/",
          "height": 35
        }
      },
      "source": [
        "arr = [[1,2,3],[23,44,12,34],[91,23,7,0,56],[3,76,4]]\n",
        "\n",
        "# Fill in you code here!\n",
        "for i in range(len(arr)):\n",
        "    for j in range(len(arr[i])):\n",
        "         arr[i][j] = arr[i][j]**2\n",
        "\n",
        "\n",
        "\n",
        "#Test the Result\n",
        "if(arr == [[1, 4, 9], [529, 1936, 144, 1156], [8281, 529, 49, 0, 3136], [9, 5776, 16]]):\n",
        "  print(\"Correct output, good job!\")\n",
        "else:\n",
        "  print(\"arr has the wrong values, try again\")"
      ],
      "execution_count": 11,
      "outputs": [
        {
          "output_type": "stream",
          "text": [
            "Correct output, good job!\n"
          ],
          "name": "stdout"
        }
      ]
    },
    {
      "cell_type": "markdown",
      "metadata": {
        "id": "4S-8fYm33Uq2"
      },
      "source": [
        "#### **Exercise 7** (Challenging)\n",
        "#### Print out the following pattern using **nested** for loops:\n",
        "\n",
        "```\n",
        "1\n",
        "12\n",
        "123\n",
        "1234\n",
        "12345\n",
        "```\n",
        "Hint: The print function prints in a new line for every call by default. \n",
        "<br> You can use `print(111, end = '')` to print the number 111 without going to a new line"
      ]
    },
    {
      "cell_type": "code",
      "metadata": {
        "id": "cKR_yS656UwU",
        "outputId": "d52496f8-c63a-4523-b4df-5aef4e7d59a4",
        "colab": {
          "base_uri": "https://localhost:8080/",
          "height": 69
        }
      },
      "source": [
        "#Example\n",
        "print(1)\n",
        "print(2)\n",
        "print(1, end = '')\n",
        "print(2, end = '')"
      ],
      "execution_count": null,
      "outputs": [
        {
          "output_type": "stream",
          "text": [
            "1\n",
            "2\n",
            "12"
          ],
          "name": "stdout"
        }
      ]
    },
    {
      "cell_type": "code",
      "metadata": {
        "id": "qS7WQi9_3j1p",
        "outputId": "72d5f333-037f-4c9d-f279-7fcd0834b628",
        "colab": {
          "base_uri": "https://localhost:8080/",
          "height": 104
        }
      },
      "source": [
        "# Fill in you code here!\n",
        "for i in range(5):\n",
        "  for j in range(i+1):\n",
        "    print(j+1, end = '')\n",
        "  print(\"\")"
      ],
      "execution_count": 16,
      "outputs": [
        {
          "output_type": "stream",
          "text": [
            "1\n",
            "12\n",
            "123\n",
            "1234\n",
            "12345\n"
          ],
          "name": "stdout"
        }
      ]
    },
    {
      "cell_type": "markdown",
      "metadata": {
        "id": "GBA1CMdB2zO6"
      },
      "source": [
        "# **Problem Set 2**"
      ]
    },
    {
      "cell_type": "markdown",
      "metadata": {
        "id": "-dZHtGgj25mv"
      },
      "source": [
        "#### **Exercise 1**\n",
        "#### Write a function named minimum that takes in 2 parameters x and y (both ints) and returns the smaller of the two."
      ]
    },
    {
      "cell_type": "code",
      "metadata": {
        "id": "dtu_qFmN25Gj",
        "outputId": "358d0fcb-c11e-4640-fbab-357567dd4959",
        "colab": {
          "base_uri": "https://localhost:8080/",
          "height": 35
        }
      },
      "source": [
        "# Fill in your code here!\n",
        "def minimum(x,y):\n",
        "   if(x < y):\n",
        "     return x\n",
        "   else:\n",
        "     return y"
      ],
      "execution_count": 18,
      "outputs": [
        {
          "output_type": "execute_result",
          "data": {
            "text/plain": [
              "3"
            ]
          },
          "metadata": {
            "tags": []
          },
          "execution_count": 18
        }
      ]
    },
    {
      "cell_type": "markdown",
      "metadata": {
        "id": "bXduwTNWKuwv"
      },
      "source": [
        "#### **Exercise 2**\n",
        "#### Write a function named `pattern` that takes in a parameter n and prints out n lines of the following pattern:\n",
        "\n",
        "\n",
        "```\n",
        "input n = 2\n",
        "1\n",
        "22\n",
        "\n",
        "input: n = 5\n",
        "1\n",
        "22\n",
        "333\n",
        "4444\n",
        "55555\n",
        "\n",
        "```\n",
        "\n"
      ]
    },
    {
      "cell_type": "code",
      "metadata": {
        "id": "u8riRUYdRpjn",
        "outputId": "27cbf692-3bdc-49a0-d5cd-4a545c6757fb",
        "colab": {
          "base_uri": "https://localhost:8080/",
          "height": 104
        }
      },
      "source": [
        "def pattern(n):\n",
        "   # Fill in your code here!\n",
        "   for i in range(n):\n",
        "       for j in range(i+1):\n",
        "         print(i+1, end = '')\n",
        "       print(\"\")\n",
        "\n",
        "pattern(5)  "
      ],
      "execution_count": 23,
      "outputs": [
        {
          "output_type": "stream",
          "text": [
            "1\n",
            "22\n",
            "333\n",
            "4444\n",
            "55555\n"
          ],
          "name": "stdout"
        }
      ]
    },
    {
      "cell_type": "markdown",
      "metadata": {
        "id": "EY62ODtgTBZw"
      },
      "source": [
        "#### **Exercise 3**\n",
        "#### Complete the constructor and methods for the following class"
      ]
    },
    {
      "cell_type": "code",
      "metadata": {
        "id": "LO7MM-Y3Ktre"
      },
      "source": [
        "class Cylinder:\n",
        "    pi = 3.14\n",
        "    \n",
        "    #Initialise the radius and height\n",
        "    def __init__(self, radius, height):\n",
        "      # Fill in your code here!\n",
        "      self.radius = radius\n",
        "      self.height = height\n",
        "        \n",
        "    #Compute the volume and return it\n",
        "    def volume(self):\n",
        "      # Fill in your code here!\n",
        "      return self.pi * self.radius**2 * self.height\n",
        "\n",
        "    #Compute the surface area and return it\n",
        "    def surface_area(self):\n",
        "      # Fill in your code here!\n",
        "      return 2 * self.pi * self.radius * (self.radius + self.height)\n",
        "\n"
      ],
      "execution_count": 26,
      "outputs": []
    },
    {
      "cell_type": "code",
      "metadata": {
        "id": "RY5ZLKC6VMPf",
        "outputId": "bf69a5dc-e65d-4659-faf6-d5ce2de64523",
        "colab": {
          "base_uri": "https://localhost:8080/",
          "height": 52
        }
      },
      "source": [
        "#Test Output\n",
        "cyl = Cylinder(9, 7)\n",
        "\n",
        "if(cyl.volume() == 1780.38):\n",
        "    print(\"Correct volume\")\n",
        "else:\n",
        "    print(\"Wrong volume\")\n",
        "\n",
        "if(cyl.surface_area() == 904.32):\n",
        "    print(\"Correct surface area\")\n",
        "else:\n",
        "    print(\"Wrong surface area\")\n",
        "\n",
        "\n"
      ],
      "execution_count": 27,
      "outputs": [
        {
          "output_type": "stream",
          "text": [
            "Correct volume\n",
            "Correct surface area\n"
          ],
          "name": "stdout"
        }
      ]
    },
    {
      "cell_type": "markdown",
      "metadata": {
        "id": "xPsRg40EXYla"
      },
      "source": [
        "# **Problem Set 3**"
      ]
    },
    {
      "cell_type": "code",
      "metadata": {
        "id": "Wu3r0XMslTGU",
        "outputId": "8e2cb307-8f58-4204-d50d-aa2816dd7845",
        "colab": {
          "base_uri": "https://localhost:8080/",
          "height": 295
        }
      },
      "source": [
        "import pandas as pd\n",
        "import matplotlib.pyplot as plt\n",
        "\n",
        "# Download dataset from GitHub\n",
        "!wget https://github.com/PopcornData/popcorn-data-website/raw/master/Movie%20Seat%20Data.xlsx\n",
        "\n",
        "df = pd.read_excel('Movie Seat Data.xlsx', sheet_name = 1)"
      ],
      "execution_count": 75,
      "outputs": [
        {
          "output_type": "stream",
          "text": [
            "--2020-10-16 04:46:38--  https://github.com/PopcornData/popcorn-data-website/raw/master/Movie%20Seat%20Data.xlsx\n",
            "Resolving github.com (github.com)... 140.82.113.3\n",
            "Connecting to github.com (github.com)|140.82.113.3|:443... connected.\n",
            "HTTP request sent, awaiting response... 302 Found\n",
            "Location: https://raw.githubusercontent.com/PopcornData/popcorn-data-website/master/Movie%20Seat%20Data.xlsx [following]\n",
            "--2020-10-16 04:46:39--  https://raw.githubusercontent.com/PopcornData/popcorn-data-website/master/Movie%20Seat%20Data.xlsx\n",
            "Resolving raw.githubusercontent.com (raw.githubusercontent.com)... 151.101.0.133, 151.101.64.133, 151.101.128.133, ...\n",
            "Connecting to raw.githubusercontent.com (raw.githubusercontent.com)|151.101.0.133|:443... connected.\n",
            "HTTP request sent, awaiting response... 200 OK\n",
            "Length: 3493660 (3.3M) [application/octet-stream]\n",
            "Saving to: ‘Movie Seat Data.xlsx.2’\n",
            "\n",
            "Movie Seat Data.xls 100%[===================>]   3.33M  12.1MB/s    in 0.3s    \n",
            "\n",
            "2020-10-16 04:46:39 (12.1 MB/s) - ‘Movie Seat Data.xlsx.2’ saved [3493660/3493660]\n",
            "\n"
          ],
          "name": "stdout"
        }
      ]
    },
    {
      "cell_type": "markdown",
      "metadata": {
        "id": "nDWDpdQZhuGC"
      },
      "source": [
        "#### **Exercise 1**\n",
        "#### Create a new column called 'Time Period' which has the values **'Morning', 'Afternoon', 'Evening' or 'Night'** based on the conditions:\n",
        "1. 00:00 <= Time <  12:00 : Morning\n",
        "2. 12:00 <= Time <  16:00 : Afternoon\n",
        "3. 16:00 <= Time <  20:00 : Evening\n",
        "4. 20:00 <= Time <= 23:59 : Night"
      ]
    },
    {
      "cell_type": "code",
      "metadata": {
        "id": "_Y_ha2s7hamf",
        "outputId": "a33f4fd8-13d5-4026-ab85-24d7f1b76d0e",
        "colab": {
          "base_uri": "https://localhost:8080/",
          "height": 710
        }
      },
      "source": [
        "#Fill in your code here!\n",
        "df.loc[(df['Time']>='00:00') & (df['Time']<'12:00'), 'Time Period'] = 'Morning'\n",
        "df.loc[(df['Time']>='12:00') & (df['Time']<'16:00'), 'Time Period'] = 'Afternoon'\n",
        "df.loc[(df['Time']>='16:00') & (df['Time']<'20:00'), 'Time Period'] = 'Evening'\n",
        "df.loc[(df['Time']>='20:00') & (df['Time']<='23:59'), 'Time Period'] = 'Night'\n",
        "df"
      ],
      "execution_count": 76,
      "outputs": [
        {
          "output_type": "execute_result",
          "data": {
            "text/html": [
              "<div>\n",
              "<style scoped>\n",
              "    .dataframe tbody tr th:only-of-type {\n",
              "        vertical-align: middle;\n",
              "    }\n",
              "\n",
              "    .dataframe tbody tr th {\n",
              "        vertical-align: top;\n",
              "    }\n",
              "\n",
              "    .dataframe thead th {\n",
              "        text-align: right;\n",
              "    }\n",
              "</style>\n",
              "<table border=\"1\" class=\"dataframe\">\n",
              "  <thead>\n",
              "    <tr style=\"text-align: right;\">\n",
              "      <th></th>\n",
              "      <th>Date</th>\n",
              "      <th>Day</th>\n",
              "      <th>Month</th>\n",
              "      <th>Year</th>\n",
              "      <th>Theatre</th>\n",
              "      <th>Hall</th>\n",
              "      <th>Movie</th>\n",
              "      <th>Time</th>\n",
              "      <th>Total Seats</th>\n",
              "      <th>Sold Seats</th>\n",
              "      <th>Percentage Sold</th>\n",
              "      <th>Buy Order</th>\n",
              "      <th>Seat Distb</th>\n",
              "      <th>Time Period</th>\n",
              "    </tr>\n",
              "  </thead>\n",
              "  <tbody>\n",
              "    <tr>\n",
              "      <th>0</th>\n",
              "      <td>1 Jan 2020</td>\n",
              "      <td>1</td>\n",
              "      <td>Jan</td>\n",
              "      <td>2020</td>\n",
              "      <td>Jcube</td>\n",
              "      <td>JCube Hall 1</td>\n",
              "      <td>Star Wars: The Rise Of Skywalker</td>\n",
              "      <td>10:00</td>\n",
              "      <td>100.0</td>\n",
              "      <td>13.0</td>\n",
              "      <td>0.130000</td>\n",
              "      <td>[['B_7', 'B_6'], ['D_9', 'D_8'], ['A_13', 'A_1...</td>\n",
              "      <td>{'1': 1, '2': 4, '4': 1}</td>\n",
              "      <td>Morning</td>\n",
              "    </tr>\n",
              "    <tr>\n",
              "      <th>1</th>\n",
              "      <td>1 Jan 2020</td>\n",
              "      <td>1</td>\n",
              "      <td>Jan</td>\n",
              "      <td>2020</td>\n",
              "      <td>Jcube</td>\n",
              "      <td>JCube Hall 1</td>\n",
              "      <td>Star Wars: The Rise Of Skywalker</td>\n",
              "      <td>13:10</td>\n",
              "      <td>100.0</td>\n",
              "      <td>33.0</td>\n",
              "      <td>0.330000</td>\n",
              "      <td>[['A_11', 'A_10'], ['C_7', 'C_6'], ['C_5', 'C_...</td>\n",
              "      <td>{'1': 4, '2': 11, '7': 1}</td>\n",
              "      <td>Afternoon</td>\n",
              "    </tr>\n",
              "    <tr>\n",
              "      <th>2</th>\n",
              "      <td>1 Jan 2020</td>\n",
              "      <td>1</td>\n",
              "      <td>Jan</td>\n",
              "      <td>2020</td>\n",
              "      <td>Jcube</td>\n",
              "      <td>JCube Hall 1</td>\n",
              "      <td>Star Wars: The Rise Of Skywalker</td>\n",
              "      <td>16:20</td>\n",
              "      <td>100.0</td>\n",
              "      <td>30.0</td>\n",
              "      <td>0.300000</td>\n",
              "      <td>[['B_7', 'B_6'], ['A_10', 'A_11'], ['A_1', 'A_...</td>\n",
              "      <td>{'1': 3, '2': 7, '3': 3, '4': 1}</td>\n",
              "      <td>Evening</td>\n",
              "    </tr>\n",
              "    <tr>\n",
              "      <th>3</th>\n",
              "      <td>1 Jan 2020</td>\n",
              "      <td>1</td>\n",
              "      <td>Jan</td>\n",
              "      <td>2020</td>\n",
              "      <td>Jcube</td>\n",
              "      <td>JCube Hall 1</td>\n",
              "      <td>Star Wars: The Rise Of Skywalker</td>\n",
              "      <td>19:30</td>\n",
              "      <td>100.0</td>\n",
              "      <td>29.0</td>\n",
              "      <td>0.290000</td>\n",
              "      <td>[['B_6', 'B_5', 'B_4', 'B_7'], ['B_13', 'B_12'...</td>\n",
              "      <td>{'1': 3, '2': 11, '4': 1}</td>\n",
              "      <td>Evening</td>\n",
              "    </tr>\n",
              "    <tr>\n",
              "      <th>4</th>\n",
              "      <td>1 Jan 2020</td>\n",
              "      <td>1</td>\n",
              "      <td>Jan</td>\n",
              "      <td>2020</td>\n",
              "      <td>Jcube</td>\n",
              "      <td>JCube Hall 2</td>\n",
              "      <td>Jumanji: The Next Level</td>\n",
              "      <td>16:00</td>\n",
              "      <td>102.0</td>\n",
              "      <td>90.0</td>\n",
              "      <td>0.882353</td>\n",
              "      <td>[['B_7', 'B_6', 'B_5', 'B_4'], ['C_9', 'C_8'],...</td>\n",
              "      <td>{'1': 8, '2': 16, '3': 7, '4': 6, '5': 1}</td>\n",
              "      <td>Evening</td>\n",
              "    </tr>\n",
              "    <tr>\n",
              "      <th>...</th>\n",
              "      <td>...</td>\n",
              "      <td>...</td>\n",
              "      <td>...</td>\n",
              "      <td>...</td>\n",
              "      <td>...</td>\n",
              "      <td>...</td>\n",
              "      <td>...</td>\n",
              "      <td>...</td>\n",
              "      <td>...</td>\n",
              "      <td>...</td>\n",
              "      <td>...</td>\n",
              "      <td>...</td>\n",
              "      <td>...</td>\n",
              "      <td>...</td>\n",
              "    </tr>\n",
              "    <tr>\n",
              "      <th>11345</th>\n",
              "      <td>31 Jan 2020</td>\n",
              "      <td>31</td>\n",
              "      <td>Jan</td>\n",
              "      <td>2020</td>\n",
              "      <td>Waterway_Point</td>\n",
              "      <td>Waterway Point IMAX</td>\n",
              "      <td>1917</td>\n",
              "      <td>10:50</td>\n",
              "      <td>225.0</td>\n",
              "      <td>2.0</td>\n",
              "      <td>0.008889</td>\n",
              "      <td>[['F_13', 'F_14']]</td>\n",
              "      <td>{'2': 1}</td>\n",
              "      <td>Morning</td>\n",
              "    </tr>\n",
              "    <tr>\n",
              "      <th>11346</th>\n",
              "      <td>31 Jan 2020</td>\n",
              "      <td>31</td>\n",
              "      <td>Jan</td>\n",
              "      <td>2020</td>\n",
              "      <td>Waterway_Point</td>\n",
              "      <td>Waterway Point IMAX</td>\n",
              "      <td>1917</td>\n",
              "      <td>13:30</td>\n",
              "      <td>225.0</td>\n",
              "      <td>0.0</td>\n",
              "      <td>0.000000</td>\n",
              "      <td>[[]]</td>\n",
              "      <td>{'0': 1}</td>\n",
              "      <td>Afternoon</td>\n",
              "    </tr>\n",
              "    <tr>\n",
              "      <th>11347</th>\n",
              "      <td>31 Jan 2020</td>\n",
              "      <td>31</td>\n",
              "      <td>Jan</td>\n",
              "      <td>2020</td>\n",
              "      <td>Waterway_Point</td>\n",
              "      <td>Waterway Point IMAX</td>\n",
              "      <td>1917</td>\n",
              "      <td>19:00</td>\n",
              "      <td>225.0</td>\n",
              "      <td>0.0</td>\n",
              "      <td>0.000000</td>\n",
              "      <td>[[]]</td>\n",
              "      <td>{'0': 1}</td>\n",
              "      <td>Evening</td>\n",
              "    </tr>\n",
              "    <tr>\n",
              "      <th>11348</th>\n",
              "      <td>31 Jan 2020</td>\n",
              "      <td>31</td>\n",
              "      <td>Jan</td>\n",
              "      <td>2020</td>\n",
              "      <td>Waterway_Point</td>\n",
              "      <td>Waterway Point IMAX</td>\n",
              "      <td>1917</td>\n",
              "      <td>21:40</td>\n",
              "      <td>225.0</td>\n",
              "      <td>6.0</td>\n",
              "      <td>0.026667</td>\n",
              "      <td>[['A_13', 'A_14'], ['D_10', 'D_11'], ['B_13', ...</td>\n",
              "      <td>{'2': 3}</td>\n",
              "      <td>Night</td>\n",
              "    </tr>\n",
              "    <tr>\n",
              "      <th>11349</th>\n",
              "      <td>31 Jan 2020</td>\n",
              "      <td>31</td>\n",
              "      <td>Jan</td>\n",
              "      <td>2020</td>\n",
              "      <td>Waterway_Point</td>\n",
              "      <td>Waterway Point IMAX</td>\n",
              "      <td>Bad Boys For Life</td>\n",
              "      <td>16:10</td>\n",
              "      <td>225.0</td>\n",
              "      <td>2.0</td>\n",
              "      <td>0.008889</td>\n",
              "      <td>[['A_13', 'A_14']]</td>\n",
              "      <td>{'2': 1}</td>\n",
              "      <td>Evening</td>\n",
              "    </tr>\n",
              "  </tbody>\n",
              "</table>\n",
              "<p>11350 rows × 14 columns</p>\n",
              "</div>"
            ],
            "text/plain": [
              "              Date  Day  ...                                 Seat Distb  Time Period\n",
              "0       1 Jan 2020    1  ...                   {'1': 1, '2': 4, '4': 1}      Morning\n",
              "1       1 Jan 2020    1  ...                  {'1': 4, '2': 11, '7': 1}    Afternoon\n",
              "2       1 Jan 2020    1  ...           {'1': 3, '2': 7, '3': 3, '4': 1}      Evening\n",
              "3       1 Jan 2020    1  ...                  {'1': 3, '2': 11, '4': 1}      Evening\n",
              "4       1 Jan 2020    1  ...  {'1': 8, '2': 16, '3': 7, '4': 6, '5': 1}      Evening\n",
              "...            ...  ...  ...                                        ...          ...\n",
              "11345  31 Jan 2020   31  ...                                   {'2': 1}      Morning\n",
              "11346  31 Jan 2020   31  ...                                   {'0': 1}    Afternoon\n",
              "11347  31 Jan 2020   31  ...                                   {'0': 1}      Evening\n",
              "11348  31 Jan 2020   31  ...                                   {'2': 3}        Night\n",
              "11349  31 Jan 2020   31  ...                                   {'2': 1}      Evening\n",
              "\n",
              "[11350 rows x 14 columns]"
            ]
          },
          "metadata": {
            "tags": []
          },
          "execution_count": 76
        }
      ]
    },
    {
      "cell_type": "markdown",
      "metadata": {
        "id": "LkTRkxtWhIM2"
      },
      "source": [
        "#### **Exercise 2**\n",
        "#### Using the Movie dataset and the `groupby` function, find out the following\n",
        "1. **% of seats sold** for each **hall** -> Hence find the most popular hall\n",
        "2. **Total seats sold** for each **day** of the month -> Hence find the most popular day to watch movies\n",
        "3. Number of seats sold for each unique Time -> Hence find the most popular **Movie Screening Time**"
      ]
    },
    {
      "cell_type": "code",
      "metadata": {
        "id": "N_Vfh0wkg63G",
        "outputId": "a8f356d5-a834-4190-889f-eb0afe8708d5",
        "colab": {
          "base_uri": "https://localhost:8080/",
          "height": 1000
        }
      },
      "source": [
        "#Fill in your code here!\n",
        "#Part 1\n",
        "df_halls = df.groupby('Hall').sum().loc[:,['Total Seats','Sold Seats']]\n",
        "df_halls['Percentage Sold'] = df_halls['Sold Seats'] / df_halls['Total Seats'] * 100\n",
        "df_halls.sort_values(by= 'Percentage Sold', ascending=False)\n",
        "print(df_halls)\n",
        "# Lido Hall 8 was the most popular\n",
        "\n",
        "#Part 2\n",
        "df_days = df.groupby('Day').sum().loc[:,['Sold Seats']]\n",
        "df_days.sort_values(by= 'Sold Seats', ascending=False)\n",
        "print(df_days)\n",
        "# 26th was the most popular day\n",
        "\n",
        "#Part 3\n",
        "df_time = df.groupby('Time').sum().loc[:,['Sold Seats']]\n",
        "df_time.sort_values(by= 'Sold Seats', ascending=False)\n",
        "print(df_time)\n",
        "# 21:30 was the most popular screening time"
      ],
      "execution_count": 77,
      "outputs": [
        {
          "output_type": "stream",
          "text": [
            "                Total Seats  Sold Seats  Percentage Sold\n",
            "Hall                                                    \n",
            "JCube Hall 1        15700.0      3171.0        20.197452\n",
            "JCube Hall 2        16728.0      3006.0        17.969871\n",
            "JCube Hall 3        29028.0      3172.0        10.927380\n",
            "JCube Hall 4        32319.0      6043.0        18.697980\n",
            "JCube Hall 5        21509.0      3562.0        16.560510\n",
            "...                     ...         ...              ...\n",
            "nex Hall 6          23828.0      4232.0        17.760618\n",
            "nex Hall 7          21700.0      4384.0        20.202765\n",
            "nex Hall 8          22950.0      5430.0        23.660131\n",
            "nex premiere 1       6450.0      1242.0        19.255814\n",
            "nex premiere 2       7900.0      1562.0        19.772152\n",
            "\n",
            "[70 rows x 3 columns]\n",
            "     Sold Seats\n",
            "Day            \n",
            "1       13831.0\n",
            "2        9849.0\n",
            "3       10391.0\n",
            "4       13448.0\n",
            "5        9277.0\n",
            "6        5243.0\n",
            "7        4815.0\n",
            "8        4354.0\n",
            "9        6136.0\n",
            "10       8055.0\n",
            "11      12555.0\n",
            "12       8837.0\n",
            "13       4199.0\n",
            "14       3928.0\n",
            "15       3916.0\n",
            "16        332.0\n",
            "17       6804.0\n",
            "18      10291.0\n",
            "19       6983.0\n",
            "20       3293.0\n",
            "21       3138.0\n",
            "22       3113.0\n",
            "23       4317.0\n",
            "24       8937.0\n",
            "25      11814.0\n",
            "26      17306.0\n",
            "27      14466.0\n",
            "28      10702.0\n",
            "29       5963.0\n",
            "30       4603.0\n",
            "31       5857.0\n",
            "       Sold Seats\n",
            "Time             \n",
            "00:00      2082.0\n",
            "00:05        53.0\n",
            "00:10      1709.0\n",
            "00:15       342.0\n",
            "00:20       633.0\n",
            "...           ...\n",
            "9:30        181.0\n",
            "9:35        547.0\n",
            "9:40        282.0\n",
            "9:45         87.0\n",
            "9:50        333.0\n",
            "\n",
            "[157 rows x 1 columns]\n"
          ],
          "name": "stdout"
        }
      ]
    },
    {
      "cell_type": "markdown",
      "metadata": {
        "id": "wXuAV5vTjX_W"
      },
      "source": [
        "#### **Exercise 3**\n",
        "#### Plot graphs for each of the subparts 2 and 3 in exercise 2\n"
      ]
    },
    {
      "cell_type": "code",
      "metadata": {
        "id": "uL_sr_qCjIAf",
        "outputId": "37ab09bc-4a03-4405-cac5-d306c749fed6",
        "colab": {
          "base_uri": "https://localhost:8080/",
          "height": 649
        }
      },
      "source": [
        "#Fill in your code here!\n",
        "#Part 2\n",
        "df_days.plot(kind = 'bar', figsize=(20, 5))\n",
        "plt.show()\n",
        "\n",
        "# Part 3\n",
        "df_time.plot(kind = 'line', figsize=(40, 10))\n",
        "plt.xticks(fontsize=20, rotation=45)\n",
        "plt.yticks(fontsize=20)\n",
        "plt.show()"
      ],
      "execution_count": 127,
      "outputs": [
        {
          "output_type": "display_data",
          "data": {
            "image/png": "[encoded data removed]",
            "text/plain": [
              "<Figure size 1440x360 with 1 Axes>"
            ]
          },
          "metadata": {
            "tags": [],
            "needs_background": "light"
          }
        },
        {
          "output_type": "display_data",
          "data": {
            "image/png": "[encoded data removed]",
            "text/plain": [
              "<Figure size 2880x720 with 1 Axes>"
            ]
          },
          "metadata": {
            "tags": [],
            "needs_background": "light"
          }
        }
      ]
    }
  ]
}