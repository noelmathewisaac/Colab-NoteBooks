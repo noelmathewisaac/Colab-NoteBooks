{
  "nbformat": 4,
  "nbformat_minor": 0,
  "metadata": {
    "colab": {
      "name": "DSC Introduction to Python.ipynb",
      "provenance": [],
      "collapsed_sections": [
        "1uArW8PuXrmJ",
        "ddXWBjQcpT2z",
        "CsrhLoERr1sv",
        "w6uXDO-bTCz7",
        "uQS3zaLBEbeI",
        "gckyBk2fs5MS",
        "qMFGen0U5df_",
        "qPvAMDTR5sdq",
        "dyAuPchz73zd",
        "KDF0P2laAwIr",
        "phKocH6lbRjj",
        "98vbb70izs9J",
        "usQO2IT-1Zea",
        "8yVRbrD_7U04",
        "4S-8fYm33Uq2",
        "mhsyNz9tZzwN",
        "GBA1CMdB2zO6",
        "bXduwTNWKuwv",
        "YkSXDpyi5VPe",
        "vDTb7kOsaNQR",
        "LkTRkxtWhIM2",
        "wXuAV5vTjX_W"
      ],
      "authorship_tag": "ABX9TyODVfvId4i18AF6H0oF02GQ",
      "include_colab_link": true
    },
    "kernelspec": {
      "name": "python3",
      "display_name": "Python 3"
    }
  },
  "cells": [
    {
      "cell_type": "markdown",
      "metadata": {
        "id": "view-in-github",
        "colab_type": "text"
      },
      "source": [
        "<a href=\"https://colab.research.google.com/github/noelmathewisaac/Colab-NoteBooks/blob/master/DSC_Introduction_to_Python.ipynb\" target=\"_parent\"><img src=\"https://colab.research.google.com/assets/colab-badge.svg\" alt=\"Open In Colab\"/></a>"
      ]
    },
    {
      "cell_type": "markdown",
      "metadata": {
        "id": "CHpXPjJ5Wj9W"
      },
      "source": [
        "# **Python Fundamentals**\n"
      ]
    },
    {
      "cell_type": "markdown",
      "metadata": {
        "id": "nKlcj6nVxg0-"
      },
      "source": [
        "# Objects & Data Types\n",
        "\n",
        "Everything in Python is an object! Each object has a specific data type.\n",
        "\n",
        "\n",
        "| Name       | Type  | Example                                             | Mutability |\n",
        "|------------|-------|-----------------------------------------------------|---|\n",
        "| Integer    | int   | \\-1, 0, 3, 5, 11                                    |Immutable|\n",
        "| Float      | float | 1\\.23, 3\\.333, 10\\.0, \\-5\\.4                        |Immutable|\n",
        "| String     | str   | \"Tech\", \"DSC\", \"NUS\"                                |Immutable|\n",
        "| Boolean    | bool  | True, False                                         |Immutable|\n",
        "| List       | list  | \\[1,2,3,4,7\\], \\[\"hello\", \"world\"\\], \\[1, \"hello\"\\] |Mutable|\n",
        "| Tuple       | tuple  | \\(1,2,3,4,7), \\(\"hello\", \"world\"\\), \\(1, \"hello\"\\) |Immutable|\n",
        "| Dictionary | dict  | \\{\"name\": \"John\", \"age\": 15\\}                       |Mutable|\n",
        "\n",
        "\n",
        "\n"
      ]
    },
    {
      "cell_type": "markdown",
      "metadata": {
        "id": "1uArW8PuXrmJ"
      },
      "source": [
        "# Variables\n",
        "Names given to objects to easily identify them (like a label)\n"
      ]
    },
    {
      "cell_type": "markdown",
      "metadata": {
        "id": "YM66j9SMbJMP"
      },
      "source": [
        "### Numbers (Integers and Floats)"
      ]
    },
    {
      "cell_type": "code",
      "metadata": {
        "id": "wE98MuuFWPqf",
        "outputId": "2ec70fea-d710-4fcf-c3ce-03ce5149a319",
        "colab": {
          "base_uri": "https://localhost:8080/",
          "height": 35
        }
      },
      "source": [
        "item_price = 35.0\n",
        "tax_rate = 0.07\n",
        "tax_amount = item_price * tax_rate\n",
        "tax_amount"
      ],
      "execution_count": null,
      "outputs": [
        {
          "output_type": "execute_result",
          "data": {
            "text/plain": [
              "2.45"
            ]
          },
          "metadata": {
            "tags": []
          },
          "execution_count": 28
        }
      ]
    },
    {
      "cell_type": "markdown",
      "metadata": {
        "id": "W3-d_bTmbZ6i"
      },
      "source": [
        "### Strings\n",
        "\n",
        "*   A string is a sequence of characters\n",
        "*   Strings are **immutable**\n",
        "\n"
      ]
    },
    {
      "cell_type": "code",
      "metadata": {
        "id": "n3hQLAhlblGy"
      },
      "source": [
        "# Strings (enclosed by double or single quotes)\n",
        "first_name = \"John\"\n",
        "last_name = 'Doe'"
      ],
      "execution_count": null,
      "outputs": []
    },
    {
      "cell_type": "code",
      "metadata": {
        "id": "O_BlnCmRZA8y",
        "outputId": "1ed80151-13d7-4ad3-9555-3c472bf6ac73",
        "colab": {
          "base_uri": "https://localhost:8080/",
          "height": 35
        }
      },
      "source": [
        "# We can concatenate strings using the '+' operator\n",
        "full_name = first_name + \" \" + last_name\n",
        "print(full_name)"
      ],
      "execution_count": null,
      "outputs": [
        {
          "output_type": "stream",
          "text": [
            "John Doe\n"
          ],
          "name": "stdout"
        }
      ]
    },
    {
      "cell_type": "code",
      "metadata": {
        "id": "kdnBMc5oZC_C",
        "outputId": "f1b37908-d4c2-4047-908e-a49b4bd48ec4",
        "colab": {
          "base_uri": "https://localhost:8080/",
          "height": 35
        }
      },
      "source": [
        "# The length of a string can be found using the len() function\n",
        "name_length = len(full_name)\n",
        "print(name_length)"
      ],
      "execution_count": null,
      "outputs": [
        {
          "output_type": "stream",
          "text": [
            "8\n"
          ],
          "name": "stdout"
        }
      ]
    },
    {
      "cell_type": "code",
      "metadata": {
        "id": "nlkZT5AOZErA"
      },
      "source": [
        "# Slicing Strings\n",
        "text = \"Introduction to Python\"\n",
        "language = text[16:22]"
      ],
      "execution_count": null,
      "outputs": []
    },
    {
      "cell_type": "code",
      "metadata": {
        "id": "ltjmJpl_ZIic"
      },
      "source": [
        "# Splitting Strings\n",
        "long_string  = \"We need to split this string\"\n",
        "split_strings = long_string.split()"
      ],
      "execution_count": null,
      "outputs": []
    },
    {
      "cell_type": "markdown",
      "metadata": {
        "id": "5QJ9Eqrkesqu"
      },
      "source": [
        "### Booleans\n",
        "Logical True or False values"
      ]
    },
    {
      "cell_type": "code",
      "metadata": {
        "id": "z3pdW1fDerUl",
        "outputId": "e057f2c1-df17-492b-9b4d-ac45f052d9ec",
        "colab": {
          "base_uri": "https://localhost:8080/",
          "height": 35
        }
      },
      "source": [
        "# Boolean\n",
        "year1 = 2020\n",
        "year2 = 2021\n",
        "year1 == '2020'\n",
        "\n"
      ],
      "execution_count": null,
      "outputs": [
        {
          "output_type": "execute_result",
          "data": {
            "text/plain": [
              "False"
            ]
          },
          "metadata": {
            "tags": []
          },
          "execution_count": 34
        }
      ]
    },
    {
      "cell_type": "markdown",
      "metadata": {
        "id": "NmPkPgY0g_EP"
      },
      "source": [
        "### Lists\n",
        "\n",
        "*   Ordered collection of objects\n",
        "*   The objects in a list can have different data types\n",
        "*   Lists are **mutable**\n",
        "\n",
        "\n",
        "\n"
      ]
    },
    {
      "cell_type": "code",
      "metadata": {
        "id": "c4sorKgriC9W"
      },
      "source": [
        "nums = [1,2,3,4,5,6,7]\n",
        "days = [\"Monday\", \"Tuesday\", \"Wednesday\", \"Thursday\", \"Friday\"]"
      ],
      "execution_count": null,
      "outputs": []
    },
    {
      "cell_type": "code",
      "metadata": {
        "id": "4ZVnAmajn45p",
        "outputId": "760ae1da-a211-4dec-d4e9-ce7827395fb7",
        "colab": {
          "base_uri": "https://localhost:8080/",
          "height": 35
        }
      },
      "source": [
        "# Each objects in a list is called a list item and can be accessed by its index\n",
        "# Lists follow 0-based indexing \n",
        "\n",
        "first_day = days[0]\n",
        "print(first_day)"
      ],
      "execution_count": null,
      "outputs": [
        {
          "output_type": "stream",
          "text": [
            "Monday\n"
          ],
          "name": "stdout"
        }
      ]
    },
    {
      "cell_type": "code",
      "metadata": {
        "id": "-Me0zVtUn6tA",
        "outputId": "11b0cf76-dab5-4920-dfb3-86bca43bb85f",
        "colab": {
          "base_uri": "https://localhost:8080/",
          "height": 35
        }
      },
      "source": [
        "#Length of a list is the number of elements in it\n",
        "print(len(days))\n",
        "\n",
        "days.append(4)"
      ],
      "execution_count": null,
      "outputs": [
        {
          "output_type": "stream",
          "text": [
            "5\n"
          ],
          "name": "stdout"
        }
      ]
    },
    {
      "cell_type": "markdown",
      "metadata": {
        "id": "qAJ6UcWcrRg2"
      },
      "source": [
        "### Tuples\n",
        "\n",
        "*   Immutable version of Lists\n",
        "*   The elements of a tuple **cannot be modified**"
      ]
    },
    {
      "cell_type": "code",
      "metadata": {
        "id": "tbhoy6HYrREV",
        "outputId": "6f5500f0-a659-4bce-f750-2c535e9cd5db",
        "colab": {
          "base_uri": "https://localhost:8080/",
          "height": 35
        }
      },
      "source": [
        "nums = (2,4,4,2,2,1,3)\n",
        "nums"
      ],
      "execution_count": null,
      "outputs": [
        {
          "output_type": "execute_result",
          "data": {
            "text/plain": [
              "(2, 4, 4, 2, 2, 1, 3)"
            ]
          },
          "metadata": {
            "tags": []
          },
          "execution_count": 38
        }
      ]
    },
    {
      "cell_type": "code",
      "metadata": {
        "id": "1HzM0oQssWJC"
      },
      "source": [
        "# Trying to modify tuple elements results in an error\n",
        "# nums[0] = 3"
      ],
      "execution_count": null,
      "outputs": []
    },
    {
      "cell_type": "markdown",
      "metadata": {
        "id": "ddXWBjQcpT2z"
      },
      "source": [
        "### Dictionaries\n",
        "\n",
        "*   Collection of key/value pairs\n",
        "*   The keys in a dictionary must be unique and immutable\n",
        "*   Dictionaries are **mutable**\n"
      ]
    },
    {
      "cell_type": "code",
      "metadata": {
        "id": "KsAnFtnuppd0",
        "outputId": "c9d4d9f8-540f-4596-f8dc-dcd8b48e58b1",
        "colab": {
          "base_uri": "https://localhost:8080/",
          "height": 35
        }
      },
      "source": [
        "grades = {\"CS1010\": 4, \"CS1231\": 4.5, \"MA1101R\":5, \"GER1000\":3.5}\n",
        "\n",
        "# The values in a dictinory can be accessed using the corresponding key\n",
        "grades['CS1010']"
      ],
      "execution_count": null,
      "outputs": [
        {
          "output_type": "execute_result",
          "data": {
            "text/plain": [
              "4"
            ]
          },
          "metadata": {
            "tags": []
          },
          "execution_count": 40
        }
      ]
    },
    {
      "cell_type": "code",
      "metadata": {
        "id": "Ov5_tswOrR8Y",
        "outputId": "8c8876b1-0e6e-489f-c6de-a25021150de4",
        "colab": {
          "base_uri": "https://localhost:8080/",
          "height": 35
        }
      },
      "source": [
        "grades[\"CS2040\"] = 4.5\n",
        "grades[\"GER1000\"] = 'S'\n",
        "\n",
        "grades"
      ],
      "execution_count": null,
      "outputs": [
        {
          "output_type": "execute_result",
          "data": {
            "text/plain": [
              "{'CS1010': 4, 'CS1231': 4.5, 'CS2040': 4.5, 'GER1000': 'S', 'MA1101R': 5}"
            ]
          },
          "metadata": {
            "tags": []
          },
          "execution_count": 41
        }
      ]
    },
    {
      "cell_type": "code",
      "metadata": {
        "id": "DYyw02Jpqy9S",
        "outputId": "9d062819-e965-4597-b02d-7dcbe342b08c",
        "colab": {
          "base_uri": "https://localhost:8080/",
          "height": 104
        }
      },
      "source": [
        "#Iterating through a dictionary\n",
        "for k,v in grades.items():\n",
        "  print(k,v)"
      ],
      "execution_count": null,
      "outputs": [
        {
          "output_type": "stream",
          "text": [
            "CS1010 4\n",
            "CS1231 4.5\n",
            "MA1101R 5\n",
            "GER1000 S\n",
            "CS2040 4.5\n"
          ],
          "name": "stdout"
        }
      ]
    },
    {
      "cell_type": "markdown",
      "metadata": {
        "id": "CsrhLoERr1sv"
      },
      "source": [
        "# Operators\n",
        "Used to perform operations on variables and objects to return another object\n",
        "\n"
      ]
    },
    {
      "cell_type": "markdown",
      "metadata": {
        "id": "w6uXDO-bTCz7"
      },
      "source": [
        "### Arithmetic Operators\n",
        "\n",
        "| Operator   | Name   | Expression  | Description      |\n",
        "|:------------|:--------|:-------------|:------------------|\n",
        "| +   | Addition     |i + j   | Sum of i and j                 |\n",
        "| -   | Subtraction     |i - j   | Difference of i and j          |\n",
        "| *   |  Multiplication    |i * j   | Product of i and j             |\n",
        "| /   |  Division    |i / j   | i divided by j                 |\n",
        "| //  |  Integer Division    |i // j  | Quotient when i is divided by j |\n",
        "| %   |  Modulus    |i % j   | Remainder when i is divided by j |\n",
        "| **  |  Exponentiation    |i ** j  | i raised to the power j    |\n",
        "| +=  |  Assignment Shortcut    |i += j  | Equivalent to x = x + y  (*= and -= work similarly)                 |"
      ]
    },
    {
      "cell_type": "code",
      "metadata": {
        "id": "cB2RaMSblnYC",
        "outputId": "466c7097-4a71-43c1-b5c1-3e432881d26a",
        "colab": {
          "base_uri": "https://localhost:8080/"
        }
      },
      "source": [
        "2 + 3"
      ],
      "execution_count": null,
      "outputs": [
        {
          "output_type": "execute_result",
          "data": {
            "text/plain": [
              "5"
            ]
          },
          "metadata": {
            "tags": []
          },
          "execution_count": 43
        }
      ]
    },
    {
      "cell_type": "code",
      "metadata": {
        "id": "712k1zLKmC2j",
        "outputId": "e53b0615-4aee-4d0a-9c48-8a3a87cfe49d",
        "colab": {
          "base_uri": "https://localhost:8080/"
        }
      },
      "source": [
        "10 % 7"
      ],
      "execution_count": null,
      "outputs": [
        {
          "output_type": "execute_result",
          "data": {
            "text/plain": [
              "3"
            ]
          },
          "metadata": {
            "tags": []
          },
          "execution_count": 44
        }
      ]
    },
    {
      "cell_type": "code",
      "metadata": {
        "id": "4Puc8cy2mHoA",
        "outputId": "dda47ac9-69bd-4feb-b346-e051a8104599",
        "colab": {
          "base_uri": "https://localhost:8080/"
        }
      },
      "source": [
        "2**5"
      ],
      "execution_count": null,
      "outputs": [
        {
          "output_type": "execute_result",
          "data": {
            "text/plain": [
              "32"
            ]
          },
          "metadata": {
            "tags": []
          },
          "execution_count": 45
        }
      ]
    },
    {
      "cell_type": "code",
      "metadata": {
        "id": "tmCWiIENmLcu",
        "outputId": "9708d43e-b08f-40c1-a1bd-6134f0ca087b",
        "colab": {
          "base_uri": "https://localhost:8080/"
        }
      },
      "source": [
        "x = 5\n",
        "x += 10\n",
        "x"
      ],
      "execution_count": null,
      "outputs": [
        {
          "output_type": "execute_result",
          "data": {
            "text/plain": [
              "15"
            ]
          },
          "metadata": {
            "tags": []
          },
          "execution_count": 46
        }
      ]
    },
    {
      "cell_type": "markdown",
      "metadata": {
        "id": "IWNHnzG9lnJM"
      },
      "source": [
        "### Comparison & Logical Operators\n",
        "Comparison and logical operators always return a True or False boolean object \n",
        "\n",
        "| Operator   | Name   | Expression  | Description      |\n",
        "|:------------|:--------|:-------------|:------------------|\n",
        "| ==   | Equal to     | a == b  | Returns True if a is equal to b                 |\n",
        "| !=  | Not equal to     |a != b   | Returns True if a is not equal to b          |\n",
        "| >  |  Greater than    |a > b   | Returns True if a is greater than b             |\n",
        "| <  |  Less than    |a < b   |  Returns True if a is less than b                 |\n",
        "| >=  |  Greater than or equal to    |a >= b  |  Returns True if a is greater than or equal to b |\n",
        "| <=  |  Less than or equal to    |a <= b  |  Returns True if a is less than or equal to b |\n",
        "| and  |  Logical AND   |a > 10 and b > 100  |Returns True if both expressions are true   |\n",
        "| or |  Logical OR    |a < 5 or a > 20  | Returns True if either expression is true        |\n",
        "| not |  Logical NOT    |not(a < 5 or a > 20)  | Returns the logical inverse of the expression|\n",
        "\n",
        "\n"
      ]
    },
    {
      "cell_type": "code",
      "metadata": {
        "id": "PZ5rWOO1sazQ",
        "outputId": "c59039ca-48a7-45cf-87de-c8919a573638",
        "colab": {
          "base_uri": "https://localhost:8080/"
        }
      },
      "source": [
        "a = 10\n",
        "b = 15\n",
        "a == b\n"
      ],
      "execution_count": null,
      "outputs": [
        {
          "output_type": "execute_result",
          "data": {
            "text/plain": [
              "False"
            ]
          },
          "metadata": {
            "tags": []
          },
          "execution_count": 47
        }
      ]
    },
    {
      "cell_type": "code",
      "metadata": {
        "id": "ho6n1_UkskFi",
        "outputId": "3bfd0e6d-dba7-4710-9874-d2ff9a377337",
        "colab": {
          "base_uri": "https://localhost:8080/"
        }
      },
      "source": [
        "a != b"
      ],
      "execution_count": null,
      "outputs": [
        {
          "output_type": "execute_result",
          "data": {
            "text/plain": [
              "True"
            ]
          },
          "metadata": {
            "tags": []
          },
          "execution_count": 48
        }
      ]
    },
    {
      "cell_type": "code",
      "metadata": {
        "id": "cUaexALUsoHv",
        "outputId": "65f0f8be-2a9d-4226-f4f5-0b070d81e9f9",
        "colab": {
          "base_uri": "https://localhost:8080/"
        }
      },
      "source": [
        "a > 3 and b < 20"
      ],
      "execution_count": null,
      "outputs": [
        {
          "output_type": "execute_result",
          "data": {
            "text/plain": [
              "True"
            ]
          },
          "metadata": {
            "tags": []
          },
          "execution_count": 49
        }
      ]
    },
    {
      "cell_type": "markdown",
      "metadata": {
        "id": "uQS3zaLBEbeI"
      },
      "source": [
        "# Conditionals (if statements)\n",
        "Conditional statements help us execute different lines of code for different situations\n",
        "\n"
      ]
    },
    {
      "cell_type": "code",
      "metadata": {
        "id": "jwRPwcliYVtK",
        "outputId": "8c5b7d06-5941-4403-b15d-a8dcd076f1a9",
        "colab": {
          "base_uri": "https://localhost:8080/"
        }
      },
      "source": [
        "x = 10\n",
        "y = 90\n",
        "\n",
        "if(x > 20 or y < 100):\n",
        "    print(\"Condition is true\")"
      ],
      "execution_count": null,
      "outputs": [
        {
          "output_type": "stream",
          "text": [
            "Condition is true\n"
          ],
          "name": "stdout"
        }
      ]
    },
    {
      "cell_type": "code",
      "metadata": {
        "id": "K5QQgxyrFvtx",
        "outputId": "385ca7c1-85ad-4ede-a275-727c1ae4a03b",
        "colab": {
          "base_uri": "https://localhost:8080/"
        }
      },
      "source": [
        "num = 20\n",
        "\n",
        "if (num == 20):\n",
        "    print('Number is 20')\n",
        "\n",
        "elif (num > 20):\n",
        "    print('Number is greater than 20')\n",
        "\n",
        "else:\n",
        "    print('Number is less than 20')"
      ],
      "execution_count": null,
      "outputs": [
        {
          "output_type": "stream",
          "text": [
            "Number is 20\n"
          ],
          "name": "stdout"
        }
      ]
    },
    {
      "cell_type": "markdown",
      "metadata": {
        "id": "gckyBk2fs5MS"
      },
      "source": [
        "# Loops \n",
        "\n",
        "*   Loops help us easily **repeat tasks**\n",
        "*   Reduces the amount of code we need to write\n",
        "\n",
        "\n"
      ]
    },
    {
      "cell_type": "markdown",
      "metadata": {
        "id": "QUgvO27IvouU"
      },
      "source": [
        "## For Loops\n",
        "\n",
        "*   For loops help us iterate over a sequence (like a list, dictionary or string) and execute a statement for every item in the sequence\n",
        "*   Most commonly used loop in python\n",
        "\n",
        "---\n",
        "Syntax\n",
        "```\n",
        "for <var> in range(start_num, end_num+1, interval):\n",
        "    //loop body to execute statements \n",
        "```\n",
        "\n",
        "```\n",
        "for <var> in list:\n",
        "    //use the item in a statement\n",
        "```\n",
        "\n",
        "\n",
        "\n"
      ]
    },
    {
      "cell_type": "markdown",
      "metadata": {
        "id": "qMFGen0U5df_"
      },
      "source": [
        "### Print numbers from 1-20"
      ]
    },
    {
      "cell_type": "code",
      "metadata": {
        "id": "_zeNT0ses3DT",
        "outputId": "0a8b3ee4-0e5e-4b10-f990-4fb5119615c4",
        "colab": {
          "base_uri": "https://localhost:8080/"
        }
      },
      "source": [
        "# Notice that we put 21 as the second parameter and not 20\n",
        "for i in range(1, 21, 1):\n",
        "    print(i)"
      ],
      "execution_count": null,
      "outputs": [
        {
          "output_type": "stream",
          "text": [
            "1\n",
            "2\n",
            "3\n",
            "4\n",
            "5\n",
            "6\n",
            "7\n",
            "8\n",
            "9\n",
            "10\n",
            "11\n",
            "12\n",
            "13\n",
            "14\n",
            "15\n",
            "16\n",
            "17\n",
            "18\n",
            "19\n",
            "20\n"
          ],
          "name": "stdout"
        }
      ]
    },
    {
      "cell_type": "markdown",
      "metadata": {
        "id": "E4GdGYPd5hVu"
      },
      "source": [
        "### List Iteration"
      ]
    },
    {
      "cell_type": "code",
      "metadata": {
        "id": "ZFGni9mW0R0S",
        "outputId": "173467c1-4e41-4b6e-bbfb-4af53dae1b73",
        "colab": {
          "base_uri": "https://localhost:8080/"
        }
      },
      "source": [
        "colors = ['blue','red','green','yellow']\n",
        "\n",
        "for color in colors:\n",
        "  print(color)\n",
        "\n",
        "# for index in range (len(colors)):\n",
        "#   print(colors[index])\n",
        "\n",
        "# for index, color in enumerate(colors):\n",
        "#   print(index, color)"
      ],
      "execution_count": null,
      "outputs": [
        {
          "output_type": "stream",
          "text": [
            "blue\n",
            "red\n",
            "green\n",
            "yellow\n"
          ],
          "name": "stdout"
        }
      ]
    },
    {
      "cell_type": "markdown",
      "metadata": {
        "id": "qPvAMDTR5sdq"
      },
      "source": [
        "### Dictionary Iteration"
      ]
    },
    {
      "cell_type": "code",
      "metadata": {
        "id": "kM2MUOGJ5q2k",
        "outputId": "4a6714a2-5872-4686-c7d1-28007c35fc03",
        "colab": {
          "base_uri": "https://localhost:8080/"
        }
      },
      "source": [
        "ages = {\"Sam\": 10, \"George\":32, \"John\":20}\n",
        "\n",
        "for k,v in ages.items():\n",
        "    print(k,v)"
      ],
      "execution_count": null,
      "outputs": [
        {
          "output_type": "stream",
          "text": [
            "Sam 10\n",
            "George 32\n",
            "John 20\n"
          ],
          "name": "stdout"
        }
      ]
    },
    {
      "cell_type": "markdown",
      "metadata": {
        "id": "dyAuPchz73zd"
      },
      "source": [
        "### Nested For Loops\n",
        " \n",
        "\n",
        "*   For loops which contain 1 or more for loops in their loop body are called\n",
        "nested for loops.\n",
        "*   Nested for loops are commonly used to iterate over 2-Dimensional Lists (Lists which contain lists)\n"
      ]
    },
    {
      "cell_type": "code",
      "metadata": {
        "id": "Bqe_sBsv7lWR",
        "outputId": "7cd4498a-e8cb-43e1-b0e0-5444fceaa385",
        "colab": {
          "base_uri": "https://localhost:8080/"
        }
      },
      "source": [
        "for i in range(3):\n",
        "  for j in range(5):\n",
        "    print(\"Outer loop value: {outer_val}, inner loop value: {inner_val}\".format(outer_val=i, inner_val=j))"
      ],
      "execution_count": null,
      "outputs": [
        {
          "output_type": "stream",
          "text": [
            "Outer loop value: 0, inner loop value: 0\n",
            "Outer loop value: 0, inner loop value: 1\n",
            "Outer loop value: 0, inner loop value: 2\n",
            "Outer loop value: 0, inner loop value: 3\n",
            "Outer loop value: 0, inner loop value: 4\n",
            "Outer loop value: 1, inner loop value: 0\n",
            "Outer loop value: 1, inner loop value: 1\n",
            "Outer loop value: 1, inner loop value: 2\n",
            "Outer loop value: 1, inner loop value: 3\n",
            "Outer loop value: 1, inner loop value: 4\n",
            "Outer loop value: 2, inner loop value: 0\n",
            "Outer loop value: 2, inner loop value: 1\n",
            "Outer loop value: 2, inner loop value: 2\n",
            "Outer loop value: 2, inner loop value: 3\n",
            "Outer loop value: 2, inner loop value: 4\n"
          ],
          "name": "stdout"
        }
      ]
    },
    {
      "cell_type": "code",
      "metadata": {
        "id": "uNKBHvDJABql",
        "outputId": "1b7247bb-052d-478c-9821-4efe1ce76801",
        "colab": {
          "base_uri": "https://localhost:8080/"
        }
      },
      "source": [
        "list_2D = [[1,2,3], [4,5,6], [7,8,9]]\n",
        "\n",
        "for list_1D in list_2D:\n",
        "  print(list_1D)\n",
        "  for item in list_1D:\n",
        "    print(item)"
      ],
      "execution_count": null,
      "outputs": [
        {
          "output_type": "stream",
          "text": [
            "[1, 2, 3]\n",
            "1\n",
            "2\n",
            "3\n",
            "[4, 5, 6]\n",
            "4\n",
            "5\n",
            "6\n",
            "[7, 8, 9]\n",
            "7\n",
            "8\n",
            "9\n"
          ],
          "name": "stdout"
        }
      ]
    },
    {
      "cell_type": "markdown",
      "metadata": {
        "id": "KDF0P2laAwIr"
      },
      "source": [
        "## While Loops\n",
        "*   Allows to execute commands based on a condition\n",
        "*   The loop ends when the condition evaluates to **False**\n",
        "\n",
        "\n",
        "---\n",
        "Syntax\n",
        "```\n",
        "while(<condition is true>){\n",
        "  //execute statement\n",
        "  \n",
        "  //update condition parameters\n",
        "}\n",
        "```\n",
        "\n",
        "\n"
      ]
    },
    {
      "cell_type": "code",
      "metadata": {
        "id": "HyRutmeYDuSh",
        "outputId": "b3d4e5a5-306e-4736-d9f9-7a21dc521cf9",
        "colab": {
          "base_uri": "https://localhost:8080/"
        }
      },
      "source": [
        "num = 0\n",
        "while(num<=10):\n",
        "  print(num)\n",
        "  num += 2"
      ],
      "execution_count": null,
      "outputs": [
        {
          "output_type": "stream",
          "text": [
            "0\n",
            "2\n",
            "4\n",
            "6\n",
            "8\n",
            "10\n"
          ],
          "name": "stdout"
        }
      ]
    },
    {
      "cell_type": "markdown",
      "metadata": {
        "id": "phKocH6lbRjj"
      },
      "source": [
        "# **Problem Set 1**"
      ]
    },
    {
      "cell_type": "markdown",
      "metadata": {
        "id": "6DQFWTYExPrd"
      },
      "source": [
        "#### **Exercise 1**\n",
        "| Marks | Output message |\n",
        "| -------- | ------- |\n",
        "| >= 80 | Your grade is: A+ |\n",
        "| 70 - 79 | Your grade is: A |\n",
        "| 60 - 69 | Your grade is: B |\n",
        "| < 60 | Your grade is: Pass |\n",
        "\n",
        "#### Based on the table above, print out the appropriate message for the following student's marks\n",
        "\n",
        "Note that the output message should change when the value of `marks` changes"
      ]
    },
    {
      "cell_type": "code",
      "metadata": {
        "id": "LJm2z3fLxrxL"
      },
      "source": [
        "marks = 71\n",
        "\n",
        "# Fill in your code here!"
      ],
      "execution_count": null,
      "outputs": []
    },
    {
      "cell_type": "markdown",
      "metadata": {
        "id": "KTlW_TJgR8TF"
      },
      "source": [
        "#### **Exercise 2**\n",
        "#### Update the value 10 to 20 in this dictionary\n",
        "```\n",
        "{\"Level0\": {\"Level2\": [10]},\n",
        " \"Level1\": [1,2,3]\n",
        "}\n",
        "```\n",
        "\n",
        "\n"
      ]
    },
    {
      "cell_type": "code",
      "metadata": {
        "id": "AFdxbUqKTaqZ",
        "outputId": "c9b5fbdb-0191-427f-e48a-d726ddc96a54",
        "colab": {
          "base_uri": "https://localhost:8080/",
          "height": 35
        }
      },
      "source": [
        "dictionary = {\"Level0\": {\"Level2\": [10]},\"Level1\": [1,2,3]}\n",
        "\n",
        "\n",
        "# Fill in your code here!\n",
        "\n"
      ],
      "execution_count": null,
      "outputs": [
        {
          "output_type": "execute_result",
          "data": {
            "text/plain": [
              "{'Level0': {'Level2': 20}, 'Level1': [1, 2, 3]}"
            ]
          },
          "metadata": {
            "tags": []
          },
          "execution_count": 9
        }
      ]
    },
    {
      "cell_type": "markdown",
      "metadata": {
        "id": "OqNUDm38bueb"
      },
      "source": [
        "#### **Exercise 3**\n",
        "#### Use a for loop to print out all the numbers between 1 and 100 which are divisble by 7\n",
        "(Hint: Use if-statements and the % operator)\n",
        "\n"
      ]
    },
    {
      "cell_type": "code",
      "metadata": {
        "id": "bkqKFb52beNx"
      },
      "source": [
        "for i in range(1,100):\n",
        "    # Fill in your code here!"
      ],
      "execution_count": null,
      "outputs": []
    },
    {
      "cell_type": "markdown",
      "metadata": {
        "id": "98vbb70izs9J"
      },
      "source": [
        "#### **Exercise 4**\n",
        "#### Find and print the mean of all the items in `data`\n",
        "Expected output = 225.33333333333334"
      ]
    },
    {
      "cell_type": "code",
      "metadata": {
        "id": "IbOxG55mSWhm",
        "outputId": "2b7d0891-c494-4eb8-b7d8-9d515b69d75a",
        "colab": {
          "base_uri": "https://localhost:8080/",
          "height": 35
        }
      },
      "source": [
        "data = [2, 13, 65, 88, 243, 5, 1098, 492, 22]\n",
        "\n",
        "# Fill in your code here!\n",
        "\n"
      ],
      "execution_count": null,
      "outputs": [
        {
          "output_type": "stream",
          "text": [
            "225.33333333333334\n"
          ],
          "name": "stdout"
        }
      ]
    },
    {
      "cell_type": "markdown",
      "metadata": {
        "id": "usQO2IT-1Zea"
      },
      "source": [
        "#### **Exercise 5**\n",
        "#### Print out the following pattern of '*' using for loops:\n",
        "\n",
        "```\n",
        "*****\n",
        "*****\n",
        "*****\n",
        "*****\n",
        "```\n",
        "\n"
      ]
    },
    {
      "cell_type": "code",
      "metadata": {
        "id": "Yf0H8uGP1-LD",
        "outputId": "0db16eb0-5526-4ae1-e58f-81458e9b306c",
        "colab": {
          "base_uri": "https://localhost:8080/",
          "height": 104
        }
      },
      "source": [
        "# Fill in you code here!"
      ],
      "execution_count": null,
      "outputs": [
        {
          "output_type": "stream",
          "text": [
            "*****\n",
            "*****\n",
            "*****\n",
            "*****\n",
            "*****\n"
          ],
          "name": "stdout"
        }
      ]
    },
    {
      "cell_type": "markdown",
      "metadata": {
        "id": "8yVRbrD_7U04"
      },
      "source": [
        "#### **Exercise 6**\n",
        "#### Update the following 2D array `data2D` by replacing every element with its square:\n",
        "\n",
        "```\n",
        "arr = [[1,2,3],[23,44,12,34],[91,23,7,0,56],[3,76,4]]\n",
        "updated arr = [[1, 4, 9], [529, 1936, 144, 1156], [8281, 529, 49, 0, 3136], [9, 5776, 16]]\n",
        "```\n",
        "\n"
      ]
    },
    {
      "cell_type": "code",
      "metadata": {
        "id": "kEldO2187MGy",
        "outputId": "7e319f69-bda8-4354-b7f9-6ef74663467d",
        "colab": {
          "base_uri": "https://localhost:8080/",
          "height": 35
        }
      },
      "source": [
        "arr = [[1,2,3],[23,44,12,34],[91,23,7,0,56],[3,76,4]]\n",
        "\n",
        "# Fill in you code here!\n",
        "\n",
        "\n",
        "\n",
        "#Test the Result\n",
        "if(arr == [[1, 4, 9], [529, 1936, 144, 1156], [8281, 529, 49, 0, 3136], [9, 5776, 16]]):\n",
        "  print(\"Correct output, good job!\")\n",
        "else:\n",
        "  print(\"arr has the wrong values, try again\")"
      ],
      "execution_count": null,
      "outputs": [
        {
          "output_type": "stream",
          "text": [
            "Correct output, good job!\n"
          ],
          "name": "stdout"
        }
      ]
    },
    {
      "cell_type": "markdown",
      "metadata": {
        "id": "4S-8fYm33Uq2"
      },
      "source": [
        "#### **Exercise 7** (Challenging)\n",
        "#### Print out the following pattern using **nested** for loops:\n",
        "\n",
        "```\n",
        "1\n",
        "12\n",
        "123\n",
        "1234\n",
        "12345\n",
        "```\n",
        "Hint: The print function prints in a new line for every call by default. \n",
        "<br> You can use `print(111, end = '')` to print the number 111 without going to a new line"
      ]
    },
    {
      "cell_type": "code",
      "metadata": {
        "id": "cKR_yS656UwU",
        "outputId": "d52496f8-c63a-4523-b4df-5aef4e7d59a4",
        "colab": {
          "base_uri": "https://localhost:8080/",
          "height": 69
        }
      },
      "source": [
        "#Example\n",
        "print(1)\n",
        "print(2)\n",
        "print(1, end = '')\n",
        "print(2, end = '')"
      ],
      "execution_count": null,
      "outputs": [
        {
          "output_type": "stream",
          "text": [
            "1\n",
            "2\n",
            "12"
          ],
          "name": "stdout"
        }
      ]
    },
    {
      "cell_type": "code",
      "metadata": {
        "id": "qS7WQi9_3j1p",
        "outputId": "038fbd4c-67a1-4330-e3e5-81fe7ff8d9f2",
        "colab": {
          "base_uri": "https://localhost:8080/",
          "height": 121
        }
      },
      "source": [
        "# Fill in you code here!"
      ],
      "execution_count": null,
      "outputs": [
        {
          "output_type": "stream",
          "text": [
            "\n",
            "1\n",
            "12\n",
            "123\n",
            "1234\n",
            "12345"
          ],
          "name": "stdout"
        }
      ]
    },
    {
      "cell_type": "markdown",
      "metadata": {
        "id": "mhsyNz9tZzwN"
      },
      "source": [
        "# Functions\n",
        "\n",
        "*   Encapsulates a piece of code with an input / output interface.\n",
        "*   Takes in input (parameters) and returns some output (return value)\n",
        "*   Enables code organisation and reuse\n",
        "\n",
        "---\n",
        "Syntax\n",
        "```\n",
        "def <function_name>(<parameter_1>, <parameter_2>,...):\n",
        "    #Do something\n",
        "    return <value>\n",
        "    \n",
        "```\n",
        "\n",
        "*   Functions can take in 0 or more parameters\n",
        "*   If there is no return statement, None (null value) is returned by default\n",
        "\n",
        "\n",
        "\n",
        "\n",
        "\n",
        "\n",
        "\n",
        "\n",
        "\n",
        "\n"
      ]
    },
    {
      "cell_type": "code",
      "metadata": {
        "id": "yLoGsjC1ZyLQ",
        "outputId": "5d4181b5-e021-46ef-e03a-cfec37112559",
        "colab": {
          "base_uri": "https://localhost:8080/",
          "height": 35
        }
      },
      "source": [
        "def greet(name, time):\n",
        "    if(time<1200):\n",
        "      print(\"Good morning {}!\".format(name))\n",
        "    elif(time<1600):\n",
        "      print(\"Good afternoon {}!\".format(name))\n",
        "    elif(time<2100):\n",
        "      print(\"Good evening {}!\".format(name))\n",
        "    else:\n",
        "      print(\"Good night {}!\".format(name))\n",
        "\n",
        "greet(\"Garry\", 1400)"
      ],
      "execution_count": null,
      "outputs": [
        {
          "output_type": "stream",
          "text": [
            "Good afternoon Garry!\n"
          ],
          "name": "stdout"
        }
      ]
    },
    {
      "cell_type": "code",
      "metadata": {
        "id": "gsnuqLHyhu5q",
        "outputId": "8939156a-d152-4d9c-f532-e37fbcc03e55",
        "colab": {
          "base_uri": "https://localhost:8080/",
          "height": 35
        }
      },
      "source": [
        "def cube(num):\n",
        "  return num**3\n",
        "\n",
        "x = cube(7)\n",
        "y = cube(10)\n",
        "\n",
        "print(x+y)"
      ],
      "execution_count": null,
      "outputs": [
        {
          "output_type": "stream",
          "text": [
            "1343\n"
          ],
          "name": "stdout"
        }
      ]
    },
    {
      "cell_type": "markdown",
      "metadata": {
        "id": "s2158_Lmta_W"
      },
      "source": [
        "# Classes\n",
        "\n",
        "\n",
        "*  Blueprints for creating custom user-defined objects\n",
        "*  Helps organise code with similar poperties and functions, enabling reusability and improving readability\n",
        "---\n",
        "Syntax\n",
        "```\n",
        "class <class_name>:\n",
        "    #Constant Properties\n",
        "    ...\n",
        "\n",
        "    #Constructor\n",
        "    def __init__(self, <var1>, <var2>):\n",
        "         self.var1 = var1\n",
        "         self.var2 = var2\n",
        "    \n",
        "    #Custom methods\n",
        "    ...\n",
        "    \n",
        "```\n"
      ]
    },
    {
      "cell_type": "code",
      "metadata": {
        "id": "0uv_fTa8ENFK",
        "outputId": "2edce051-f4ef-446c-970b-33bfc162a5db",
        "colab": {
          "base_uri": "https://localhost:8080/",
          "height": 87
        }
      },
      "source": [
        "class Student:\n",
        "    def __init__(self, name, dob, university, course ):\n",
        "        self.name = name\n",
        "        self.dob = dob\n",
        "        self.university = university\n",
        "        self.course = course\n",
        "    def get_info(self):\n",
        "        print(self.name)\n",
        "        print(self.dob)\n",
        "        print(self.university)\n",
        "        print(self.course)\n",
        "\n",
        "\n",
        "\n",
        "stud1 = Student('John', '12/3/12', 'NUS', 'CS')\n",
        "stud2 = Student('Ted', '12/3/12', 'NTU', 'Business')\n",
        "\n",
        "stud1.get_info()"
      ],
      "execution_count": null,
      "outputs": [
        {
          "output_type": "stream",
          "text": [
            "John\n",
            "12/3/12\n",
            "NUS\n",
            "CS\n"
          ],
          "name": "stdout"
        }
      ]
    },
    {
      "cell_type": "markdown",
      "metadata": {
        "id": "GBA1CMdB2zO6"
      },
      "source": [
        "# **Problem Set 2**"
      ]
    },
    {
      "cell_type": "markdown",
      "metadata": {
        "id": "-dZHtGgj25mv"
      },
      "source": [
        "#### **Exercise 1**\n",
        "#### Write a function named minimum that takes in 2 parameters x and y (both ints) and returns the smaller of the two."
      ]
    },
    {
      "cell_type": "code",
      "metadata": {
        "id": "dtu_qFmN25Gj"
      },
      "source": [
        "# Fill in your code here!"
      ],
      "execution_count": null,
      "outputs": []
    },
    {
      "cell_type": "markdown",
      "metadata": {
        "id": "bXduwTNWKuwv"
      },
      "source": [
        "#### **Exercise 2**\n",
        "#### Write a function named `pattern` that takes in a parameter n and prints out n lines of the following pattern:\n",
        "\n",
        "\n",
        "```\n",
        "input n = 2\n",
        "1\n",
        "22\n",
        "\n",
        "input: n = 5\n",
        "1\n",
        "22\n",
        "333\n",
        "4444\n",
        "55555\n",
        "\n",
        "```\n",
        "\n"
      ]
    },
    {
      "cell_type": "code",
      "metadata": {
        "id": "u8riRUYdRpjn",
        "outputId": "517be31a-0679-4b28-8f96-3ca265867eb2",
        "colab": {
          "base_uri": "https://localhost:8080/",
          "height": 104
        }
      },
      "source": [
        "def pattern(n):\n",
        "   # Fill in your code here!"
      ],
      "execution_count": null,
      "outputs": [
        {
          "output_type": "stream",
          "text": [
            "\n",
            "1\n",
            "22\n",
            "333\n",
            "4444"
          ],
          "name": "stdout"
        }
      ]
    },
    {
      "cell_type": "markdown",
      "metadata": {
        "id": "EY62ODtgTBZw"
      },
      "source": [
        "#### **Exercise 3**\n",
        "#### Complete the constructor and methods for the following class"
      ]
    },
    {
      "cell_type": "code",
      "metadata": {
        "id": "LO7MM-Y3Ktre"
      },
      "source": [
        "class Cylinder:\n",
        "    pi = 3.14\n",
        "    \n",
        "    #Initialise the radius and height\n",
        "    def __init__(self, radius, height):\n",
        "      # Fill in your code here!\n",
        "        \n",
        "    #Compute the volume and return it\n",
        "    def volume(self):\n",
        "      # Fill in your code here!\n",
        "\n",
        "    #Compute the surface area and return it\n",
        "    def surface_area(self):\n",
        "      # Fill in your code here!\n",
        "\n"
      ],
      "execution_count": null,
      "outputs": []
    },
    {
      "cell_type": "code",
      "metadata": {
        "id": "RY5ZLKC6VMPf",
        "outputId": "7b5352f7-0db8-4576-ef12-d46e26ecf888",
        "colab": {
          "base_uri": "https://localhost:8080/",
          "height": 52
        }
      },
      "source": [
        "#Test Output\n",
        "cyl = Cylinder(9, 7)\n",
        "\n",
        "if(cyl.volume() == 1780.38):\n",
        "    print(\"Correct volume\")\n",
        "else:\n",
        "    print(\"Wrong volume\")\n",
        "\n",
        "if(cyl.surface_area() == 904.32):\n",
        "    print(\"Correct surface area\")\n",
        "else:\n",
        "    print(\"Wrong surface area\")\n",
        "\n",
        "\n"
      ],
      "execution_count": null,
      "outputs": [
        {
          "output_type": "stream",
          "text": [
            "Correct volume\n",
            "Correct surface area\n"
          ],
          "name": "stdout"
        }
      ]
    },
    {
      "cell_type": "markdown",
      "metadata": {
        "id": "Vqdn6Q98sxoj"
      },
      "source": [
        "# **Data Science Libraries**"
      ]
    },
    {
      "cell_type": "markdown",
      "metadata": {
        "id": "dzWRWpNQdVuR"
      },
      "source": [
        "# Pandas\n",
        "\n",
        "\n",
        "*   One of the most widely used data science libraries\n",
        "*   Used for cleaning, transforming, and analyzing data\n",
        "*   Manipulates data in the form of **DataFrames** (basically a table/spreadsheet in python)\n",
        "\n"
      ]
    },
    {
      "cell_type": "code",
      "metadata": {
        "id": "xKF5PO_Ss-0C"
      },
      "source": [
        "import pandas as pd\n",
        "import numpy as np\n",
        "import matplotlib.pyplot as plt"
      ],
      "execution_count": null,
      "outputs": []
    },
    {
      "cell_type": "markdown",
      "metadata": {
        "id": "h4tDPuN3pcMs"
      },
      "source": [
        "## Creating a DataFrame"
      ]
    },
    {
      "cell_type": "markdown",
      "metadata": {
        "id": "3wopvAn9qyAM"
      },
      "source": [
        "#### From Arrays"
      ]
    },
    {
      "cell_type": "code",
      "metadata": {
        "id": "rUJL6wpqpbbk",
        "outputId": "f7d872a4-81ec-4bf4-c095-88f83e522465",
        "colab": {
          "base_uri": "https://localhost:8080/",
          "height": 529
        }
      },
      "source": [
        "arr = np.random.randint(1, 100, size=(10, 4))\n",
        "print(arr)\n",
        "df = pd.DataFrame(arr)\n",
        "df"
      ],
      "execution_count": null,
      "outputs": [
        {
          "output_type": "stream",
          "text": [
            "[[46 22 86 26]\n",
            " [11 78  8 57]\n",
            " [22 31 88 57]\n",
            " [39 30 64 90]\n",
            " [12 57 69 40]\n",
            " [45 86 64 46]\n",
            " [10 65 96 16]\n",
            " [ 7 25 88 27]\n",
            " [50 75 43 23]\n",
            " [60 48  3 41]]\n"
          ],
          "name": "stdout"
        },
        {
          "output_type": "execute_result",
          "data": {
            "text/html": [
              "<div>\n",
              "<style scoped>\n",
              "    .dataframe tbody tr th:only-of-type {\n",
              "        vertical-align: middle;\n",
              "    }\n",
              "\n",
              "    .dataframe tbody tr th {\n",
              "        vertical-align: top;\n",
              "    }\n",
              "\n",
              "    .dataframe thead th {\n",
              "        text-align: right;\n",
              "    }\n",
              "</style>\n",
              "<table border=\"1\" class=\"dataframe\">\n",
              "  <thead>\n",
              "    <tr style=\"text-align: right;\">\n",
              "      <th></th>\n",
              "      <th>0</th>\n",
              "      <th>1</th>\n",
              "      <th>2</th>\n",
              "      <th>3</th>\n",
              "    </tr>\n",
              "  </thead>\n",
              "  <tbody>\n",
              "    <tr>\n",
              "      <th>0</th>\n",
              "      <td>46</td>\n",
              "      <td>22</td>\n",
              "      <td>86</td>\n",
              "      <td>26</td>\n",
              "    </tr>\n",
              "    <tr>\n",
              "      <th>1</th>\n",
              "      <td>11</td>\n",
              "      <td>78</td>\n",
              "      <td>8</td>\n",
              "      <td>57</td>\n",
              "    </tr>\n",
              "    <tr>\n",
              "      <th>2</th>\n",
              "      <td>22</td>\n",
              "      <td>31</td>\n",
              "      <td>88</td>\n",
              "      <td>57</td>\n",
              "    </tr>\n",
              "    <tr>\n",
              "      <th>3</th>\n",
              "      <td>39</td>\n",
              "      <td>30</td>\n",
              "      <td>64</td>\n",
              "      <td>90</td>\n",
              "    </tr>\n",
              "    <tr>\n",
              "      <th>4</th>\n",
              "      <td>12</td>\n",
              "      <td>57</td>\n",
              "      <td>69</td>\n",
              "      <td>40</td>\n",
              "    </tr>\n",
              "    <tr>\n",
              "      <th>5</th>\n",
              "      <td>45</td>\n",
              "      <td>86</td>\n",
              "      <td>64</td>\n",
              "      <td>46</td>\n",
              "    </tr>\n",
              "    <tr>\n",
              "      <th>6</th>\n",
              "      <td>10</td>\n",
              "      <td>65</td>\n",
              "      <td>96</td>\n",
              "      <td>16</td>\n",
              "    </tr>\n",
              "    <tr>\n",
              "      <th>7</th>\n",
              "      <td>7</td>\n",
              "      <td>25</td>\n",
              "      <td>88</td>\n",
              "      <td>27</td>\n",
              "    </tr>\n",
              "    <tr>\n",
              "      <th>8</th>\n",
              "      <td>50</td>\n",
              "      <td>75</td>\n",
              "      <td>43</td>\n",
              "      <td>23</td>\n",
              "    </tr>\n",
              "    <tr>\n",
              "      <th>9</th>\n",
              "      <td>60</td>\n",
              "      <td>48</td>\n",
              "      <td>3</td>\n",
              "      <td>41</td>\n",
              "    </tr>\n",
              "  </tbody>\n",
              "</table>\n",
              "</div>"
            ],
            "text/plain": [
              "    0   1   2   3\n",
              "0  46  22  86  26\n",
              "1  11  78   8  57\n",
              "2  22  31  88  57\n",
              "3  39  30  64  90\n",
              "4  12  57  69  40\n",
              "5  45  86  64  46\n",
              "6  10  65  96  16\n",
              "7   7  25  88  27\n",
              "8  50  75  43  23\n",
              "9  60  48   3  41"
            ]
          },
          "metadata": {
            "tags": []
          },
          "execution_count": 67
        }
      ]
    },
    {
      "cell_type": "markdown",
      "metadata": {
        "id": "Z319ZSotq38I"
      },
      "source": [
        "#### From Dictionaries"
      ]
    },
    {
      "cell_type": "code",
      "metadata": {
        "id": "tUC2FmSqq8VN",
        "outputId": "85248c2f-0213-47ef-db01-f945a990f61e",
        "colab": {
          "base_uri": "https://localhost:8080/",
          "height": 141
        }
      },
      "source": [
        "data = {'Language': ['Python','Java','C++'], 'Difficulty':['Easy','Medium','High']}\n",
        "pd.DataFrame(data)"
      ],
      "execution_count": null,
      "outputs": [
        {
          "output_type": "execute_result",
          "data": {
            "text/html": [
              "<div>\n",
              "<style scoped>\n",
              "    .dataframe tbody tr th:only-of-type {\n",
              "        vertical-align: middle;\n",
              "    }\n",
              "\n",
              "    .dataframe tbody tr th {\n",
              "        vertical-align: top;\n",
              "    }\n",
              "\n",
              "    .dataframe thead th {\n",
              "        text-align: right;\n",
              "    }\n",
              "</style>\n",
              "<table border=\"1\" class=\"dataframe\">\n",
              "  <thead>\n",
              "    <tr style=\"text-align: right;\">\n",
              "      <th></th>\n",
              "      <th>Language</th>\n",
              "      <th>Difficulty</th>\n",
              "    </tr>\n",
              "  </thead>\n",
              "  <tbody>\n",
              "    <tr>\n",
              "      <th>0</th>\n",
              "      <td>Python</td>\n",
              "      <td>Easy</td>\n",
              "    </tr>\n",
              "    <tr>\n",
              "      <th>1</th>\n",
              "      <td>Java</td>\n",
              "      <td>Medium</td>\n",
              "    </tr>\n",
              "    <tr>\n",
              "      <th>2</th>\n",
              "      <td>C++</td>\n",
              "      <td>High</td>\n",
              "    </tr>\n",
              "  </tbody>\n",
              "</table>\n",
              "</div>"
            ],
            "text/plain": [
              "  Language Difficulty\n",
              "0   Python       Easy\n",
              "1     Java     Medium\n",
              "2      C++       High"
            ]
          },
          "metadata": {
            "tags": []
          },
          "execution_count": 69
        }
      ]
    },
    {
      "cell_type": "markdown",
      "metadata": {
        "id": "jUB0spL9i9fY"
      },
      "source": [
        "### From a Dataset "
      ]
    },
    {
      "cell_type": "code",
      "metadata": {
        "id": "t_W6SeNec9pK",
        "outputId": "b492b8ec-84da-43f1-a23c-ea99605ec73a",
        "colab": {
          "base_uri": "https://localhost:8080/",
          "height": 295
        }
      },
      "source": [
        "# Download dataset from GitHub\n",
        "!wget https://github.com/PopcornData/popcorn-data-website/raw/master/Movie%20Seat%20Data.xlsx"
      ],
      "execution_count": null,
      "outputs": [
        {
          "output_type": "stream",
          "text": [
            "--2020-10-16 05:26:20--  https://github.com/PopcornData/popcorn-data-website/raw/master/Movie%20Seat%20Data.xlsx\n",
            "Resolving github.com (github.com)... 140.82.121.3\n",
            "Connecting to github.com (github.com)|140.82.121.3|:443... connected.\n",
            "HTTP request sent, awaiting response... 302 Found\n",
            "Location: https://raw.githubusercontent.com/PopcornData/popcorn-data-website/master/Movie%20Seat%20Data.xlsx [following]\n",
            "--2020-10-16 05:26:21--  https://raw.githubusercontent.com/PopcornData/popcorn-data-website/master/Movie%20Seat%20Data.xlsx\n",
            "Resolving raw.githubusercontent.com (raw.githubusercontent.com)... 151.101.0.133, 151.101.64.133, 151.101.128.133, ...\n",
            "Connecting to raw.githubusercontent.com (raw.githubusercontent.com)|151.101.0.133|:443... connected.\n",
            "HTTP request sent, awaiting response... 200 OK\n",
            "Length: 3493660 (3.3M) [application/octet-stream]\n",
            "Saving to: ‘Movie Seat Data.xlsx’\n",
            "\n",
            "Movie Seat Data.xls 100%[===================>]   3.33M  --.-KB/s    in 0.1s    \n",
            "\n",
            "2020-10-16 05:26:21 (35.1 MB/s) - ‘Movie Seat Data.xlsx’ saved [3493660/3493660]\n",
            "\n"
          ],
          "name": "stdout"
        }
      ]
    },
    {
      "cell_type": "code",
      "metadata": {
        "id": "1UIReyJ1dkDD",
        "outputId": "bf718ad5-09fe-43f6-8faf-5e208585416e",
        "colab": {
          "base_uri": "https://localhost:8080/",
          "height": 306
        }
      },
      "source": [
        "df = pd.read_excel('Movie Seat Data.xlsx', sheet_name = 1)\n",
        "\n",
        "df.head()"
      ],
      "execution_count": null,
      "outputs": [
        {
          "output_type": "execute_result",
          "data": {
            "text/html": [
              "<div>\n",
              "<style scoped>\n",
              "    .dataframe tbody tr th:only-of-type {\n",
              "        vertical-align: middle;\n",
              "    }\n",
              "\n",
              "    .dataframe tbody tr th {\n",
              "        vertical-align: top;\n",
              "    }\n",
              "\n",
              "    .dataframe thead th {\n",
              "        text-align: right;\n",
              "    }\n",
              "</style>\n",
              "<table border=\"1\" class=\"dataframe\">\n",
              "  <thead>\n",
              "    <tr style=\"text-align: right;\">\n",
              "      <th></th>\n",
              "      <th>Date</th>\n",
              "      <th>Day</th>\n",
              "      <th>Month</th>\n",
              "      <th>Year</th>\n",
              "      <th>Theatre</th>\n",
              "      <th>Hall</th>\n",
              "      <th>Movie</th>\n",
              "      <th>Time</th>\n",
              "      <th>Total Seats</th>\n",
              "      <th>Sold Seats</th>\n",
              "      <th>Percentage Sold</th>\n",
              "      <th>Buy Order</th>\n",
              "      <th>Seat Distb</th>\n",
              "    </tr>\n",
              "  </thead>\n",
              "  <tbody>\n",
              "    <tr>\n",
              "      <th>0</th>\n",
              "      <td>1 Jan 2020</td>\n",
              "      <td>1</td>\n",
              "      <td>Jan</td>\n",
              "      <td>2020</td>\n",
              "      <td>Jcube</td>\n",
              "      <td>JCube Hall 1</td>\n",
              "      <td>Star Wars: The Rise Of Skywalker</td>\n",
              "      <td>10:00</td>\n",
              "      <td>100.0</td>\n",
              "      <td>13.0</td>\n",
              "      <td>0.130000</td>\n",
              "      <td>[['B_7', 'B_6'], ['D_9', 'D_8'], ['A_13', 'A_1...</td>\n",
              "      <td>{'1': 1, '2': 4, '4': 1}</td>\n",
              "    </tr>\n",
              "    <tr>\n",
              "      <th>1</th>\n",
              "      <td>1 Jan 2020</td>\n",
              "      <td>1</td>\n",
              "      <td>Jan</td>\n",
              "      <td>2020</td>\n",
              "      <td>Jcube</td>\n",
              "      <td>JCube Hall 1</td>\n",
              "      <td>Star Wars: The Rise Of Skywalker</td>\n",
              "      <td>13:10</td>\n",
              "      <td>100.0</td>\n",
              "      <td>33.0</td>\n",
              "      <td>0.330000</td>\n",
              "      <td>[['A_11', 'A_10'], ['C_7', 'C_6'], ['C_5', 'C_...</td>\n",
              "      <td>{'1': 4, '2': 11, '7': 1}</td>\n",
              "    </tr>\n",
              "    <tr>\n",
              "      <th>2</th>\n",
              "      <td>1 Jan 2020</td>\n",
              "      <td>1</td>\n",
              "      <td>Jan</td>\n",
              "      <td>2020</td>\n",
              "      <td>Jcube</td>\n",
              "      <td>JCube Hall 1</td>\n",
              "      <td>Star Wars: The Rise Of Skywalker</td>\n",
              "      <td>16:20</td>\n",
              "      <td>100.0</td>\n",
              "      <td>30.0</td>\n",
              "      <td>0.300000</td>\n",
              "      <td>[['B_7', 'B_6'], ['A_10', 'A_11'], ['A_1', 'A_...</td>\n",
              "      <td>{'1': 3, '2': 7, '3': 3, '4': 1}</td>\n",
              "    </tr>\n",
              "    <tr>\n",
              "      <th>3</th>\n",
              "      <td>1 Jan 2020</td>\n",
              "      <td>1</td>\n",
              "      <td>Jan</td>\n",
              "      <td>2020</td>\n",
              "      <td>Jcube</td>\n",
              "      <td>JCube Hall 1</td>\n",
              "      <td>Star Wars: The Rise Of Skywalker</td>\n",
              "      <td>19:30</td>\n",
              "      <td>100.0</td>\n",
              "      <td>29.0</td>\n",
              "      <td>0.290000</td>\n",
              "      <td>[['B_6', 'B_5', 'B_4', 'B_7'], ['B_13', 'B_12'...</td>\n",
              "      <td>{'1': 3, '2': 11, '4': 1}</td>\n",
              "    </tr>\n",
              "    <tr>\n",
              "      <th>4</th>\n",
              "      <td>1 Jan 2020</td>\n",
              "      <td>1</td>\n",
              "      <td>Jan</td>\n",
              "      <td>2020</td>\n",
              "      <td>Jcube</td>\n",
              "      <td>JCube Hall 2</td>\n",
              "      <td>Jumanji: The Next Level</td>\n",
              "      <td>16:00</td>\n",
              "      <td>102.0</td>\n",
              "      <td>90.0</td>\n",
              "      <td>0.882353</td>\n",
              "      <td>[['B_7', 'B_6', 'B_5', 'B_4'], ['C_9', 'C_8'],...</td>\n",
              "      <td>{'1': 8, '2': 16, '3': 7, '4': 6, '5': 1}</td>\n",
              "    </tr>\n",
              "  </tbody>\n",
              "</table>\n",
              "</div>"
            ],
            "text/plain": [
              "         Date  ...                                 Seat Distb\n",
              "0  1 Jan 2020  ...                   {'1': 1, '2': 4, '4': 1}\n",
              "1  1 Jan 2020  ...                  {'1': 4, '2': 11, '7': 1}\n",
              "2  1 Jan 2020  ...           {'1': 3, '2': 7, '3': 3, '4': 1}\n",
              "3  1 Jan 2020  ...                  {'1': 3, '2': 11, '4': 1}\n",
              "4  1 Jan 2020  ...  {'1': 8, '2': 16, '3': 7, '4': 6, '5': 1}\n",
              "\n",
              "[5 rows x 13 columns]"
            ]
          },
          "metadata": {
            "tags": []
          },
          "execution_count": 5
        }
      ]
    },
    {
      "cell_type": "markdown",
      "metadata": {
        "id": "VqtLPAuqtoqi"
      },
      "source": [
        "## Exploring the Data"
      ]
    },
    {
      "cell_type": "code",
      "metadata": {
        "id": "uEGWlUPQtyfc",
        "outputId": "a6dcd0d2-b3b4-4394-e65d-2407d228a85a",
        "colab": {
          "base_uri": "https://localhost:8080/",
          "height": 104
        }
      },
      "source": [
        "print(df.columns)\n",
        "print(df.index)"
      ],
      "execution_count": null,
      "outputs": [
        {
          "output_type": "stream",
          "text": [
            "Index(['Date', 'Day', 'Month', 'Year', 'Theatre', 'Hall', 'Movie', 'Time',\n",
            "       'Total Seats', 'Sold Seats', 'Percentage Sold', 'Buy Order',\n",
            "       'Seat Distb'],\n",
            "      dtype='object')\n",
            "RangeIndex(start=0, stop=11350, step=1)\n"
          ],
          "name": "stdout"
        }
      ]
    },
    {
      "cell_type": "code",
      "metadata": {
        "id": "TG1bzxoRuKg4",
        "outputId": "6b0824c8-5a88-491c-e34b-517fc197b0ab",
        "colab": {
          "base_uri": "https://localhost:8080/",
          "height": 294
        }
      },
      "source": [
        "df.describe()"
      ],
      "execution_count": null,
      "outputs": [
        {
          "output_type": "execute_result",
          "data": {
            "text/html": [
              "<div>\n",
              "<style scoped>\n",
              "    .dataframe tbody tr th:only-of-type {\n",
              "        vertical-align: middle;\n",
              "    }\n",
              "\n",
              "    .dataframe tbody tr th {\n",
              "        vertical-align: top;\n",
              "    }\n",
              "\n",
              "    .dataframe thead th {\n",
              "        text-align: right;\n",
              "    }\n",
              "</style>\n",
              "<table border=\"1\" class=\"dataframe\">\n",
              "  <thead>\n",
              "    <tr style=\"text-align: right;\">\n",
              "      <th></th>\n",
              "      <th>Day</th>\n",
              "      <th>Year</th>\n",
              "      <th>Total Seats</th>\n",
              "      <th>Sold Seats</th>\n",
              "      <th>Percentage Sold</th>\n",
              "    </tr>\n",
              "  </thead>\n",
              "  <tbody>\n",
              "    <tr>\n",
              "      <th>count</th>\n",
              "      <td>11350.000000</td>\n",
              "      <td>11350.0</td>\n",
              "      <td>11287.000000</td>\n",
              "      <td>11287.000000</td>\n",
              "      <td>11287.000000</td>\n",
              "    </tr>\n",
              "    <tr>\n",
              "      <th>mean</th>\n",
              "      <td>16.046608</td>\n",
              "      <td>2020.0</td>\n",
              "      <td>117.583326</td>\n",
              "      <td>20.975724</td>\n",
              "      <td>0.190912</td>\n",
              "    </tr>\n",
              "    <tr>\n",
              "      <th>std</th>\n",
              "      <td>9.131442</td>\n",
              "      <td>0.0</td>\n",
              "      <td>73.098642</td>\n",
              "      <td>24.763530</td>\n",
              "      <td>0.196191</td>\n",
              "    </tr>\n",
              "    <tr>\n",
              "      <th>min</th>\n",
              "      <td>1.000000</td>\n",
              "      <td>2020.0</td>\n",
              "      <td>28.000000</td>\n",
              "      <td>0.000000</td>\n",
              "      <td>0.000000</td>\n",
              "    </tr>\n",
              "    <tr>\n",
              "      <th>25%</th>\n",
              "      <td>8.000000</td>\n",
              "      <td>2020.0</td>\n",
              "      <td>75.000000</td>\n",
              "      <td>5.000000</td>\n",
              "      <td>0.053333</td>\n",
              "    </tr>\n",
              "    <tr>\n",
              "      <th>50%</th>\n",
              "      <td>17.000000</td>\n",
              "      <td>2020.0</td>\n",
              "      <td>106.000000</td>\n",
              "      <td>13.000000</td>\n",
              "      <td>0.120690</td>\n",
              "    </tr>\n",
              "    <tr>\n",
              "      <th>75%</th>\n",
              "      <td>24.000000</td>\n",
              "      <td>2020.0</td>\n",
              "      <td>148.000000</td>\n",
              "      <td>27.000000</td>\n",
              "      <td>0.259843</td>\n",
              "    </tr>\n",
              "    <tr>\n",
              "      <th>max</th>\n",
              "      <td>31.000000</td>\n",
              "      <td>2020.0</td>\n",
              "      <td>502.000000</td>\n",
              "      <td>287.000000</td>\n",
              "      <td>1.000000</td>\n",
              "    </tr>\n",
              "  </tbody>\n",
              "</table>\n",
              "</div>"
            ],
            "text/plain": [
              "                Day     Year   Total Seats    Sold Seats  Percentage Sold\n",
              "count  11350.000000  11350.0  11287.000000  11287.000000     11287.000000\n",
              "mean      16.046608   2020.0    117.583326     20.975724         0.190912\n",
              "std        9.131442      0.0     73.098642     24.763530         0.196191\n",
              "min        1.000000   2020.0     28.000000      0.000000         0.000000\n",
              "25%        8.000000   2020.0     75.000000      5.000000         0.053333\n",
              "50%       17.000000   2020.0    106.000000     13.000000         0.120690\n",
              "75%       24.000000   2020.0    148.000000     27.000000         0.259843\n",
              "max       31.000000   2020.0    502.000000    287.000000         1.000000"
            ]
          },
          "metadata": {
            "tags": []
          },
          "execution_count": 73
        }
      ]
    },
    {
      "cell_type": "code",
      "metadata": {
        "id": "yJBcJJAweQhq",
        "outputId": "4c051373-7596-4b6c-f1b9-579b75b12336",
        "colab": {
          "base_uri": "https://localhost:8080/",
          "height": 364
        }
      },
      "source": [
        "df.info()"
      ],
      "execution_count": null,
      "outputs": [
        {
          "output_type": "stream",
          "text": [
            "<class 'pandas.core.frame.DataFrame'>\n",
            "RangeIndex: 11350 entries, 0 to 11349\n",
            "Data columns (total 13 columns):\n",
            " #   Column           Non-Null Count  Dtype  \n",
            "---  ------           --------------  -----  \n",
            " 0   Date             11350 non-null  object \n",
            " 1   Day              11350 non-null  int64  \n",
            " 2   Month            11350 non-null  object \n",
            " 3   Year             11350 non-null  int64  \n",
            " 4   Theatre          11350 non-null  object \n",
            " 5   Hall             11350 non-null  object \n",
            " 6   Movie            11350 non-null  object \n",
            " 7   Time             11350 non-null  object \n",
            " 8   Total Seats      11287 non-null  float64\n",
            " 9   Sold Seats       11287 non-null  float64\n",
            " 10  Percentage Sold  11287 non-null  float64\n",
            " 11  Buy Order        11287 non-null  object \n",
            " 12  Seat Distb       11287 non-null  object \n",
            "dtypes: float64(3), int64(2), object(8)\n",
            "memory usage: 1.1+ MB\n"
          ],
          "name": "stdout"
        }
      ]
    },
    {
      "cell_type": "code",
      "metadata": {
        "id": "pe1kWYBCu4Gu",
        "outputId": "dd925f82-8e92-443c-e577-b196749cde52",
        "colab": {
          "base_uri": "https://localhost:8080/",
          "height": 52
        }
      },
      "source": [
        "df['Theatre'].unique()\n",
        "\n",
        "# for col in df:\n",
        "#     print(col, df[col].unique(), '\\n-------------------------\\n')"
      ],
      "execution_count": null,
      "outputs": [
        {
          "output_type": "execute_result",
          "data": {
            "text/plain": [
              "array(['Jcube', 'Jewel', 'Lido', 'Nex', 'Paya_Lebar', 'Seletar',\n",
              "       'Waterway_Point'], dtype=object)"
            ]
          },
          "metadata": {
            "tags": []
          },
          "execution_count": 76
        }
      ]
    },
    {
      "cell_type": "markdown",
      "metadata": {
        "id": "O1_Q0J03wNoS"
      },
      "source": [
        "## Filtering Data\n"
      ]
    },
    {
      "cell_type": "markdown",
      "metadata": {
        "id": "Qx-aF86Dzvlm"
      },
      "source": [
        "#### Getting specific rows for a subset of columns\n"
      ]
    },
    {
      "cell_type": "code",
      "metadata": {
        "id": "V0n2hymvwMs9",
        "outputId": "1d423a0f-bb72-47fb-a142-754d531fb51b",
        "colab": {
          "base_uri": "https://localhost:8080/",
          "height": 386
        }
      },
      "source": [
        "df.loc[0:10, ['Theatre', 'Hall', 'Movie']]"
      ],
      "execution_count": null,
      "outputs": [
        {
          "output_type": "execute_result",
          "data": {
            "text/html": [
              "<div>\n",
              "<style scoped>\n",
              "    .dataframe tbody tr th:only-of-type {\n",
              "        vertical-align: middle;\n",
              "    }\n",
              "\n",
              "    .dataframe tbody tr th {\n",
              "        vertical-align: top;\n",
              "    }\n",
              "\n",
              "    .dataframe thead th {\n",
              "        text-align: right;\n",
              "    }\n",
              "</style>\n",
              "<table border=\"1\" class=\"dataframe\">\n",
              "  <thead>\n",
              "    <tr style=\"text-align: right;\">\n",
              "      <th></th>\n",
              "      <th>Theatre</th>\n",
              "      <th>Hall</th>\n",
              "      <th>Movie</th>\n",
              "    </tr>\n",
              "  </thead>\n",
              "  <tbody>\n",
              "    <tr>\n",
              "      <th>0</th>\n",
              "      <td>Jcube</td>\n",
              "      <td>JCube Hall 1</td>\n",
              "      <td>Star Wars: The Rise Of Skywalker</td>\n",
              "    </tr>\n",
              "    <tr>\n",
              "      <th>1</th>\n",
              "      <td>Jcube</td>\n",
              "      <td>JCube Hall 1</td>\n",
              "      <td>Star Wars: The Rise Of Skywalker</td>\n",
              "    </tr>\n",
              "    <tr>\n",
              "      <th>2</th>\n",
              "      <td>Jcube</td>\n",
              "      <td>JCube Hall 1</td>\n",
              "      <td>Star Wars: The Rise Of Skywalker</td>\n",
              "    </tr>\n",
              "    <tr>\n",
              "      <th>3</th>\n",
              "      <td>Jcube</td>\n",
              "      <td>JCube Hall 1</td>\n",
              "      <td>Star Wars: The Rise Of Skywalker</td>\n",
              "    </tr>\n",
              "    <tr>\n",
              "      <th>4</th>\n",
              "      <td>Jcube</td>\n",
              "      <td>JCube Hall 2</td>\n",
              "      <td>Jumanji: The Next Level</td>\n",
              "    </tr>\n",
              "    <tr>\n",
              "      <th>5</th>\n",
              "      <td>Jcube</td>\n",
              "      <td>JCube Hall 2</td>\n",
              "      <td>Spies In Disguise</td>\n",
              "    </tr>\n",
              "    <tr>\n",
              "      <th>6</th>\n",
              "      <td>Jcube</td>\n",
              "      <td>JCube Hall 2</td>\n",
              "      <td>Spies In Disguise</td>\n",
              "    </tr>\n",
              "    <tr>\n",
              "      <th>7</th>\n",
              "      <td>Jcube</td>\n",
              "      <td>JCube Hall 2</td>\n",
              "      <td>Spies In Disguise</td>\n",
              "    </tr>\n",
              "    <tr>\n",
              "      <th>8</th>\n",
              "      <td>Jcube</td>\n",
              "      <td>JCube Hall 3</td>\n",
              "      <td>Star Wars: The Rise Of Skywalker</td>\n",
              "    </tr>\n",
              "    <tr>\n",
              "      <th>9</th>\n",
              "      <td>Jcube</td>\n",
              "      <td>JCube Hall 3</td>\n",
              "      <td>Star Wars: The Rise Of Skywalker</td>\n",
              "    </tr>\n",
              "    <tr>\n",
              "      <th>10</th>\n",
              "      <td>Jcube</td>\n",
              "      <td>JCube Hall 3</td>\n",
              "      <td>Star Wars: The Rise Of Skywalker</td>\n",
              "    </tr>\n",
              "  </tbody>\n",
              "</table>\n",
              "</div>"
            ],
            "text/plain": [
              "   Theatre          Hall                             Movie\n",
              "0    Jcube  JCube Hall 1  Star Wars: The Rise Of Skywalker\n",
              "1    Jcube  JCube Hall 1  Star Wars: The Rise Of Skywalker\n",
              "2    Jcube  JCube Hall 1  Star Wars: The Rise Of Skywalker\n",
              "3    Jcube  JCube Hall 1  Star Wars: The Rise Of Skywalker\n",
              "4    Jcube  JCube Hall 2           Jumanji: The Next Level\n",
              "5    Jcube  JCube Hall 2                 Spies In Disguise\n",
              "6    Jcube  JCube Hall 2                 Spies In Disguise\n",
              "7    Jcube  JCube Hall 2                 Spies In Disguise\n",
              "8    Jcube  JCube Hall 3  Star Wars: The Rise Of Skywalker\n",
              "9    Jcube  JCube Hall 3  Star Wars: The Rise Of Skywalker\n",
              "10   Jcube  JCube Hall 3  Star Wars: The Rise Of Skywalker"
            ]
          },
          "metadata": {
            "tags": []
          },
          "execution_count": 77
        }
      ]
    },
    {
      "cell_type": "markdown",
      "metadata": {
        "id": "pKHx1fky0HyF"
      },
      "source": [
        "#### Conditional Filtering"
      ]
    },
    {
      "cell_type": "code",
      "metadata": {
        "id": "R2l_nLMa27D3",
        "outputId": "ac57647e-f4a3-416b-a4cd-4eafad241500",
        "colab": {
          "base_uri": "https://localhost:8080/",
          "height": 306
        }
      },
      "source": [
        "#Singal value filtering\n",
        "df[df['Day'] == 13].head()\n",
        "\n",
        "#Filteting based on range of values\n",
        "# df[df['Day'].isin([1,3,5])]"
      ],
      "execution_count": null,
      "outputs": [
        {
          "output_type": "execute_result",
          "data": {
            "text/html": [
              "<div>\n",
              "<style scoped>\n",
              "    .dataframe tbody tr th:only-of-type {\n",
              "        vertical-align: middle;\n",
              "    }\n",
              "\n",
              "    .dataframe tbody tr th {\n",
              "        vertical-align: top;\n",
              "    }\n",
              "\n",
              "    .dataframe thead th {\n",
              "        text-align: right;\n",
              "    }\n",
              "</style>\n",
              "<table border=\"1\" class=\"dataframe\">\n",
              "  <thead>\n",
              "    <tr style=\"text-align: right;\">\n",
              "      <th></th>\n",
              "      <th>Date</th>\n",
              "      <th>Day</th>\n",
              "      <th>Month</th>\n",
              "      <th>Year</th>\n",
              "      <th>Theatre</th>\n",
              "      <th>Hall</th>\n",
              "      <th>Movie</th>\n",
              "      <th>Time</th>\n",
              "      <th>Total Seats</th>\n",
              "      <th>Sold Seats</th>\n",
              "      <th>Percentage Sold</th>\n",
              "      <th>Buy Order</th>\n",
              "      <th>Seat Distb</th>\n",
              "    </tr>\n",
              "  </thead>\n",
              "  <tbody>\n",
              "    <tr>\n",
              "      <th>4551</th>\n",
              "      <td>13 Jan 2020</td>\n",
              "      <td>13</td>\n",
              "      <td>Jan</td>\n",
              "      <td>2020</td>\n",
              "      <td>Jcube</td>\n",
              "      <td>JCube Hall 1</td>\n",
              "      <td>Spies In Disguise</td>\n",
              "      <td>10:00</td>\n",
              "      <td>100.0</td>\n",
              "      <td>2.0</td>\n",
              "      <td>0.02</td>\n",
              "      <td>[['A_11', 'A_10']]</td>\n",
              "      <td>{'2': 1}</td>\n",
              "    </tr>\n",
              "    <tr>\n",
              "      <th>4552</th>\n",
              "      <td>13 Jan 2020</td>\n",
              "      <td>13</td>\n",
              "      <td>Jan</td>\n",
              "      <td>2020</td>\n",
              "      <td>Jcube</td>\n",
              "      <td>JCube Hall 1</td>\n",
              "      <td>Spies In Disguise</td>\n",
              "      <td>15:30</td>\n",
              "      <td>100.0</td>\n",
              "      <td>14.0</td>\n",
              "      <td>0.14</td>\n",
              "      <td>[['C_6', 'C_5'], ['E_15', 'E_14'], ['C_8', 'C_...</td>\n",
              "      <td>{'2': 4, '6': 1}</td>\n",
              "    </tr>\n",
              "    <tr>\n",
              "      <th>4553</th>\n",
              "      <td>13 Jan 2020</td>\n",
              "      <td>13</td>\n",
              "      <td>Jan</td>\n",
              "      <td>2020</td>\n",
              "      <td>Jcube</td>\n",
              "      <td>JCube Hall 1</td>\n",
              "      <td>Star Wars: The Rise Of Skywalker</td>\n",
              "      <td>12:20</td>\n",
              "      <td>100.0</td>\n",
              "      <td>6.0</td>\n",
              "      <td>0.06</td>\n",
              "      <td>[['E_8'], ['B_7'], ['E_10'], ['A_10'], ['C_8']...</td>\n",
              "      <td>{'1': 6}</td>\n",
              "    </tr>\n",
              "    <tr>\n",
              "      <th>4554</th>\n",
              "      <td>13 Jan 2020</td>\n",
              "      <td>13</td>\n",
              "      <td>Jan</td>\n",
              "      <td>2020</td>\n",
              "      <td>Jcube</td>\n",
              "      <td>JCube Hall 1</td>\n",
              "      <td>Star Wars: The Rise Of Skywalker</td>\n",
              "      <td>17:50</td>\n",
              "      <td>100.0</td>\n",
              "      <td>15.0</td>\n",
              "      <td>0.15</td>\n",
              "      <td>[['B_7'], ['B_6', 'B_5'], ['D_8'], ['C_9'], ['...</td>\n",
              "      <td>{'1': 5, '2': 5}</td>\n",
              "    </tr>\n",
              "    <tr>\n",
              "      <th>4555</th>\n",
              "      <td>13 Jan 2020</td>\n",
              "      <td>13</td>\n",
              "      <td>Jan</td>\n",
              "      <td>2020</td>\n",
              "      <td>Jcube</td>\n",
              "      <td>JCube Hall 1</td>\n",
              "      <td>Star Wars: The Rise Of Skywalker</td>\n",
              "      <td>21:00</td>\n",
              "      <td>100.0</td>\n",
              "      <td>8.0</td>\n",
              "      <td>0.08</td>\n",
              "      <td>[['D_9'], ['B_7', 'B_6'], ['A_2'], ['C_9', 'C_...</td>\n",
              "      <td>{'1': 3, '2': 1, '3': 1}</td>\n",
              "    </tr>\n",
              "  </tbody>\n",
              "</table>\n",
              "</div>"
            ],
            "text/plain": [
              "             Date  ...                Seat Distb\n",
              "4551  13 Jan 2020  ...                  {'2': 1}\n",
              "4552  13 Jan 2020  ...          {'2': 4, '6': 1}\n",
              "4553  13 Jan 2020  ...                  {'1': 6}\n",
              "4554  13 Jan 2020  ...          {'1': 5, '2': 5}\n",
              "4555  13 Jan 2020  ...  {'1': 3, '2': 1, '3': 1}\n",
              "\n",
              "[5 rows x 13 columns]"
            ]
          },
          "metadata": {
            "tags": []
          },
          "execution_count": 81
        }
      ]
    },
    {
      "cell_type": "code",
      "metadata": {
        "id": "steptRvyzlMU",
        "outputId": "ad64902b-7a32-455b-bcf7-bd8d49a93e37",
        "colab": {
          "base_uri": "https://localhost:8080/",
          "height": 235
        }
      },
      "source": [
        "# Use '&' and '|' instead of 'and' and 'or' for multiple conditions\n",
        "\n",
        "# df[(df['Percentage Sold']==0.8) | (df['Percentage Sold']==0.9)]\n",
        "df_filtered = df[(df['Percentage Sold']>0.8) & (df['Theatre']=='Jcube')]\n",
        "# Reset Index\n",
        "df_filtered = df_filtered.reset_index(drop=True)\n",
        "\n",
        "df_filtered"
      ],
      "execution_count": null,
      "outputs": [
        {
          "output_type": "error",
          "ename": "NameError",
          "evalue": "ignored",
          "traceback": [
            "\u001b[0;31m---------------------------------------------------------------------------\u001b[0m",
            "\u001b[0;31mNameError\u001b[0m                                 Traceback (most recent call last)",
            "\u001b[0;32m<ipython-input-1-7f973a45b776>\u001b[0m in \u001b[0;36m<module>\u001b[0;34m()\u001b[0m\n\u001b[1;32m      2\u001b[0m \u001b[0;34m\u001b[0m\u001b[0m\n\u001b[1;32m      3\u001b[0m \u001b[0;31m# df[(df['Percentage Sold']==0.8) | (df['Percentage Sold']==0.9)]\u001b[0m\u001b[0;34m\u001b[0m\u001b[0;34m\u001b[0m\u001b[0;34m\u001b[0m\u001b[0m\n\u001b[0;32m----> 4\u001b[0;31m \u001b[0mdf_filtered\u001b[0m \u001b[0;34m=\u001b[0m \u001b[0mdf\u001b[0m\u001b[0;34m[\u001b[0m\u001b[0;34m(\u001b[0m\u001b[0mdf\u001b[0m\u001b[0;34m[\u001b[0m\u001b[0;34m'Percentage Sold'\u001b[0m\u001b[0;34m]\u001b[0m\u001b[0;34m>\u001b[0m\u001b[0;36m0.8\u001b[0m\u001b[0;34m)\u001b[0m \u001b[0;34m&\u001b[0m \u001b[0;34m(\u001b[0m\u001b[0mdf\u001b[0m\u001b[0;34m[\u001b[0m\u001b[0;34m'Theatre'\u001b[0m\u001b[0;34m]\u001b[0m\u001b[0;34m==\u001b[0m\u001b[0;34m'Jcube'\u001b[0m\u001b[0;34m)\u001b[0m\u001b[0;34m]\u001b[0m\u001b[0;34m\u001b[0m\u001b[0;34m\u001b[0m\u001b[0m\n\u001b[0m\u001b[1;32m      5\u001b[0m \u001b[0;31m# Reset Index\u001b[0m\u001b[0;34m\u001b[0m\u001b[0;34m\u001b[0m\u001b[0;34m\u001b[0m\u001b[0m\n\u001b[1;32m      6\u001b[0m \u001b[0mdf_filtered\u001b[0m \u001b[0;34m=\u001b[0m \u001b[0mdf_filtered\u001b[0m\u001b[0;34m.\u001b[0m\u001b[0mreset_index\u001b[0m\u001b[0;34m(\u001b[0m\u001b[0mdrop\u001b[0m\u001b[0;34m=\u001b[0m\u001b[0;32mTrue\u001b[0m\u001b[0;34m)\u001b[0m\u001b[0;34m\u001b[0m\u001b[0;34m\u001b[0m\u001b[0m\n",
            "\u001b[0;31mNameError\u001b[0m: name 'df' is not defined"
          ]
        }
      ]
    },
    {
      "cell_type": "markdown",
      "metadata": {
        "id": "YkSXDpyi5VPe"
      },
      "source": [
        "## Missing Values"
      ]
    },
    {
      "cell_type": "markdown",
      "metadata": {
        "id": "MEhnqyuc65hs"
      },
      "source": [
        "*    When working with real world data, there are often a lot of missing alues.\n",
        "*    Pandas provides us functions to easily remove or modify these values "
      ]
    },
    {
      "cell_type": "code",
      "metadata": {
        "id": "4nIc-lLW7LzN",
        "outputId": "e019170f-8cf5-435c-b087-cf83cb695e77",
        "colab": {
          "base_uri": "https://localhost:8080/",
          "height": 202
        }
      },
      "source": [
        "missing_df = pd.DataFrame({'A': [2, 3, np.nan, 5, np.nan], 'B':[np.nan, 4, 2, np.nan, 5]})\n",
        "missing_df"
      ],
      "execution_count": null,
      "outputs": [
        {
          "output_type": "execute_result",
          "data": {
            "text/html": [
              "<div>\n",
              "<style scoped>\n",
              "    .dataframe tbody tr th:only-of-type {\n",
              "        vertical-align: middle;\n",
              "    }\n",
              "\n",
              "    .dataframe tbody tr th {\n",
              "        vertical-align: top;\n",
              "    }\n",
              "\n",
              "    .dataframe thead th {\n",
              "        text-align: right;\n",
              "    }\n",
              "</style>\n",
              "<table border=\"1\" class=\"dataframe\">\n",
              "  <thead>\n",
              "    <tr style=\"text-align: right;\">\n",
              "      <th></th>\n",
              "      <th>A</th>\n",
              "      <th>B</th>\n",
              "    </tr>\n",
              "  </thead>\n",
              "  <tbody>\n",
              "    <tr>\n",
              "      <th>0</th>\n",
              "      <td>2.0</td>\n",
              "      <td>NaN</td>\n",
              "    </tr>\n",
              "    <tr>\n",
              "      <th>1</th>\n",
              "      <td>3.0</td>\n",
              "      <td>4.0</td>\n",
              "    </tr>\n",
              "    <tr>\n",
              "      <th>2</th>\n",
              "      <td>NaN</td>\n",
              "      <td>2.0</td>\n",
              "    </tr>\n",
              "    <tr>\n",
              "      <th>3</th>\n",
              "      <td>5.0</td>\n",
              "      <td>NaN</td>\n",
              "    </tr>\n",
              "    <tr>\n",
              "      <th>4</th>\n",
              "      <td>NaN</td>\n",
              "      <td>5.0</td>\n",
              "    </tr>\n",
              "  </tbody>\n",
              "</table>\n",
              "</div>"
            ],
            "text/plain": [
              "     A    B\n",
              "0  2.0  NaN\n",
              "1  3.0  4.0\n",
              "2  NaN  2.0\n",
              "3  5.0  NaN\n",
              "4  NaN  5.0"
            ]
          },
          "metadata": {
            "tags": []
          },
          "execution_count": 83
        }
      ]
    },
    {
      "cell_type": "code",
      "metadata": {
        "id": "UzEgE0GL7c5b",
        "outputId": "0de719ad-efe8-48d7-b3c7-a8d51aed6203",
        "colab": {
          "base_uri": "https://localhost:8080/",
          "height": 79
        }
      },
      "source": [
        "missing_df.dropna(how = 'any')"
      ],
      "execution_count": null,
      "outputs": [
        {
          "output_type": "execute_result",
          "data": {
            "text/html": [
              "<div>\n",
              "<style scoped>\n",
              "    .dataframe tbody tr th:only-of-type {\n",
              "        vertical-align: middle;\n",
              "    }\n",
              "\n",
              "    .dataframe tbody tr th {\n",
              "        vertical-align: top;\n",
              "    }\n",
              "\n",
              "    .dataframe thead th {\n",
              "        text-align: right;\n",
              "    }\n",
              "</style>\n",
              "<table border=\"1\" class=\"dataframe\">\n",
              "  <thead>\n",
              "    <tr style=\"text-align: right;\">\n",
              "      <th></th>\n",
              "      <th>A</th>\n",
              "      <th>B</th>\n",
              "    </tr>\n",
              "  </thead>\n",
              "  <tbody>\n",
              "    <tr>\n",
              "      <th>1</th>\n",
              "      <td>3.0</td>\n",
              "      <td>4.0</td>\n",
              "    </tr>\n",
              "  </tbody>\n",
              "</table>\n",
              "</div>"
            ],
            "text/plain": [
              "     A    B\n",
              "1  3.0  4.0"
            ]
          },
          "metadata": {
            "tags": []
          },
          "execution_count": 84
        }
      ]
    },
    {
      "cell_type": "code",
      "metadata": {
        "id": "lbNT5cQN7-WU",
        "outputId": "f51f9f3c-9c9a-42a0-bf44-a60148261dc3",
        "colab": {
          "base_uri": "https://localhost:8080/",
          "height": 202
        }
      },
      "source": [
        "missing_df.fillna(value = 0)"
      ],
      "execution_count": null,
      "outputs": [
        {
          "output_type": "execute_result",
          "data": {
            "text/html": [
              "<div>\n",
              "<style scoped>\n",
              "    .dataframe tbody tr th:only-of-type {\n",
              "        vertical-align: middle;\n",
              "    }\n",
              "\n",
              "    .dataframe tbody tr th {\n",
              "        vertical-align: top;\n",
              "    }\n",
              "\n",
              "    .dataframe thead th {\n",
              "        text-align: right;\n",
              "    }\n",
              "</style>\n",
              "<table border=\"1\" class=\"dataframe\">\n",
              "  <thead>\n",
              "    <tr style=\"text-align: right;\">\n",
              "      <th></th>\n",
              "      <th>A</th>\n",
              "      <th>B</th>\n",
              "    </tr>\n",
              "  </thead>\n",
              "  <tbody>\n",
              "    <tr>\n",
              "      <th>0</th>\n",
              "      <td>2.0</td>\n",
              "      <td>0.0</td>\n",
              "    </tr>\n",
              "    <tr>\n",
              "      <th>1</th>\n",
              "      <td>3.0</td>\n",
              "      <td>4.0</td>\n",
              "    </tr>\n",
              "    <tr>\n",
              "      <th>2</th>\n",
              "      <td>0.0</td>\n",
              "      <td>2.0</td>\n",
              "    </tr>\n",
              "    <tr>\n",
              "      <th>3</th>\n",
              "      <td>5.0</td>\n",
              "      <td>0.0</td>\n",
              "    </tr>\n",
              "    <tr>\n",
              "      <th>4</th>\n",
              "      <td>0.0</td>\n",
              "      <td>5.0</td>\n",
              "    </tr>\n",
              "  </tbody>\n",
              "</table>\n",
              "</div>"
            ],
            "text/plain": [
              "     A    B\n",
              "0  2.0  0.0\n",
              "1  3.0  4.0\n",
              "2  0.0  2.0\n",
              "3  5.0  0.0\n",
              "4  0.0  5.0"
            ]
          },
          "metadata": {
            "tags": []
          },
          "execution_count": 85
        }
      ]
    },
    {
      "cell_type": "code",
      "metadata": {
        "id": "rZi8kV8B9wwF",
        "outputId": "c29ec101-cedb-45b2-cd6f-274cfc3bb175",
        "colab": {
          "base_uri": "https://localhost:8080/",
          "height": 202
        }
      },
      "source": [
        "pd.isna(missing_df)"
      ],
      "execution_count": null,
      "outputs": [
        {
          "output_type": "execute_result",
          "data": {
            "text/html": [
              "<div>\n",
              "<style scoped>\n",
              "    .dataframe tbody tr th:only-of-type {\n",
              "        vertical-align: middle;\n",
              "    }\n",
              "\n",
              "    .dataframe tbody tr th {\n",
              "        vertical-align: top;\n",
              "    }\n",
              "\n",
              "    .dataframe thead th {\n",
              "        text-align: right;\n",
              "    }\n",
              "</style>\n",
              "<table border=\"1\" class=\"dataframe\">\n",
              "  <thead>\n",
              "    <tr style=\"text-align: right;\">\n",
              "      <th></th>\n",
              "      <th>A</th>\n",
              "      <th>B</th>\n",
              "    </tr>\n",
              "  </thead>\n",
              "  <tbody>\n",
              "    <tr>\n",
              "      <th>0</th>\n",
              "      <td>False</td>\n",
              "      <td>True</td>\n",
              "    </tr>\n",
              "    <tr>\n",
              "      <th>1</th>\n",
              "      <td>False</td>\n",
              "      <td>False</td>\n",
              "    </tr>\n",
              "    <tr>\n",
              "      <th>2</th>\n",
              "      <td>True</td>\n",
              "      <td>False</td>\n",
              "    </tr>\n",
              "    <tr>\n",
              "      <th>3</th>\n",
              "      <td>False</td>\n",
              "      <td>True</td>\n",
              "    </tr>\n",
              "    <tr>\n",
              "      <th>4</th>\n",
              "      <td>True</td>\n",
              "      <td>False</td>\n",
              "    </tr>\n",
              "  </tbody>\n",
              "</table>\n",
              "</div>"
            ],
            "text/plain": [
              "       A      B\n",
              "0  False   True\n",
              "1  False  False\n",
              "2   True  False\n",
              "3  False   True\n",
              "4   True  False"
            ]
          },
          "metadata": {
            "tags": []
          },
          "execution_count": 86
        }
      ]
    },
    {
      "cell_type": "markdown",
      "metadata": {
        "id": "C4a6tXru94DF"
      },
      "source": [
        "## Operations"
      ]
    },
    {
      "cell_type": "code",
      "metadata": {
        "id": "Vl-EFsX693W-",
        "outputId": "296f630b-435d-448c-8cc7-4ffd93299f88",
        "colab": {
          "base_uri": "https://localhost:8080/",
          "height": 306
        }
      },
      "source": [
        "df['Popular'] = df['Percentage Sold']>0.8\n",
        "df['Percentage Sold'] = df['Percentage Sold']*100\n",
        "\n",
        "\n",
        "df.head()\n",
        "\n",
        "#Sorting\n",
        "# df.sort_values(by ='Day', ascending=False)\n",
        "\n",
        "#Creating a column based on another column\n",
        "# df.loc[df['Day'].isin(range(1,8)), 'Week'] = 'Week1'\n",
        "# df.loc[df['Day'].isin(range(8,15)), 'Week'] = 'Week2'\n",
        "# df.loc[df['Day'].isin(range(15,22)), 'Week'] = 'Week3'\n",
        "# df.loc[df['Day'].isin(range(22,32)), 'Week'] = 'Week4'\n"
      ],
      "execution_count": null,
      "outputs": [
        {
          "output_type": "execute_result",
          "data": {
            "text/html": [
              "<div>\n",
              "<style scoped>\n",
              "    .dataframe tbody tr th:only-of-type {\n",
              "        vertical-align: middle;\n",
              "    }\n",
              "\n",
              "    .dataframe tbody tr th {\n",
              "        vertical-align: top;\n",
              "    }\n",
              "\n",
              "    .dataframe thead th {\n",
              "        text-align: right;\n",
              "    }\n",
              "</style>\n",
              "<table border=\"1\" class=\"dataframe\">\n",
              "  <thead>\n",
              "    <tr style=\"text-align: right;\">\n",
              "      <th></th>\n",
              "      <th>Date</th>\n",
              "      <th>Day</th>\n",
              "      <th>Month</th>\n",
              "      <th>Year</th>\n",
              "      <th>Theatre</th>\n",
              "      <th>Hall</th>\n",
              "      <th>Movie</th>\n",
              "      <th>Time</th>\n",
              "      <th>Total Seats</th>\n",
              "      <th>Sold Seats</th>\n",
              "      <th>Percentage Sold</th>\n",
              "      <th>Buy Order</th>\n",
              "      <th>Seat Distb</th>\n",
              "      <th>Popular</th>\n",
              "    </tr>\n",
              "  </thead>\n",
              "  <tbody>\n",
              "    <tr>\n",
              "      <th>0</th>\n",
              "      <td>1 Jan 2020</td>\n",
              "      <td>1</td>\n",
              "      <td>Jan</td>\n",
              "      <td>2020</td>\n",
              "      <td>Jcube</td>\n",
              "      <td>JCube Hall 1</td>\n",
              "      <td>Star Wars: The Rise Of Skywalker</td>\n",
              "      <td>10:00</td>\n",
              "      <td>100.0</td>\n",
              "      <td>13.0</td>\n",
              "      <td>1.300000e+19</td>\n",
              "      <td>[['B_7', 'B_6'], ['D_9', 'D_8'], ['A_13', 'A_1...</td>\n",
              "      <td>{'1': 1, '2': 4, '4': 1}</td>\n",
              "      <td>True</td>\n",
              "    </tr>\n",
              "    <tr>\n",
              "      <th>1</th>\n",
              "      <td>1 Jan 2020</td>\n",
              "      <td>1</td>\n",
              "      <td>Jan</td>\n",
              "      <td>2020</td>\n",
              "      <td>Jcube</td>\n",
              "      <td>JCube Hall 1</td>\n",
              "      <td>Star Wars: The Rise Of Skywalker</td>\n",
              "      <td>13:10</td>\n",
              "      <td>100.0</td>\n",
              "      <td>33.0</td>\n",
              "      <td>3.300000e+19</td>\n",
              "      <td>[['A_11', 'A_10'], ['C_7', 'C_6'], ['C_5', 'C_...</td>\n",
              "      <td>{'1': 4, '2': 11, '7': 1}</td>\n",
              "      <td>True</td>\n",
              "    </tr>\n",
              "    <tr>\n",
              "      <th>2</th>\n",
              "      <td>1 Jan 2020</td>\n",
              "      <td>1</td>\n",
              "      <td>Jan</td>\n",
              "      <td>2020</td>\n",
              "      <td>Jcube</td>\n",
              "      <td>JCube Hall 1</td>\n",
              "      <td>Star Wars: The Rise Of Skywalker</td>\n",
              "      <td>16:20</td>\n",
              "      <td>100.0</td>\n",
              "      <td>30.0</td>\n",
              "      <td>3.000000e+19</td>\n",
              "      <td>[['B_7', 'B_6'], ['A_10', 'A_11'], ['A_1', 'A_...</td>\n",
              "      <td>{'1': 3, '2': 7, '3': 3, '4': 1}</td>\n",
              "      <td>True</td>\n",
              "    </tr>\n",
              "    <tr>\n",
              "      <th>3</th>\n",
              "      <td>1 Jan 2020</td>\n",
              "      <td>1</td>\n",
              "      <td>Jan</td>\n",
              "      <td>2020</td>\n",
              "      <td>Jcube</td>\n",
              "      <td>JCube Hall 1</td>\n",
              "      <td>Star Wars: The Rise Of Skywalker</td>\n",
              "      <td>19:30</td>\n",
              "      <td>100.0</td>\n",
              "      <td>29.0</td>\n",
              "      <td>2.900000e+19</td>\n",
              "      <td>[['B_6', 'B_5', 'B_4', 'B_7'], ['B_13', 'B_12'...</td>\n",
              "      <td>{'1': 3, '2': 11, '4': 1}</td>\n",
              "      <td>True</td>\n",
              "    </tr>\n",
              "    <tr>\n",
              "      <th>4</th>\n",
              "      <td>1 Jan 2020</td>\n",
              "      <td>1</td>\n",
              "      <td>Jan</td>\n",
              "      <td>2020</td>\n",
              "      <td>Jcube</td>\n",
              "      <td>JCube Hall 2</td>\n",
              "      <td>Jumanji: The Next Level</td>\n",
              "      <td>16:00</td>\n",
              "      <td>102.0</td>\n",
              "      <td>90.0</td>\n",
              "      <td>8.823529e+19</td>\n",
              "      <td>[['B_7', 'B_6', 'B_5', 'B_4'], ['C_9', 'C_8'],...</td>\n",
              "      <td>{'1': 8, '2': 16, '3': 7, '4': 6, '5': 1}</td>\n",
              "      <td>True</td>\n",
              "    </tr>\n",
              "  </tbody>\n",
              "</table>\n",
              "</div>"
            ],
            "text/plain": [
              "         Date  Day  ...                                 Seat Distb  Popular\n",
              "0  1 Jan 2020    1  ...                   {'1': 1, '2': 4, '4': 1}     True\n",
              "1  1 Jan 2020    1  ...                  {'1': 4, '2': 11, '7': 1}     True\n",
              "2  1 Jan 2020    1  ...           {'1': 3, '2': 7, '3': 3, '4': 1}     True\n",
              "3  1 Jan 2020    1  ...                  {'1': 3, '2': 11, '4': 1}     True\n",
              "4  1 Jan 2020    1  ...  {'1': 8, '2': 16, '3': 7, '4': 6, '5': 1}     True\n",
              "\n",
              "[5 rows x 14 columns]"
            ]
          },
          "metadata": {
            "tags": []
          },
          "execution_count": 103
        }
      ]
    },
    {
      "cell_type": "markdown",
      "metadata": {
        "id": "samE-FGiBCwS"
      },
      "source": [
        "## Grouping\n",
        "\n",
        "*   The 'groupby' function in pandas allows us to aggregate data based on specific columns to \n",
        "*   Similar to the pivot table function in Excel\n",
        "*   Grouping data makes it easier for us to analyse it\n",
        "\n"
      ]
    },
    {
      "cell_type": "markdown",
      "metadata": {
        "id": "ePRJ_6HqaB4w"
      },
      "source": [
        "#### Popularity of Theatres"
      ]
    },
    {
      "cell_type": "code",
      "metadata": {
        "id": "6c45-xWrBARa",
        "outputId": "e72f2537-b133-4ede-fe54-47ce1ac5df86",
        "colab": {
          "base_uri": "https://localhost:8080/",
          "height": 294
        }
      },
      "source": [
        "df2 = df.groupby(['Theatre']).sum().loc[:,['Total Seats','Sold Seats']]\n",
        "df2"
      ],
      "execution_count": null,
      "outputs": [
        {
          "output_type": "execute_result",
          "data": {
            "text/html": [
              "<div>\n",
              "<style scoped>\n",
              "    .dataframe tbody tr th:only-of-type {\n",
              "        vertical-align: middle;\n",
              "    }\n",
              "\n",
              "    .dataframe tbody tr th {\n",
              "        vertical-align: top;\n",
              "    }\n",
              "\n",
              "    .dataframe thead th {\n",
              "        text-align: right;\n",
              "    }\n",
              "</style>\n",
              "<table border=\"1\" class=\"dataframe\">\n",
              "  <thead>\n",
              "    <tr style=\"text-align: right;\">\n",
              "      <th></th>\n",
              "      <th>Total Seats</th>\n",
              "      <th>Sold Seats</th>\n",
              "    </tr>\n",
              "    <tr>\n",
              "      <th>Theatre</th>\n",
              "      <th></th>\n",
              "      <th></th>\n",
              "    </tr>\n",
              "  </thead>\n",
              "  <tbody>\n",
              "    <tr>\n",
              "      <th>Jcube</th>\n",
              "      <td>160008.0</td>\n",
              "      <td>23409.0</td>\n",
              "    </tr>\n",
              "    <tr>\n",
              "      <th>Jewel</th>\n",
              "      <td>144399.0</td>\n",
              "      <td>23037.0</td>\n",
              "    </tr>\n",
              "    <tr>\n",
              "      <th>Lido</th>\n",
              "      <td>309915.0</td>\n",
              "      <td>61832.0</td>\n",
              "    </tr>\n",
              "    <tr>\n",
              "      <th>Nex</th>\n",
              "      <td>205210.0</td>\n",
              "      <td>43825.0</td>\n",
              "    </tr>\n",
              "    <tr>\n",
              "      <th>Paya_Lebar</th>\n",
              "      <td>158969.0</td>\n",
              "      <td>23653.0</td>\n",
              "    </tr>\n",
              "    <tr>\n",
              "      <th>Seletar</th>\n",
              "      <td>118801.0</td>\n",
              "      <td>17868.0</td>\n",
              "    </tr>\n",
              "    <tr>\n",
              "      <th>Waterway_Point</th>\n",
              "      <td>229861.0</td>\n",
              "      <td>43129.0</td>\n",
              "    </tr>\n",
              "  </tbody>\n",
              "</table>\n",
              "</div>"
            ],
            "text/plain": [
              "                Total Seats  Sold Seats\n",
              "Theatre                                \n",
              "Jcube              160008.0     23409.0\n",
              "Jewel              144399.0     23037.0\n",
              "Lido               309915.0     61832.0\n",
              "Nex                205210.0     43825.0\n",
              "Paya_Lebar         158969.0     23653.0\n",
              "Seletar            118801.0     17868.0\n",
              "Waterway_Point     229861.0     43129.0"
            ]
          },
          "metadata": {
            "tags": []
          },
          "execution_count": 7
        }
      ]
    },
    {
      "cell_type": "code",
      "metadata": {
        "id": "EjRrVXN6es9X",
        "outputId": "f9b373dd-8baf-4487-eb67-f65ba74dc316",
        "colab": {
          "base_uri": "https://localhost:8080/",
          "height": 294
        }
      },
      "source": [
        "\n",
        "df2['Percentage Sold'] = df2['Sold Seats'] / df2['Total Seats'] * 100\n",
        "df2.sort_values(by= 'Percentage Sold')\n"
      ],
      "execution_count": null,
      "outputs": [
        {
          "output_type": "execute_result",
          "data": {
            "text/html": [
              "<div>\n",
              "<style scoped>\n",
              "    .dataframe tbody tr th:only-of-type {\n",
              "        vertical-align: middle;\n",
              "    }\n",
              "\n",
              "    .dataframe tbody tr th {\n",
              "        vertical-align: top;\n",
              "    }\n",
              "\n",
              "    .dataframe thead th {\n",
              "        text-align: right;\n",
              "    }\n",
              "</style>\n",
              "<table border=\"1\" class=\"dataframe\">\n",
              "  <thead>\n",
              "    <tr style=\"text-align: right;\">\n",
              "      <th></th>\n",
              "      <th>Total Seats</th>\n",
              "      <th>Sold Seats</th>\n",
              "      <th>Percentage Sold</th>\n",
              "    </tr>\n",
              "    <tr>\n",
              "      <th>Theatre</th>\n",
              "      <th></th>\n",
              "      <th></th>\n",
              "      <th></th>\n",
              "    </tr>\n",
              "  </thead>\n",
              "  <tbody>\n",
              "    <tr>\n",
              "      <th>Jcube</th>\n",
              "      <td>160008.0</td>\n",
              "      <td>23409.0</td>\n",
              "      <td>14.629894</td>\n",
              "    </tr>\n",
              "    <tr>\n",
              "      <th>Paya_Lebar</th>\n",
              "      <td>158969.0</td>\n",
              "      <td>23653.0</td>\n",
              "      <td>14.879002</td>\n",
              "    </tr>\n",
              "    <tr>\n",
              "      <th>Seletar</th>\n",
              "      <td>118801.0</td>\n",
              "      <td>17868.0</td>\n",
              "      <td>15.040277</td>\n",
              "    </tr>\n",
              "    <tr>\n",
              "      <th>Jewel</th>\n",
              "      <td>144399.0</td>\n",
              "      <td>23037.0</td>\n",
              "      <td>15.953712</td>\n",
              "    </tr>\n",
              "    <tr>\n",
              "      <th>Waterway_Point</th>\n",
              "      <td>229861.0</td>\n",
              "      <td>43129.0</td>\n",
              "      <td>18.763079</td>\n",
              "    </tr>\n",
              "    <tr>\n",
              "      <th>Lido</th>\n",
              "      <td>309915.0</td>\n",
              "      <td>61832.0</td>\n",
              "      <td>19.951277</td>\n",
              "    </tr>\n",
              "    <tr>\n",
              "      <th>Nex</th>\n",
              "      <td>205210.0</td>\n",
              "      <td>43825.0</td>\n",
              "      <td>21.356172</td>\n",
              "    </tr>\n",
              "  </tbody>\n",
              "</table>\n",
              "</div>"
            ],
            "text/plain": [
              "                Total Seats  Sold Seats  Percentage Sold\n",
              "Theatre                                                 \n",
              "Jcube              160008.0     23409.0        14.629894\n",
              "Paya_Lebar         158969.0     23653.0        14.879002\n",
              "Seletar            118801.0     17868.0        15.040277\n",
              "Jewel              144399.0     23037.0        15.953712\n",
              "Waterway_Point     229861.0     43129.0        18.763079\n",
              "Lido               309915.0     61832.0        19.951277\n",
              "Nex                205210.0     43825.0        21.356172"
            ]
          },
          "metadata": {
            "tags": []
          },
          "execution_count": 159
        }
      ]
    },
    {
      "cell_type": "markdown",
      "metadata": {
        "id": "vDTb7kOsaNQR"
      },
      "source": [
        "#### Popularity of Movies"
      ]
    },
    {
      "cell_type": "code",
      "metadata": {
        "id": "CknpE3hGaMFa",
        "outputId": "42347d0d-5aa4-4b72-cd93-72d47fc6e385",
        "colab": {
          "base_uri": "https://localhost:8080/",
          "height": 1000
        }
      },
      "source": [
        "df.groupby(['Movie']).sum().loc[:,['Total Seats','Sold Seats']]"
      ],
      "execution_count": null,
      "outputs": [
        {
          "output_type": "execute_result",
          "data": {
            "text/html": [
              "<div>\n",
              "<style scoped>\n",
              "    .dataframe tbody tr th:only-of-type {\n",
              "        vertical-align: middle;\n",
              "    }\n",
              "\n",
              "    .dataframe tbody tr th {\n",
              "        vertical-align: top;\n",
              "    }\n",
              "\n",
              "    .dataframe thead th {\n",
              "        text-align: right;\n",
              "    }\n",
              "</style>\n",
              "<table border=\"1\" class=\"dataframe\">\n",
              "  <thead>\n",
              "    <tr style=\"text-align: right;\">\n",
              "      <th></th>\n",
              "      <th>Total Seats</th>\n",
              "      <th>Sold Seats</th>\n",
              "    </tr>\n",
              "    <tr>\n",
              "      <th>Movie</th>\n",
              "      <th></th>\n",
              "      <th></th>\n",
              "    </tr>\n",
              "  </thead>\n",
              "  <tbody>\n",
              "    <tr>\n",
              "      <th>1917</th>\n",
              "      <td>198855.0</td>\n",
              "      <td>30656.0</td>\n",
              "    </tr>\n",
              "    <tr>\n",
              "      <th>A Moment of Happiness  (M)</th>\n",
              "      <td>4142.0</td>\n",
              "      <td>647.0</td>\n",
              "    </tr>\n",
              "    <tr>\n",
              "      <th>A Shaun The Sheep Movie: Farmageddon</th>\n",
              "      <td>6505.0</td>\n",
              "      <td>1167.0</td>\n",
              "    </tr>\n",
              "    <tr>\n",
              "      <th>All's Well End's Well 2020 (M)</th>\n",
              "      <td>18974.0</td>\n",
              "      <td>4980.0</td>\n",
              "    </tr>\n",
              "    <tr>\n",
              "      <th>An Easy Girl (F)</th>\n",
              "      <td>1456.0</td>\n",
              "      <td>346.0</td>\n",
              "    </tr>\n",
              "    <tr>\n",
              "      <th>Bad Boys For Life</th>\n",
              "      <td>68055.0</td>\n",
              "      <td>12699.0</td>\n",
              "    </tr>\n",
              "    <tr>\n",
              "      <th>Bernie The Dolphin 2</th>\n",
              "      <td>1575.0</td>\n",
              "      <td>108.0</td>\n",
              "    </tr>\n",
              "    <tr>\n",
              "      <th>Cats</th>\n",
              "      <td>26665.0</td>\n",
              "      <td>3126.0</td>\n",
              "    </tr>\n",
              "    <tr>\n",
              "      <th>Champions</th>\n",
              "      <td>164.0</td>\n",
              "      <td>124.0</td>\n",
              "    </tr>\n",
              "    <tr>\n",
              "      <th>Darbar (T)</th>\n",
              "      <td>25298.0</td>\n",
              "      <td>5211.0</td>\n",
              "    </tr>\n",
              "    <tr>\n",
              "      <th>Dark Waters</th>\n",
              "      <td>22658.0</td>\n",
              "      <td>4520.0</td>\n",
              "    </tr>\n",
              "    <tr>\n",
              "      <th>Disney's Frozen 2</th>\n",
              "      <td>15031.0</td>\n",
              "      <td>3999.0</td>\n",
              "    </tr>\n",
              "    <tr>\n",
              "      <th>Disney's Frozen Sing-A-Long</th>\n",
              "      <td>240.0</td>\n",
              "      <td>5.0</td>\n",
              "    </tr>\n",
              "    <tr>\n",
              "      <th>Disney`s Frozen 2 Sing-A-Long</th>\n",
              "      <td>561.0</td>\n",
              "      <td>151.0</td>\n",
              "    </tr>\n",
              "    <tr>\n",
              "      <th>Distinction</th>\n",
              "      <td>112.0</td>\n",
              "      <td>102.0</td>\n",
              "    </tr>\n",
              "    <tr>\n",
              "      <th>Dolittle</th>\n",
              "      <td>180523.0</td>\n",
              "      <td>23068.0</td>\n",
              "    </tr>\n",
              "    <tr>\n",
              "      <th>Enter The Fat Dragon (M)</th>\n",
              "      <td>109743.0</td>\n",
              "      <td>28115.0</td>\n",
              "    </tr>\n",
              "    <tr>\n",
              "      <th>IP MAN 4: THE FINALE (M)</th>\n",
              "      <td>205121.0</td>\n",
              "      <td>48693.0</td>\n",
              "    </tr>\n",
              "    <tr>\n",
              "      <th>Innocent Witness</th>\n",
              "      <td>164.0</td>\n",
              "      <td>146.0</td>\n",
              "    </tr>\n",
              "    <tr>\n",
              "      <th>Intelligent Lives</th>\n",
              "      <td>164.0</td>\n",
              "      <td>67.0</td>\n",
              "    </tr>\n",
              "    <tr>\n",
              "      <th>Jojo Rabbit</th>\n",
              "      <td>20881.0</td>\n",
              "      <td>5333.0</td>\n",
              "    </tr>\n",
              "    <tr>\n",
              "      <th>Judy</th>\n",
              "      <td>19751.0</td>\n",
              "      <td>2568.0</td>\n",
              "    </tr>\n",
              "    <tr>\n",
              "      <th>Jumanji: The Next Level</th>\n",
              "      <td>53469.0</td>\n",
              "      <td>12075.0</td>\n",
              "    </tr>\n",
              "    <tr>\n",
              "      <th>Kumanthong (VIETNAMESE)</th>\n",
              "      <td>14778.0</td>\n",
              "      <td>810.0</td>\n",
              "    </tr>\n",
              "    <tr>\n",
              "      <th>My Brother Chases Dinosaurs</th>\n",
              "      <td>0.0</td>\n",
              "      <td>0.0</td>\n",
              "    </tr>\n",
              "    <tr>\n",
              "      <th>Official Secrets</th>\n",
              "      <td>7236.0</td>\n",
              "      <td>1806.0</td>\n",
              "    </tr>\n",
              "    <tr>\n",
              "      <th>Only Cloud Knows (M)</th>\n",
              "      <td>2540.0</td>\n",
              "      <td>99.0</td>\n",
              "    </tr>\n",
              "    <tr>\n",
              "      <th>Perfect Nanny (F)</th>\n",
              "      <td>56.0</td>\n",
              "      <td>17.0</td>\n",
              "    </tr>\n",
              "    <tr>\n",
              "      <th>Playing With Fire</th>\n",
              "      <td>26975.0</td>\n",
              "      <td>2109.0</td>\n",
              "    </tr>\n",
              "    <tr>\n",
              "      <th>Primal</th>\n",
              "      <td>8263.0</td>\n",
              "      <td>858.0</td>\n",
              "    </tr>\n",
              "    <tr>\n",
              "      <th>Richard Jewell</th>\n",
              "      <td>9591.0</td>\n",
              "      <td>1135.0</td>\n",
              "    </tr>\n",
              "    <tr>\n",
              "      <th>Secret Zoo (K)</th>\n",
              "      <td>8515.0</td>\n",
              "      <td>1376.0</td>\n",
              "    </tr>\n",
              "    <tr>\n",
              "      <th>Sheep Without A Shepherd (M)</th>\n",
              "      <td>18889.0</td>\n",
              "      <td>1816.0</td>\n",
              "    </tr>\n",
              "    <tr>\n",
              "      <th>Someone, Somewhere (F)</th>\n",
              "      <td>504.0</td>\n",
              "      <td>159.0</td>\n",
              "    </tr>\n",
              "    <tr>\n",
              "      <th>Spies In Disguise</th>\n",
              "      <td>38000.0</td>\n",
              "      <td>8303.0</td>\n",
              "    </tr>\n",
              "    <tr>\n",
              "      <th>Star Wars: The Rise Of Skywalker</th>\n",
              "      <td>120477.0</td>\n",
              "      <td>18783.0</td>\n",
              "    </tr>\n",
              "    <tr>\n",
              "      <th>Start Up (K)</th>\n",
              "      <td>8058.0</td>\n",
              "      <td>456.0</td>\n",
              "    </tr>\n",
              "    <tr>\n",
              "      <th>The Aeronauts</th>\n",
              "      <td>952.0</td>\n",
              "      <td>255.0</td>\n",
              "    </tr>\n",
              "    <tr>\n",
              "      <th>The Farewell</th>\n",
              "      <td>1344.0</td>\n",
              "      <td>401.0</td>\n",
              "    </tr>\n",
              "    <tr>\n",
              "      <th>The Grand Grandmaster (M)</th>\n",
              "      <td>15220.0</td>\n",
              "      <td>1094.0</td>\n",
              "    </tr>\n",
              "    <tr>\n",
              "      <th>The Grudge</th>\n",
              "      <td>38834.0</td>\n",
              "      <td>5275.0</td>\n",
              "    </tr>\n",
              "    <tr>\n",
              "      <th>The Peanut Butter Falcon</th>\n",
              "      <td>7464.0</td>\n",
              "      <td>974.0</td>\n",
              "    </tr>\n",
              "    <tr>\n",
              "      <th>The Wolf Hour</th>\n",
              "      <td>4540.0</td>\n",
              "      <td>191.0</td>\n",
              "    </tr>\n",
              "    <tr>\n",
              "      <th>Underwater</th>\n",
              "      <td>14820.0</td>\n",
              "      <td>2930.0</td>\n",
              "    </tr>\n",
              "  </tbody>\n",
              "</table>\n",
              "</div>"
            ],
            "text/plain": [
              "                                      Total Seats  Sold Seats\n",
              "Movie                                                        \n",
              "1917                                     198855.0     30656.0\n",
              "A Moment of Happiness  (M)                 4142.0       647.0\n",
              "A Shaun The Sheep Movie: Farmageddon       6505.0      1167.0\n",
              "All's Well End's Well 2020 (M)            18974.0      4980.0\n",
              "An Easy Girl (F)                           1456.0       346.0\n",
              "Bad Boys For Life                         68055.0     12699.0\n",
              "Bernie The Dolphin 2                       1575.0       108.0\n",
              "Cats                                      26665.0      3126.0\n",
              "Champions                                   164.0       124.0\n",
              "Darbar (T)                                25298.0      5211.0\n",
              "Dark Waters                               22658.0      4520.0\n",
              "Disney's Frozen 2                         15031.0      3999.0\n",
              "Disney's Frozen Sing-A-Long                 240.0         5.0\n",
              "Disney`s Frozen 2 Sing-A-Long               561.0       151.0\n",
              "Distinction                                 112.0       102.0\n",
              "Dolittle                                 180523.0     23068.0\n",
              "Enter The Fat Dragon (M)                 109743.0     28115.0\n",
              "IP MAN 4: THE FINALE (M)                 205121.0     48693.0\n",
              "Innocent Witness                            164.0       146.0\n",
              "Intelligent Lives                           164.0        67.0\n",
              "Jojo Rabbit                               20881.0      5333.0\n",
              "Judy                                      19751.0      2568.0\n",
              "Jumanji: The Next Level                   53469.0     12075.0\n",
              "Kumanthong (VIETNAMESE)                   14778.0       810.0\n",
              "My Brother Chases Dinosaurs                   0.0         0.0\n",
              "Official Secrets                           7236.0      1806.0\n",
              "Only Cloud Knows (M)                       2540.0        99.0\n",
              "Perfect Nanny (F)                            56.0        17.0\n",
              "Playing With Fire                         26975.0      2109.0\n",
              "Primal                                     8263.0       858.0\n",
              "Richard Jewell                             9591.0      1135.0\n",
              "Secret Zoo (K)                             8515.0      1376.0\n",
              "Sheep Without A Shepherd (M)              18889.0      1816.0\n",
              "Someone, Somewhere (F)                      504.0       159.0\n",
              "Spies In Disguise                         38000.0      8303.0\n",
              "Star Wars: The Rise Of Skywalker         120477.0     18783.0\n",
              "Start Up (K)                               8058.0       456.0\n",
              "The Aeronauts                               952.0       255.0\n",
              "The Farewell                               1344.0       401.0\n",
              "The Grand Grandmaster (M)                 15220.0      1094.0\n",
              "The Grudge                                38834.0      5275.0\n",
              "The Peanut Butter Falcon                   7464.0       974.0\n",
              "The Wolf Hour                              4540.0       191.0\n",
              "Underwater                                14820.0      2930.0"
            ]
          },
          "metadata": {
            "tags": []
          },
          "execution_count": 138
        }
      ]
    },
    {
      "cell_type": "markdown",
      "metadata": {
        "id": "cjnH8uEkVkK4"
      },
      "source": [
        "## Plotting"
      ]
    },
    {
      "cell_type": "code",
      "metadata": {
        "id": "i5wiy4eYVjWt",
        "outputId": "baf40805-0b65-4392-ca6a-54f2627fb4fe",
        "colab": {
          "base_uri": "https://localhost:8080/",
          "height": 436
        }
      },
      "source": [
        "df2.plot(kind = 'bar', figsize=(10, 5))"
      ],
      "execution_count": null,
      "outputs": [
        {
          "output_type": "display_data",
          "data": {
            "image/png": "[encoded data removed]",
            "text/plain": [
              "<Figure size 720x360 with 1 Axes>"
            ]
          },
          "metadata": {
            "tags": [],
            "needs_background": "light"
          }
        }
      ]
    },
    {
      "cell_type": "code",
      "metadata": {
        "id": "_VzFz0bN6sPc"
      },
      "source": [
        "#Adjust xticks\n",
        "plt.xticks(fontsize =15,rotation=45)\n",
        "\n",
        "#Label x-axis\n",
        "plt.xlabel('Theatre')\n",
        "\n",
        "#Label y-axis\n",
        "plt.ylabel('No. of Seats')\n",
        "\n",
        "#Plot Title\n",
        "plt.title('Ticket Sales across Theatres')\n",
        "\n",
        "#Save plot\n",
        "plt.savefig('Output.png',dpi=300,bbox_inches='tight')\n",
        "\n",
        "#Display plot\n",
        "plt.show();"
      ],
      "execution_count": null,
      "outputs": []
    },
    {
      "cell_type": "code",
      "metadata": {
        "id": "8nvPy27Wlqjy",
        "outputId": "5cc0d29d-bb08-4807-db8b-37764764f1f5",
        "colab": {
          "base_uri": "https://localhost:8080/",
          "height": 337
        }
      },
      "source": [
        "df2.T.plot(kind = 'barh', figsize=(10, 5))"
      ],
      "execution_count": null,
      "outputs": [
        {
          "output_type": "execute_result",
          "data": {
            "text/plain": [
              "<matplotlib.axes._subplots.AxesSubplot at 0x7f752d06a1d0>"
            ]
          },
          "metadata": {
            "tags": []
          },
          "execution_count": 165
        },
        {
          "output_type": "display_data",
          "data": {
            "image/png": "[encoded data removed]",
            "text/plain": [
              "<Figure size 720x360 with 1 Axes>"
            ]
          },
          "metadata": {
            "tags": [],
            "needs_background": "light"
          }
        }
      ]
    },
    {
      "cell_type": "markdown",
      "metadata": {
        "id": "xPsRg40EXYla"
      },
      "source": [
        "# **Problem Set 3**"
      ]
    },
    {
      "cell_type": "markdown",
      "metadata": {
        "id": "nDWDpdQZhuGC"
      },
      "source": [
        "#### **Exercise 1**\n",
        "#### Create a new column called 'Time Period' which has the values **'Morning', 'Afternoon', 'Evening' or 'Night'** based on the conditions:\n",
        "1. 00:00 <= Time <  12:00 : Morning\n",
        "2. 12:00 <= Time <  16:00 : Afternoon\n",
        "3. 16:00 <= Time <  20:00 : Evening\n",
        "4. 20:00 <= Time <= 23:59 : Night"
      ]
    },
    {
      "cell_type": "code",
      "metadata": {
        "id": "_Y_ha2s7hamf"
      },
      "source": [
        "#Fill in your code here!"
      ],
      "execution_count": null,
      "outputs": []
    },
    {
      "cell_type": "markdown",
      "metadata": {
        "id": "LkTRkxtWhIM2"
      },
      "source": [
        "#### **Exercise 2**\n",
        "#### Using the Movie dataset and the `groupby` function, find out the following\n",
        "1. **% of seats sold** for each **hall** -> Hence find the most popular hall\n",
        "2. **Total seats sold** for each **day** of the month -> Hence find the most popular day to watch movies\n",
        "3. Number of seats sold for each unique Time -> Hence find the most popular **Movie Screening Time**"
      ]
    },
    {
      "cell_type": "code",
      "metadata": {
        "id": "N_Vfh0wkg63G"
      },
      "source": [
        "#Fill in your code here!"
      ],
      "execution_count": null,
      "outputs": []
    },
    {
      "cell_type": "markdown",
      "metadata": {
        "id": "wXuAV5vTjX_W"
      },
      "source": [
        "#### **Exercise 3**\n",
        "#### Plot graphs for each of the subparts 2 and 3 in exercise 2\n"
      ]
    },
    {
      "cell_type": "code",
      "metadata": {
        "id": "uL_sr_qCjIAf"
      },
      "source": [
        "#Fill in your code here!"
      ],
      "execution_count": null,
      "outputs": []
    }
  ]
}