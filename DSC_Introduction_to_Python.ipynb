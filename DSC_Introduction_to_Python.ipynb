{
  "nbformat": 4,
  "nbformat_minor": 0,
  "metadata": {
    "colab": {
      "name": "DSC Introduction to Python.ipynb",
      "provenance": [],
      "collapsed_sections": [
        "1uArW8PuXrmJ",
        "ddXWBjQcpT2z",
        "CsrhLoERr1sv",
        "w6uXDO-bTCz7",
        "uQS3zaLBEbeI",
        "gckyBk2fs5MS",
        "qMFGen0U5df_",
        "qPvAMDTR5sdq",
        "dyAuPchz73zd",
        "KDF0P2laAwIr",
        "phKocH6lbRjj",
        "98vbb70izs9J",
        "usQO2IT-1Zea",
        "8yVRbrD_7U04",
        "4S-8fYm33Uq2",
        "mhsyNz9tZzwN",
        "GBA1CMdB2zO6",
        "bXduwTNWKuwv",
        "YkSXDpyi5VPe",
        "vDTb7kOsaNQR",
        "LkTRkxtWhIM2",
        "wXuAV5vTjX_W"
      ],
      "authorship_tag": "ABX9TyO6RUqKtbzNrcaudFcgHt0E",
      "include_colab_link": true
    },
    "kernelspec": {
      "name": "python3",
      "display_name": "Python 3"
    }
  },
  "cells": [
    {
      "cell_type": "markdown",
      "metadata": {
        "id": "view-in-github",
        "colab_type": "text"
      },
      "source": [
        "<a href=\"https://colab.research.google.com/github/noelmathewisaac/Colab-NoteBooks/blob/master/DSC_Introduction_to_Python.ipynb\" target=\"_parent\"><img src=\"https://colab.research.google.com/assets/colab-badge.svg\" alt=\"Open In Colab\"/></a>"
      ]
    },
    {
      "cell_type": "markdown",
      "metadata": {
        "id": "CHpXPjJ5Wj9W"
      },
      "source": [
        "# **Python Fundamentals**\n"
      ]
    },
    {
      "cell_type": "markdown",
      "metadata": {
        "id": "nKlcj6nVxg0-"
      },
      "source": [
        "# Objects & Data Types\n",
        "\n",
        "Everything in Python is an object! Each object has a specific data type.\n",
        "\n",
        "\n",
        "| Name       | Type  | Example                                             | Mutability |\n",
        "|------------|-------|-----------------------------------------------------|---|\n",
        "| Integer    | int   | \\-1, 0, 3, 5, 11                                    |Immutable|\n",
        "| Float      | float | 1\\.23, 3\\.333, 10\\.0, \\-5\\.4                        |Immutable|\n",
        "| String     | str   | \"Tech\", \"DSC\", \"NUS\"                                |Immutable|\n",
        "| Boolean    | bool  | True, False                                         |Immutable|\n",
        "| List       | list  | \\[1,2,3,4,7\\], \\[\"hello\", \"world\"\\], \\[1, \"hello\"\\] |Mutable|\n",
        "| Tuple       | tuple  | \\(1,2,3,4,7), \\(\"hello\", \"world\"\\), \\(1, \"hello\"\\) |Immutable|\n",
        "| Dictionary | dict  | \\{\"name\": \"John\", \"age\": 15\\}                       |Mutable|\n",
        "\n",
        "\n",
        "\n"
      ]
    },
    {
      "cell_type": "markdown",
      "metadata": {
        "id": "1uArW8PuXrmJ"
      },
      "source": [
        "# Variables\n",
        "Names given to objects to easily identify them (like a label)\n"
      ]
    },
    {
      "cell_type": "markdown",
      "metadata": {
        "id": "YM66j9SMbJMP"
      },
      "source": [
        "### Numbers (Integers and Floats)"
      ]
    },
    {
      "cell_type": "code",
      "metadata": {
        "id": "wE98MuuFWPqf"
      },
      "source": [
        "item_price = 35.0\n",
        "tax_rate = 0.07\n",
        "tax_amount = item_price * tax_rate\n",
        "tax_amount"
      ],
      "execution_count": null,
      "outputs": []
    },
    {
      "cell_type": "markdown",
      "metadata": {
        "id": "W3-d_bTmbZ6i"
      },
      "source": [
        "### Strings\n",
        "\n",
        "*   A string is a sequence of characters\n",
        "*   Strings are **immutable**\n",
        "\n"
      ]
    },
    {
      "cell_type": "code",
      "metadata": {
        "id": "n3hQLAhlblGy"
      },
      "source": [
        "# Strings (enclosed by double or single quotes)\n",
        "first_name = \"John\"\n",
        "last_name = 'Doe'"
      ],
      "execution_count": null,
      "outputs": []
    },
    {
      "cell_type": "code",
      "metadata": {
        "id": "O_BlnCmRZA8y"
      },
      "source": [
        "# We can concatenate strings using the '+' operator\n",
        "full_name = first_name + \" \" + last_name\n",
        "print(full_name)"
      ],
      "execution_count": null,
      "outputs": []
    },
    {
      "cell_type": "code",
      "metadata": {
        "id": "kdnBMc5oZC_C"
      },
      "source": [
        "# The length of a string can be found using the len() function\n",
        "name_length = len(full_name)\n",
        "print(name_length)"
      ],
      "execution_count": null,
      "outputs": []
    },
    {
      "cell_type": "code",
      "metadata": {
        "id": "nlkZT5AOZErA"
      },
      "source": [
        "# Slicing Strings\n",
        "text = \"Introduction to Python\"\n",
        "language = text[16:22]"
      ],
      "execution_count": null,
      "outputs": []
    },
    {
      "cell_type": "code",
      "metadata": {
        "id": "ltjmJpl_ZIic"
      },
      "source": [
        "# Splitting Strings\n",
        "long_string  = \"We need to split this string\"\n",
        "split_strings = long_string.split()"
      ],
      "execution_count": null,
      "outputs": []
    },
    {
      "cell_type": "markdown",
      "metadata": {
        "id": "5QJ9Eqrkesqu"
      },
      "source": [
        "### Booleans\n",
        "Logical True or False values"
      ]
    },
    {
      "cell_type": "code",
      "metadata": {
        "id": "z3pdW1fDerUl"
      },
      "source": [
        "# Boolean\n",
        "year1 = 2020\n",
        "year2 = 2021\n",
        "year1 == '2020'\n",
        "\n"
      ],
      "execution_count": null,
      "outputs": []
    },
    {
      "cell_type": "markdown",
      "metadata": {
        "id": "NmPkPgY0g_EP"
      },
      "source": [
        "### Lists\n",
        "\n",
        "*   Ordered collection of objects\n",
        "*   The objects in a list can have different data types\n",
        "*   Lists are **mutable**\n",
        "\n",
        "\n",
        "\n"
      ]
    },
    {
      "cell_type": "code",
      "metadata": {
        "id": "c4sorKgriC9W"
      },
      "source": [
        "nums = [1,2,3,4,5,6,7]\n",
        "days = [\"Monday\", \"Tuesday\", \"Wednesday\", \"Thursday\", \"Friday\"]"
      ],
      "execution_count": null,
      "outputs": []
    },
    {
      "cell_type": "code",
      "metadata": {
        "id": "4ZVnAmajn45p"
      },
      "source": [
        "# Each objects in a list is called a list item and can be accessed by its index\n",
        "# Lists follow 0-based indexing \n",
        "\n",
        "first_day = days[0]\n",
        "print(first_day)"
      ],
      "execution_count": null,
      "outputs": []
    },
    {
      "cell_type": "code",
      "metadata": {
        "id": "-Me0zVtUn6tA"
      },
      "source": [
        "#Length of a list is the number of elements in it\n",
        "print(len(days))\n",
        "\n",
        "days.append(4)"
      ],
      "execution_count": null,
      "outputs": []
    },
    {
      "cell_type": "markdown",
      "metadata": {
        "id": "qAJ6UcWcrRg2"
      },
      "source": [
        "### Tuples\n",
        "\n",
        "*   Immutable version of Lists\n",
        "*   The elements of a tuple **cannot be modified**"
      ]
    },
    {
      "cell_type": "code",
      "metadata": {
        "id": "tbhoy6HYrREV"
      },
      "source": [
        "nums = (2,4,4,2,2,1,3)\n",
        "nums"
      ],
      "execution_count": null,
      "outputs": []
    },
    {
      "cell_type": "code",
      "metadata": {
        "id": "1HzM0oQssWJC"
      },
      "source": [
        "# Trying to modify tuple elements results in an error\n",
        "# nums[0] = 3"
      ],
      "execution_count": null,
      "outputs": []
    },
    {
      "cell_type": "markdown",
      "metadata": {
        "id": "ddXWBjQcpT2z"
      },
      "source": [
        "### Dictionaries\n",
        "\n",
        "*   Collection of key/value pairs\n",
        "*   The keys in a dictionary must be unique and immutable\n",
        "*   Dictionaries are **mutable**\n"
      ]
    },
    {
      "cell_type": "code",
      "metadata": {
        "id": "KsAnFtnuppd0"
      },
      "source": [
        "grades = {\"CS1010\": 4, \"CS1231\": 4.5, \"MA1101R\":5, \"GER1000\":3.5}\n",
        "\n",
        "# The values in a dictinory can be accessed using the corresponding key\n",
        "grades['CS1010']"
      ],
      "execution_count": null,
      "outputs": []
    },
    {
      "cell_type": "code",
      "metadata": {
        "id": "Ov5_tswOrR8Y"
      },
      "source": [
        "grades[\"CS2040\"] = 4.5\n",
        "grades[\"GER1000\"] = 'S'\n",
        "\n",
        "grades"
      ],
      "execution_count": null,
      "outputs": []
    },
    {
      "cell_type": "code",
      "metadata": {
        "id": "DYyw02Jpqy9S"
      },
      "source": [
        "#Iterating through a dictionary\n",
        "for k,v in grades.items():\n",
        "  print(k,v)"
      ],
      "execution_count": null,
      "outputs": []
    },
    {
      "cell_type": "markdown",
      "metadata": {
        "id": "CsrhLoERr1sv"
      },
      "source": [
        "# Operators\n",
        "Used to perform operations on variables and objects to return another object\n",
        "\n"
      ]
    },
    {
      "cell_type": "markdown",
      "metadata": {
        "id": "w6uXDO-bTCz7"
      },
      "source": [
        "### Arithmetic Operators\n",
        "\n",
        "| Operator   | Name   | Expression  | Description      |\n",
        "|:------------|:--------|:-------------|:------------------|\n",
        "| +   | Addition     |i + j   | Sum of i and j                 |\n",
        "| -   | Subtraction     |i - j   | Difference of i and j          |\n",
        "| *   |  Multiplication    |i * j   | Product of i and j             |\n",
        "| /   |  Division    |i / j   | i divided by j                 |\n",
        "| //  |  Integer Division    |i // j  | Quotient when i is divided by j |\n",
        "| %   |  Modulus    |i % j   | Remainder when i is divided by j |\n",
        "| **  |  Exponentiation    |i ** j  | i raised to the power j    |\n",
        "| +=  |  Assignment Shortcut    |i += j  | Equivalent to x = x + y  (*= and -= work similarly)                 |"
      ]
    },
    {
      "cell_type": "code",
      "metadata": {
        "id": "cB2RaMSblnYC"
      },
      "source": [
        "2 + 3"
      ],
      "execution_count": null,
      "outputs": []
    },
    {
      "cell_type": "code",
      "metadata": {
        "id": "712k1zLKmC2j"
      },
      "source": [
        "10 % 7"
      ],
      "execution_count": null,
      "outputs": []
    },
    {
      "cell_type": "code",
      "metadata": {
        "id": "4Puc8cy2mHoA"
      },
      "source": [
        "2**5"
      ],
      "execution_count": null,
      "outputs": []
    },
    {
      "cell_type": "code",
      "metadata": {
        "id": "tmCWiIENmLcu"
      },
      "source": [
        "x = 5\n",
        "x += 10\n",
        "x"
      ],
      "execution_count": null,
      "outputs": []
    },
    {
      "cell_type": "markdown",
      "metadata": {
        "id": "IWNHnzG9lnJM"
      },
      "source": [
        "### Comparison & Logical Operators\n",
        "Comparison and logical operators always return a True or False boolean object \n",
        "\n",
        "| Operator   | Name   | Expression  | Description      |\n",
        "|:------------|:--------|:-------------|:------------------|\n",
        "| ==   | Equal to     | a == b  | Returns True if a is equal to b                 |\n",
        "| !=  | Not equal to     |a != b   | Returns True if a is not equal to b          |\n",
        "| >  |  Greater than    |a > b   | Returns True if a is greater than b             |\n",
        "| <  |  Less than    |a < b   |  Returns True if a is less than b                 |\n",
        "| >=  |  Greater than or equal to    |a >= b  |  Returns True if a is greater than or equal to b |\n",
        "| <=  |  Less than or equal to    |a <= b  |  Returns True if a is less than or equal to b |\n",
        "| and  |  Logical AND   |a > 10 and b > 100  |Returns True if both expressions are true   |\n",
        "| or |  Logical OR    |a < 5 or a > 20  | Returns True if either expression is true        |\n",
        "| not |  Logical NOT    |not(a < 5 or a > 20)  | Returns the logical inverse of the expression|\n",
        "\n",
        "\n"
      ]
    },
    {
      "cell_type": "code",
      "metadata": {
        "id": "PZ5rWOO1sazQ"
      },
      "source": [
        "a = 10\n",
        "b = 15\n",
        "a == b\n"
      ],
      "execution_count": null,
      "outputs": []
    },
    {
      "cell_type": "code",
      "metadata": {
        "id": "ho6n1_UkskFi"
      },
      "source": [
        "a != b"
      ],
      "execution_count": null,
      "outputs": []
    },
    {
      "cell_type": "code",
      "metadata": {
        "id": "cUaexALUsoHv"
      },
      "source": [
        "a > 3 and b < 20"
      ],
      "execution_count": null,
      "outputs": []
    },
    {
      "cell_type": "markdown",
      "metadata": {
        "id": "uQS3zaLBEbeI"
      },
      "source": [
        "# Conditionals (if statements)\n",
        "Conditional statements help us execute different lines of code for different situations\n",
        "\n"
      ]
    },
    {
      "cell_type": "code",
      "metadata": {
        "id": "jwRPwcliYVtK"
      },
      "source": [
        "x = 10\n",
        "y = 90\n",
        "\n",
        "if(x > 20 or y < 100):\n",
        "    print(\"Condition is true\")"
      ],
      "execution_count": null,
      "outputs": []
    },
    {
      "cell_type": "code",
      "metadata": {
        "id": "K5QQgxyrFvtx"
      },
      "source": [
        "num = 20\n",
        "\n",
        "if (num == 20):\n",
        "    print('Number is 20')\n",
        "\n",
        "elif (num > 20):\n",
        "    print('Number is greater than 20')\n",
        "\n",
        "else:\n",
        "    print('Number is less than 20')"
      ],
      "execution_count": null,
      "outputs": []
    },
    {
      "cell_type": "markdown",
      "metadata": {
        "id": "gckyBk2fs5MS"
      },
      "source": [
        "# Loops \n",
        "\n",
        "*   Loops help us easily **repeat tasks**\n",
        "*   Reduces the amount of code we need to write\n",
        "\n",
        "\n"
      ]
    },
    {
      "cell_type": "markdown",
      "metadata": {
        "id": "QUgvO27IvouU"
      },
      "source": [
        "## For Loops\n",
        "\n",
        "*   For loops help us iterate over a sequence (like a list, dictionary or string) and execute a statement for every item in the sequence\n",
        "*   Most commonly used loop in python\n",
        "\n",
        "---\n",
        "Syntax\n",
        "```\n",
        "for <var> in range(start_num, end_num+1, interval):\n",
        "    //loop body to execute statements \n",
        "```\n",
        "\n",
        "```\n",
        "for <var> in list:\n",
        "    //use the item in a statement\n",
        "```\n",
        "\n",
        "\n",
        "\n"
      ]
    },
    {
      "cell_type": "markdown",
      "metadata": {
        "id": "qMFGen0U5df_"
      },
      "source": [
        "### Print numbers from 1-20"
      ]
    },
    {
      "cell_type": "code",
      "metadata": {
        "id": "_zeNT0ses3DT"
      },
      "source": [
        "# Notice that we put 21 as the second parameter and not 20\n",
        "for i in range(1, 21, 1):\n",
        "    print(i)"
      ],
      "execution_count": null,
      "outputs": []
    },
    {
      "cell_type": "markdown",
      "metadata": {
        "id": "E4GdGYPd5hVu"
      },
      "source": [
        "### List Iteration"
      ]
    },
    {
      "cell_type": "code",
      "metadata": {
        "id": "ZFGni9mW0R0S"
      },
      "source": [
        "colors = ['blue','red','green','yellow']\n",
        "\n",
        "for color in colors:\n",
        "  print(color)\n",
        "\n",
        "# for index in range (len(colors)):\n",
        "#   print(colors[index])\n",
        "\n",
        "# for index, color in enumerate(colors):\n",
        "#   print(index, color)"
      ],
      "execution_count": null,
      "outputs": []
    },
    {
      "cell_type": "markdown",
      "metadata": {
        "id": "qPvAMDTR5sdq"
      },
      "source": [
        "### Dictionary Iteration"
      ]
    },
    {
      "cell_type": "code",
      "metadata": {
        "id": "kM2MUOGJ5q2k"
      },
      "source": [
        "ages = {\"Sam\": 10, \"George\":32, \"John\":20}\n",
        "\n",
        "for k,v in ages.items():\n",
        "    print(k,v)"
      ],
      "execution_count": null,
      "outputs": []
    },
    {
      "cell_type": "markdown",
      "metadata": {
        "id": "dyAuPchz73zd"
      },
      "source": [
        "### Nested For Loops\n",
        " \n",
        "\n",
        "*   For loops which contain 1 or more for loops in their loop body are called\n",
        "nested for loops.\n",
        "*   Nested for loops are commonly used to iterate over 2-Dimensional Lists (Lists which contain lists)\n"
      ]
    },
    {
      "cell_type": "code",
      "metadata": {
        "id": "Bqe_sBsv7lWR"
      },
      "source": [
        "for i in range(3):\n",
        "  for j in range(5):\n",
        "    print(\"Outer loop value: {outer_val}, inner loop value: {inner_val}\".format(outer_val=i, inner_val=j))"
      ],
      "execution_count": null,
      "outputs": []
    },
    {
      "cell_type": "code",
      "metadata": {
        "id": "uNKBHvDJABql"
      },
      "source": [
        "list_2D = [[1,2,3], [4,5,6], [7,8,9]]\n",
        "\n",
        "for list_1D in list_2D:\n",
        "  print(list_1D)\n",
        "  for item in list_1D:\n",
        "    print(item)"
      ],
      "execution_count": null,
      "outputs": []
    },
    {
      "cell_type": "markdown",
      "metadata": {
        "id": "KDF0P2laAwIr"
      },
      "source": [
        "## While Loops\n",
        "*   Allows to execute commands based on a condition\n",
        "*   The loop ends when the condition evaluates to **False**\n",
        "\n",
        "\n",
        "---\n",
        "Syntax\n",
        "```\n",
        "while(<condition is true>){\n",
        "  //execute statement\n",
        "  \n",
        "  //update condition parameters\n",
        "}\n",
        "```\n",
        "\n",
        "\n"
      ]
    },
    {
      "cell_type": "code",
      "metadata": {
        "id": "HyRutmeYDuSh"
      },
      "source": [
        "num = 0\n",
        "while(num<=10):\n",
        "  print(num)\n",
        "  num += 2"
      ],
      "execution_count": null,
      "outputs": []
    },
    {
      "cell_type": "markdown",
      "metadata": {
        "id": "phKocH6lbRjj"
      },
      "source": [
        "# **Problem Set 1**"
      ]
    },
    {
      "cell_type": "markdown",
      "metadata": {
        "id": "6DQFWTYExPrd"
      },
      "source": [
        "#### **Exercise 1**\n",
        "| Marks | Output message |\n",
        "| -------- | ------- |\n",
        "| >= 80 | Your grade is: A+ |\n",
        "| 70 - 79 | Your grade is: A |\n",
        "| 60 - 69 | Your grade is: B |\n",
        "| < 60 | Your grade is: Pass |\n",
        "\n",
        "#### Based on the table above, print out the appropriate message for the following student's marks\n",
        "\n",
        "Note that the output message should change when the value of `marks` changes"
      ]
    },
    {
      "cell_type": "code",
      "metadata": {
        "id": "LJm2z3fLxrxL"
      },
      "source": [
        "marks = 71\n",
        "\n",
        "# Fill in your code here!"
      ],
      "execution_count": null,
      "outputs": []
    },
    {
      "cell_type": "markdown",
      "metadata": {
        "id": "KTlW_TJgR8TF"
      },
      "source": [
        "#### **Exercise 2**\n",
        "#### Update the value 10 to 20 in this dictionary\n",
        "```\n",
        "{\"Level0\": {\"Level2\": [10]},\n",
        " \"Level1\": [1,2,3]\n",
        "}\n",
        "```\n",
        "\n",
        "\n"
      ]
    },
    {
      "cell_type": "code",
      "metadata": {
        "id": "AFdxbUqKTaqZ"
      },
      "source": [
        "dictionary = {\"Level0\": {\"Level2\": [10]},\"Level1\": [1,2,3]}\n",
        "\n",
        "\n",
        "# Fill in your code here!\n",
        "\n"
      ],
      "execution_count": null,
      "outputs": []
    },
    {
      "cell_type": "markdown",
      "metadata": {
        "id": "OqNUDm38bueb"
      },
      "source": [
        "#### **Exercise 3**\n",
        "#### Use a for loop to print out all the numbers between 1 and 100 which are divisble by 7\n",
        "(Hint: Use if-statements and the % operator)\n",
        "\n"
      ]
    },
    {
      "cell_type": "code",
      "metadata": {
        "id": "bkqKFb52beNx"
      },
      "source": [
        "for i in range(1,100):\n",
        "    # Fill in your code here!"
      ],
      "execution_count": null,
      "outputs": []
    },
    {
      "cell_type": "markdown",
      "metadata": {
        "id": "98vbb70izs9J"
      },
      "source": [
        "#### **Exercise 4**\n",
        "#### Find and print the mean of all the items in `data`\n",
        "Expected output = 225.33333333333334"
      ]
    },
    {
      "cell_type": "code",
      "metadata": {
        "id": "IbOxG55mSWhm"
      },
      "source": [
        "data = [2, 13, 65, 88, 243, 5, 1098, 492, 22]\n",
        "\n",
        "# Fill in your code here!\n",
        "\n"
      ],
      "execution_count": null,
      "outputs": []
    },
    {
      "cell_type": "markdown",
      "metadata": {
        "id": "usQO2IT-1Zea"
      },
      "source": [
        "#### **Exercise 5**\n",
        "#### Print out the following pattern of '*' using for loops:\n",
        "\n",
        "```\n",
        "*****\n",
        "*****\n",
        "*****\n",
        "*****\n",
        "```\n",
        "\n"
      ]
    },
    {
      "cell_type": "code",
      "metadata": {
        "id": "Yf0H8uGP1-LD"
      },
      "source": [
        "# Fill in you code here!"
      ],
      "execution_count": null,
      "outputs": []
    },
    {
      "cell_type": "markdown",
      "metadata": {
        "id": "8yVRbrD_7U04"
      },
      "source": [
        "#### **Exercise 6**\n",
        "#### Update the following 2D array `data2D` by replacing every element with its square:\n",
        "\n",
        "```\n",
        "arr = [[1,2,3],[23,44,12,34],[91,23,7,0,56],[3,76,4]]\n",
        "updated arr = [[1, 4, 9], [529, 1936, 144, 1156], [8281, 529, 49, 0, 3136], [9, 5776, 16]]\n",
        "```\n",
        "\n"
      ]
    },
    {
      "cell_type": "code",
      "metadata": {
        "id": "kEldO2187MGy"
      },
      "source": [
        "arr = [[1,2,3],[23,44,12,34],[91,23,7,0,56],[3,76,4]]\n",
        "\n",
        "# Fill in you code here!\n",
        "\n",
        "\n",
        "\n",
        "#Test the Result\n",
        "if(arr == [[1, 4, 9], [529, 1936, 144, 1156], [8281, 529, 49, 0, 3136], [9, 5776, 16]]):\n",
        "  print(\"Correct output, good job!\")\n",
        "else:\n",
        "  print(\"arr has the wrong values, try again\")"
      ],
      "execution_count": null,
      "outputs": []
    },
    {
      "cell_type": "markdown",
      "metadata": {
        "id": "4S-8fYm33Uq2"
      },
      "source": [
        "#### **Exercise 7** (Challenging)\n",
        "#### Print out the following pattern using **nested** for loops:\n",
        "\n",
        "```\n",
        "1\n",
        "12\n",
        "123\n",
        "1234\n",
        "12345\n",
        "```\n",
        "Hint: The print function prints in a new line for every call by default. \n",
        "<br> You can use `print(111, end = '')` to print the number 111 without going to a new line"
      ]
    },
    {
      "cell_type": "code",
      "metadata": {
        "id": "cKR_yS656UwU"
      },
      "source": [
        "#Example\n",
        "print(1)\n",
        "print(2)\n",
        "print(1, end = '')\n",
        "print(2, end = '')"
      ],
      "execution_count": null,
      "outputs": []
    },
    {
      "cell_type": "code",
      "metadata": {
        "id": "qS7WQi9_3j1p"
      },
      "source": [
        "# Fill in you code here!"
      ],
      "execution_count": null,
      "outputs": []
    },
    {
      "cell_type": "markdown",
      "metadata": {
        "id": "mhsyNz9tZzwN"
      },
      "source": [
        "# Functions\n",
        "\n",
        "*   Encapsulates a piece of code with an input / output interface.\n",
        "*   Takes in input (parameters) and returns some output (return value)\n",
        "*   Enables code organisation and reuse\n",
        "\n",
        "---\n",
        "Syntax\n",
        "```\n",
        "def <function_name>(<parameter_1>, <parameter_2>,...):\n",
        "    #Do something\n",
        "    return <value>\n",
        "    \n",
        "```\n",
        "\n",
        "*   Functions can take in 0 or more parameters\n",
        "*   If there is no return statement, None (null value) is returned by default\n",
        "\n",
        "\n",
        "\n",
        "\n",
        "\n",
        "\n",
        "\n",
        "\n",
        "\n",
        "\n"
      ]
    },
    {
      "cell_type": "code",
      "metadata": {
        "id": "yLoGsjC1ZyLQ"
      },
      "source": [
        "def greet(name, time):\n",
        "    if(time<1200):\n",
        "      print(\"Good morning {}!\".format(name))\n",
        "    elif(time<1600):\n",
        "      print(\"Good afternoon {}!\".format(name))\n",
        "    elif(time<2100):\n",
        "      print(\"Good evening {}!\".format(name))\n",
        "    else:\n",
        "      print(\"Good night {}!\".format(name))\n",
        "\n",
        "greet(\"Garry\", 1400)"
      ],
      "execution_count": null,
      "outputs": []
    },
    {
      "cell_type": "code",
      "metadata": {
        "id": "gsnuqLHyhu5q"
      },
      "source": [
        "def cube(num):\n",
        "  return num**3\n",
        "\n",
        "x = cube(7)\n",
        "y = cube(10)\n",
        "\n",
        "print(x+y)"
      ],
      "execution_count": null,
      "outputs": []
    },
    {
      "cell_type": "markdown",
      "metadata": {
        "id": "s2158_Lmta_W"
      },
      "source": [
        "# Classes\n",
        "\n",
        "\n",
        "*  Blueprints for creating custom user-defined objects\n",
        "*  Helps organise code with similar poperties and functions, enabling reusability and improving readability\n",
        "---\n",
        "Syntax\n",
        "```\n",
        "class <class_name>:\n",
        "    #Constant Properties\n",
        "    ...\n",
        "\n",
        "    #Constructor\n",
        "    def __init__(self, <var1>, <var2>):\n",
        "         self.var1 = var1\n",
        "         self.var2 = var2\n",
        "    \n",
        "    #Custom methods\n",
        "    ...\n",
        "    \n",
        "```\n"
      ]
    },
    {
      "cell_type": "code",
      "metadata": {
        "id": "0uv_fTa8ENFK"
      },
      "source": [
        "class Student:\n",
        "    def __init__(self, name, dob, university, course ):\n",
        "        self.name = name\n",
        "        self.dob = dob\n",
        "        self.university = university\n",
        "        self.course = course\n",
        "    def get_info(self):\n",
        "        print(self.name)\n",
        "        print(self.dob)\n",
        "        print(self.university)\n",
        "        print(self.course)\n",
        "\n",
        "\n",
        "\n",
        "stud1 = Student('John', '12/3/12', 'NUS', 'CS')\n",
        "stud2 = Student('Ted', '12/3/12', 'NTU', 'Business')\n",
        "\n",
        "stud1.get_info()"
      ],
      "execution_count": null,
      "outputs": []
    },
    {
      "cell_type": "markdown",
      "metadata": {
        "id": "GBA1CMdB2zO6"
      },
      "source": [
        "# **Problem Set 2**"
      ]
    },
    {
      "cell_type": "markdown",
      "metadata": {
        "id": "-dZHtGgj25mv"
      },
      "source": [
        "#### **Exercise 1**\n",
        "#### Write a function named minimum that takes in 2 parameters x and y (both ints) and returns the smaller of the two."
      ]
    },
    {
      "cell_type": "code",
      "metadata": {
        "id": "dtu_qFmN25Gj"
      },
      "source": [
        "# Fill in your code here!"
      ],
      "execution_count": null,
      "outputs": []
    },
    {
      "cell_type": "markdown",
      "metadata": {
        "id": "bXduwTNWKuwv"
      },
      "source": [
        "#### **Exercise 2**\n",
        "#### Write a function named `pattern` that takes in a parameter n and prints out n lines of the following pattern:\n",
        "\n",
        "\n",
        "```\n",
        "input n = 2\n",
        "1\n",
        "22\n",
        "\n",
        "input: n = 5\n",
        "1\n",
        "22\n",
        "333\n",
        "4444\n",
        "55555\n",
        "\n",
        "```\n",
        "\n"
      ]
    },
    {
      "cell_type": "code",
      "metadata": {
        "id": "u8riRUYdRpjn"
      },
      "source": [
        "def pattern(n):\n",
        "   # Fill in your code here!"
      ],
      "execution_count": null,
      "outputs": []
    },
    {
      "cell_type": "markdown",
      "metadata": {
        "id": "EY62ODtgTBZw"
      },
      "source": [
        "#### **Exercise 3**\n",
        "#### Complete the constructor and methods for the following class"
      ]
    },
    {
      "cell_type": "code",
      "metadata": {
        "id": "LO7MM-Y3Ktre"
      },
      "source": [
        "class Cylinder:\n",
        "    pi = 3.14\n",
        "    \n",
        "    #Initialise the radius and height\n",
        "    def __init__(self, radius, height):\n",
        "      # Fill in your code here!\n",
        "        \n",
        "    #Compute the volume and return it\n",
        "    def volume(self):\n",
        "      # Fill in your code here!\n",
        "\n",
        "    #Compute the surface area and return it\n",
        "    def surface_area(self):\n",
        "      # Fill in your code here!\n",
        "\n"
      ],
      "execution_count": null,
      "outputs": []
    },
    {
      "cell_type": "code",
      "metadata": {
        "id": "RY5ZLKC6VMPf"
      },
      "source": [
        "#Test Output\n",
        "cyl = Cylinder(9, 7)\n",
        "\n",
        "if(cyl.volume() == 1780.38):\n",
        "    print(\"Correct volume\")\n",
        "else:\n",
        "    print(\"Wrong volume\")\n",
        "\n",
        "if(cyl.surface_area() == 904.32):\n",
        "    print(\"Correct surface area\")\n",
        "else:\n",
        "    print(\"Wrong surface area\")\n",
        "\n",
        "\n"
      ],
      "execution_count": null,
      "outputs": []
    },
    {
      "cell_type": "markdown",
      "metadata": {
        "id": "Vqdn6Q98sxoj"
      },
      "source": [
        "# **Data Science Libraries**"
      ]
    },
    {
      "cell_type": "markdown",
      "metadata": {
        "id": "dzWRWpNQdVuR"
      },
      "source": [
        "# Pandas\n",
        "\n",
        "\n",
        "*   One of the most widely used data science libraries\n",
        "*   Used for cleaning, transforming, and analyzing data\n",
        "*   Manipulates data in the form of **DataFrames** (basically a table/spreadsheet in python)\n",
        "\n"
      ]
    },
    {
      "cell_type": "code",
      "metadata": {
        "id": "xKF5PO_Ss-0C"
      },
      "source": [
        "import pandas as pd\n",
        "import numpy as np\n",
        "import matplotlib.pyplot as plt"
      ],
      "execution_count": 3,
      "outputs": []
    },
    {
      "cell_type": "markdown",
      "metadata": {
        "id": "h4tDPuN3pcMs"
      },
      "source": [
        "## Creating a DataFrame"
      ]
    },
    {
      "cell_type": "markdown",
      "metadata": {
        "id": "3wopvAn9qyAM"
      },
      "source": [
        "#### From Arrays"
      ]
    },
    {
      "cell_type": "code",
      "metadata": {
        "id": "rUJL6wpqpbbk",
        "outputId": "c3dc5a8b-1eff-48d7-bf0a-5eecbb8f4d79",
        "colab": {
          "base_uri": "https://localhost:8080/",
          "height": 529
        }
      },
      "source": [
        "arr = np.random.randint(1, 100, size=(10, 4))\n",
        "print(arr)\n",
        "df = pd.DataFrame(arr)\n",
        "df"
      ],
      "execution_count": null,
      "outputs": [
        {
          "output_type": "stream",
          "text": [
            "[[ 5 11 23 53]\n",
            " [35 84 64 56]\n",
            " [54 85 67 26]\n",
            " [46 79 81 71]\n",
            " [ 6 78 97 48]\n",
            " [45 97 66 16]\n",
            " [71  1 31 74]\n",
            " [46 44 83 80]\n",
            " [86 52 33 92]\n",
            " [55 36 19 15]]\n"
          ],
          "name": "stdout"
        },
        {
          "output_type": "execute_result",
          "data": {
            "text/html": [
              "<div>\n",
              "<style scoped>\n",
              "    .dataframe tbody tr th:only-of-type {\n",
              "        vertical-align: middle;\n",
              "    }\n",
              "\n",
              "    .dataframe tbody tr th {\n",
              "        vertical-align: top;\n",
              "    }\n",
              "\n",
              "    .dataframe thead th {\n",
              "        text-align: right;\n",
              "    }\n",
              "</style>\n",
              "<table border=\"1\" class=\"dataframe\">\n",
              "  <thead>\n",
              "    <tr style=\"text-align: right;\">\n",
              "      <th></th>\n",
              "      <th>0</th>\n",
              "      <th>1</th>\n",
              "      <th>2</th>\n",
              "      <th>3</th>\n",
              "    </tr>\n",
              "  </thead>\n",
              "  <tbody>\n",
              "    <tr>\n",
              "      <th>0</th>\n",
              "      <td>5</td>\n",
              "      <td>11</td>\n",
              "      <td>23</td>\n",
              "      <td>53</td>\n",
              "    </tr>\n",
              "    <tr>\n",
              "      <th>1</th>\n",
              "      <td>35</td>\n",
              "      <td>84</td>\n",
              "      <td>64</td>\n",
              "      <td>56</td>\n",
              "    </tr>\n",
              "    <tr>\n",
              "      <th>2</th>\n",
              "      <td>54</td>\n",
              "      <td>85</td>\n",
              "      <td>67</td>\n",
              "      <td>26</td>\n",
              "    </tr>\n",
              "    <tr>\n",
              "      <th>3</th>\n",
              "      <td>46</td>\n",
              "      <td>79</td>\n",
              "      <td>81</td>\n",
              "      <td>71</td>\n",
              "    </tr>\n",
              "    <tr>\n",
              "      <th>4</th>\n",
              "      <td>6</td>\n",
              "      <td>78</td>\n",
              "      <td>97</td>\n",
              "      <td>48</td>\n",
              "    </tr>\n",
              "    <tr>\n",
              "      <th>5</th>\n",
              "      <td>45</td>\n",
              "      <td>97</td>\n",
              "      <td>66</td>\n",
              "      <td>16</td>\n",
              "    </tr>\n",
              "    <tr>\n",
              "      <th>6</th>\n",
              "      <td>71</td>\n",
              "      <td>1</td>\n",
              "      <td>31</td>\n",
              "      <td>74</td>\n",
              "    </tr>\n",
              "    <tr>\n",
              "      <th>7</th>\n",
              "      <td>46</td>\n",
              "      <td>44</td>\n",
              "      <td>83</td>\n",
              "      <td>80</td>\n",
              "    </tr>\n",
              "    <tr>\n",
              "      <th>8</th>\n",
              "      <td>86</td>\n",
              "      <td>52</td>\n",
              "      <td>33</td>\n",
              "      <td>92</td>\n",
              "    </tr>\n",
              "    <tr>\n",
              "      <th>9</th>\n",
              "      <td>55</td>\n",
              "      <td>36</td>\n",
              "      <td>19</td>\n",
              "      <td>15</td>\n",
              "    </tr>\n",
              "  </tbody>\n",
              "</table>\n",
              "</div>"
            ],
            "text/plain": [
              "    0   1   2   3\n",
              "0   5  11  23  53\n",
              "1  35  84  64  56\n",
              "2  54  85  67  26\n",
              "3  46  79  81  71\n",
              "4   6  78  97  48\n",
              "5  45  97  66  16\n",
              "6  71   1  31  74\n",
              "7  46  44  83  80\n",
              "8  86  52  33  92\n",
              "9  55  36  19  15"
            ]
          },
          "metadata": {
            "tags": []
          },
          "execution_count": 3
        }
      ]
    },
    {
      "cell_type": "markdown",
      "metadata": {
        "id": "Z319ZSotq38I"
      },
      "source": [
        "#### From Dictionaries"
      ]
    },
    {
      "cell_type": "code",
      "metadata": {
        "id": "tUC2FmSqq8VN",
        "outputId": "ba8652c2-386b-492e-cda6-f620ba93c332",
        "colab": {
          "base_uri": "https://localhost:8080/",
          "height": 158
        }
      },
      "source": [
        "data = {'Language': ['Python','Java','C++'], 'Difficulty':['Easy','Medium','High']}\n",
        "print(data)\n",
        "pd.DataFrame(data)"
      ],
      "execution_count": null,
      "outputs": [
        {
          "output_type": "stream",
          "text": [
            "{'Language': ['Python', 'Java', 'C++'], 'Difficulty': ['Easy', 'Medium', 'High']}\n"
          ],
          "name": "stdout"
        },
        {
          "output_type": "execute_result",
          "data": {
            "text/html": [
              "<div>\n",
              "<style scoped>\n",
              "    .dataframe tbody tr th:only-of-type {\n",
              "        vertical-align: middle;\n",
              "    }\n",
              "\n",
              "    .dataframe tbody tr th {\n",
              "        vertical-align: top;\n",
              "    }\n",
              "\n",
              "    .dataframe thead th {\n",
              "        text-align: right;\n",
              "    }\n",
              "</style>\n",
              "<table border=\"1\" class=\"dataframe\">\n",
              "  <thead>\n",
              "    <tr style=\"text-align: right;\">\n",
              "      <th></th>\n",
              "      <th>Language</th>\n",
              "      <th>Difficulty</th>\n",
              "    </tr>\n",
              "  </thead>\n",
              "  <tbody>\n",
              "    <tr>\n",
              "      <th>0</th>\n",
              "      <td>Python</td>\n",
              "      <td>Easy</td>\n",
              "    </tr>\n",
              "    <tr>\n",
              "      <th>1</th>\n",
              "      <td>Java</td>\n",
              "      <td>Medium</td>\n",
              "    </tr>\n",
              "    <tr>\n",
              "      <th>2</th>\n",
              "      <td>C++</td>\n",
              "      <td>High</td>\n",
              "    </tr>\n",
              "  </tbody>\n",
              "</table>\n",
              "</div>"
            ],
            "text/plain": [
              "  Language Difficulty\n",
              "0   Python       Easy\n",
              "1     Java     Medium\n",
              "2      C++       High"
            ]
          },
          "metadata": {
            "tags": []
          },
          "execution_count": 6
        }
      ]
    },
    {
      "cell_type": "markdown",
      "metadata": {
        "id": "jUB0spL9i9fY"
      },
      "source": [
        "### From a Dataset "
      ]
    },
    {
      "cell_type": "code",
      "metadata": {
        "id": "t_W6SeNec9pK",
        "outputId": "78cd5b7b-f2ec-4422-b9dd-80ab4d46a857",
        "colab": {
          "base_uri": "https://localhost:8080/",
          "height": 295
        }
      },
      "source": [
        "# Download dataset from GitHub\n",
        "!wget https://github.com/PopcornData/popcorn-data-website/raw/master/Movie%20Seat%20Data.xlsx"
      ],
      "execution_count": 4,
      "outputs": [
        {
          "output_type": "stream",
          "text": [
            "--2020-10-16 16:48:16--  https://github.com/PopcornData/popcorn-data-website/raw/master/Movie%20Seat%20Data.xlsx\n",
            "Resolving github.com (github.com)... 140.82.112.4\n",
            "Connecting to github.com (github.com)|140.82.112.4|:443... connected.\n",
            "HTTP request sent, awaiting response... 302 Found\n",
            "Location: https://raw.githubusercontent.com/PopcornData/popcorn-data-website/master/Movie%20Seat%20Data.xlsx [following]\n",
            "--2020-10-16 16:48:17--  https://raw.githubusercontent.com/PopcornData/popcorn-data-website/master/Movie%20Seat%20Data.xlsx\n",
            "Resolving raw.githubusercontent.com (raw.githubusercontent.com)... 151.101.0.133, 151.101.64.133, 151.101.128.133, ...\n",
            "Connecting to raw.githubusercontent.com (raw.githubusercontent.com)|151.101.0.133|:443... connected.\n",
            "HTTP request sent, awaiting response... 200 OK\n",
            "Length: 3493660 (3.3M) [application/octet-stream]\n",
            "Saving to: ‘Movie Seat Data.xlsx.1’\n",
            "\n",
            "Movie Seat Data.xls 100%[===================>]   3.33M  20.2MB/s    in 0.2s    \n",
            "\n",
            "2020-10-16 16:48:17 (20.2 MB/s) - ‘Movie Seat Data.xlsx.1’ saved [3493660/3493660]\n",
            "\n"
          ],
          "name": "stdout"
        }
      ]
    },
    {
      "cell_type": "code",
      "metadata": {
        "id": "1UIReyJ1dkDD",
        "outputId": "2ab11ecd-453f-4d1d-a81c-d7f4f9a16b56",
        "colab": {
          "base_uri": "https://localhost:8080/",
          "height": 306
        }
      },
      "source": [
        "df = pd.read_excel('Movie Seat Data.xlsx', sheet_name = 1)\n",
        "\n",
        "df.head(5)"
      ],
      "execution_count": 5,
      "outputs": [
        {
          "output_type": "execute_result",
          "data": {
            "text/html": [
              "<div>\n",
              "<style scoped>\n",
              "    .dataframe tbody tr th:only-of-type {\n",
              "        vertical-align: middle;\n",
              "    }\n",
              "\n",
              "    .dataframe tbody tr th {\n",
              "        vertical-align: top;\n",
              "    }\n",
              "\n",
              "    .dataframe thead th {\n",
              "        text-align: right;\n",
              "    }\n",
              "</style>\n",
              "<table border=\"1\" class=\"dataframe\">\n",
              "  <thead>\n",
              "    <tr style=\"text-align: right;\">\n",
              "      <th></th>\n",
              "      <th>Date</th>\n",
              "      <th>Day</th>\n",
              "      <th>Month</th>\n",
              "      <th>Year</th>\n",
              "      <th>Theatre</th>\n",
              "      <th>Hall</th>\n",
              "      <th>Movie</th>\n",
              "      <th>Time</th>\n",
              "      <th>Total Seats</th>\n",
              "      <th>Sold Seats</th>\n",
              "      <th>Percentage Sold</th>\n",
              "      <th>Buy Order</th>\n",
              "      <th>Seat Distb</th>\n",
              "    </tr>\n",
              "  </thead>\n",
              "  <tbody>\n",
              "    <tr>\n",
              "      <th>0</th>\n",
              "      <td>1 Jan 2020</td>\n",
              "      <td>1</td>\n",
              "      <td>Jan</td>\n",
              "      <td>2020</td>\n",
              "      <td>Jcube</td>\n",
              "      <td>JCube Hall 1</td>\n",
              "      <td>Star Wars: The Rise Of Skywalker</td>\n",
              "      <td>10:00</td>\n",
              "      <td>100.0</td>\n",
              "      <td>13.0</td>\n",
              "      <td>0.130000</td>\n",
              "      <td>[['B_7', 'B_6'], ['D_9', 'D_8'], ['A_13', 'A_1...</td>\n",
              "      <td>{'1': 1, '2': 4, '4': 1}</td>\n",
              "    </tr>\n",
              "    <tr>\n",
              "      <th>1</th>\n",
              "      <td>1 Jan 2020</td>\n",
              "      <td>1</td>\n",
              "      <td>Jan</td>\n",
              "      <td>2020</td>\n",
              "      <td>Jcube</td>\n",
              "      <td>JCube Hall 1</td>\n",
              "      <td>Star Wars: The Rise Of Skywalker</td>\n",
              "      <td>13:10</td>\n",
              "      <td>100.0</td>\n",
              "      <td>33.0</td>\n",
              "      <td>0.330000</td>\n",
              "      <td>[['A_11', 'A_10'], ['C_7', 'C_6'], ['C_5', 'C_...</td>\n",
              "      <td>{'1': 4, '2': 11, '7': 1}</td>\n",
              "    </tr>\n",
              "    <tr>\n",
              "      <th>2</th>\n",
              "      <td>1 Jan 2020</td>\n",
              "      <td>1</td>\n",
              "      <td>Jan</td>\n",
              "      <td>2020</td>\n",
              "      <td>Jcube</td>\n",
              "      <td>JCube Hall 1</td>\n",
              "      <td>Star Wars: The Rise Of Skywalker</td>\n",
              "      <td>16:20</td>\n",
              "      <td>100.0</td>\n",
              "      <td>30.0</td>\n",
              "      <td>0.300000</td>\n",
              "      <td>[['B_7', 'B_6'], ['A_10', 'A_11'], ['A_1', 'A_...</td>\n",
              "      <td>{'1': 3, '2': 7, '3': 3, '4': 1}</td>\n",
              "    </tr>\n",
              "    <tr>\n",
              "      <th>3</th>\n",
              "      <td>1 Jan 2020</td>\n",
              "      <td>1</td>\n",
              "      <td>Jan</td>\n",
              "      <td>2020</td>\n",
              "      <td>Jcube</td>\n",
              "      <td>JCube Hall 1</td>\n",
              "      <td>Star Wars: The Rise Of Skywalker</td>\n",
              "      <td>19:30</td>\n",
              "      <td>100.0</td>\n",
              "      <td>29.0</td>\n",
              "      <td>0.290000</td>\n",
              "      <td>[['B_6', 'B_5', 'B_4', 'B_7'], ['B_13', 'B_12'...</td>\n",
              "      <td>{'1': 3, '2': 11, '4': 1}</td>\n",
              "    </tr>\n",
              "    <tr>\n",
              "      <th>4</th>\n",
              "      <td>1 Jan 2020</td>\n",
              "      <td>1</td>\n",
              "      <td>Jan</td>\n",
              "      <td>2020</td>\n",
              "      <td>Jcube</td>\n",
              "      <td>JCube Hall 2</td>\n",
              "      <td>Jumanji: The Next Level</td>\n",
              "      <td>16:00</td>\n",
              "      <td>102.0</td>\n",
              "      <td>90.0</td>\n",
              "      <td>0.882353</td>\n",
              "      <td>[['B_7', 'B_6', 'B_5', 'B_4'], ['C_9', 'C_8'],...</td>\n",
              "      <td>{'1': 8, '2': 16, '3': 7, '4': 6, '5': 1}</td>\n",
              "    </tr>\n",
              "  </tbody>\n",
              "</table>\n",
              "</div>"
            ],
            "text/plain": [
              "         Date  ...                                 Seat Distb\n",
              "0  1 Jan 2020  ...                   {'1': 1, '2': 4, '4': 1}\n",
              "1  1 Jan 2020  ...                  {'1': 4, '2': 11, '7': 1}\n",
              "2  1 Jan 2020  ...           {'1': 3, '2': 7, '3': 3, '4': 1}\n",
              "3  1 Jan 2020  ...                  {'1': 3, '2': 11, '4': 1}\n",
              "4  1 Jan 2020  ...  {'1': 8, '2': 16, '3': 7, '4': 6, '5': 1}\n",
              "\n",
              "[5 rows x 13 columns]"
            ]
          },
          "metadata": {
            "tags": []
          },
          "execution_count": 5
        }
      ]
    },
    {
      "cell_type": "markdown",
      "metadata": {
        "id": "VqtLPAuqtoqi"
      },
      "source": [
        "## Exploring the Data"
      ]
    },
    {
      "cell_type": "code",
      "metadata": {
        "id": "uEGWlUPQtyfc",
        "outputId": "d407d044-f487-47b3-decd-0c1def84fe92",
        "colab": {
          "base_uri": "https://localhost:8080/",
          "height": 104
        }
      },
      "source": [
        "print(df.columns)\n",
        "print(df.index)"
      ],
      "execution_count": null,
      "outputs": [
        {
          "output_type": "stream",
          "text": [
            "Index(['Date', 'Day', 'Month', 'Year', 'Theatre', 'Hall', 'Movie', 'Time',\n",
            "       'Total Seats', 'Sold Seats', 'Percentage Sold', 'Buy Order',\n",
            "       'Seat Distb'],\n",
            "      dtype='object')\n",
            "RangeIndex(start=0, stop=11350, step=1)\n"
          ],
          "name": "stdout"
        }
      ]
    },
    {
      "cell_type": "code",
      "metadata": {
        "id": "TG1bzxoRuKg4",
        "outputId": "21c5ca10-8c34-466d-af8b-5f3d845962a7",
        "colab": {
          "base_uri": "https://localhost:8080/",
          "height": 294
        }
      },
      "source": [
        "df.describe()"
      ],
      "execution_count": null,
      "outputs": [
        {
          "output_type": "execute_result",
          "data": {
            "text/html": [
              "<div>\n",
              "<style scoped>\n",
              "    .dataframe tbody tr th:only-of-type {\n",
              "        vertical-align: middle;\n",
              "    }\n",
              "\n",
              "    .dataframe tbody tr th {\n",
              "        vertical-align: top;\n",
              "    }\n",
              "\n",
              "    .dataframe thead th {\n",
              "        text-align: right;\n",
              "    }\n",
              "</style>\n",
              "<table border=\"1\" class=\"dataframe\">\n",
              "  <thead>\n",
              "    <tr style=\"text-align: right;\">\n",
              "      <th></th>\n",
              "      <th>Day</th>\n",
              "      <th>Year</th>\n",
              "      <th>Total Seats</th>\n",
              "      <th>Sold Seats</th>\n",
              "      <th>Percentage Sold</th>\n",
              "    </tr>\n",
              "  </thead>\n",
              "  <tbody>\n",
              "    <tr>\n",
              "      <th>count</th>\n",
              "      <td>11350.000000</td>\n",
              "      <td>11350.0</td>\n",
              "      <td>11287.000000</td>\n",
              "      <td>11287.000000</td>\n",
              "      <td>11287.000000</td>\n",
              "    </tr>\n",
              "    <tr>\n",
              "      <th>mean</th>\n",
              "      <td>16.046608</td>\n",
              "      <td>2020.0</td>\n",
              "      <td>117.583326</td>\n",
              "      <td>20.975724</td>\n",
              "      <td>0.190912</td>\n",
              "    </tr>\n",
              "    <tr>\n",
              "      <th>std</th>\n",
              "      <td>9.131442</td>\n",
              "      <td>0.0</td>\n",
              "      <td>73.098642</td>\n",
              "      <td>24.763530</td>\n",
              "      <td>0.196191</td>\n",
              "    </tr>\n",
              "    <tr>\n",
              "      <th>min</th>\n",
              "      <td>1.000000</td>\n",
              "      <td>2020.0</td>\n",
              "      <td>28.000000</td>\n",
              "      <td>0.000000</td>\n",
              "      <td>0.000000</td>\n",
              "    </tr>\n",
              "    <tr>\n",
              "      <th>25%</th>\n",
              "      <td>8.000000</td>\n",
              "      <td>2020.0</td>\n",
              "      <td>75.000000</td>\n",
              "      <td>5.000000</td>\n",
              "      <td>0.053333</td>\n",
              "    </tr>\n",
              "    <tr>\n",
              "      <th>50%</th>\n",
              "      <td>17.000000</td>\n",
              "      <td>2020.0</td>\n",
              "      <td>106.000000</td>\n",
              "      <td>13.000000</td>\n",
              "      <td>0.120690</td>\n",
              "    </tr>\n",
              "    <tr>\n",
              "      <th>75%</th>\n",
              "      <td>24.000000</td>\n",
              "      <td>2020.0</td>\n",
              "      <td>148.000000</td>\n",
              "      <td>27.000000</td>\n",
              "      <td>0.259843</td>\n",
              "    </tr>\n",
              "    <tr>\n",
              "      <th>max</th>\n",
              "      <td>31.000000</td>\n",
              "      <td>2020.0</td>\n",
              "      <td>502.000000</td>\n",
              "      <td>287.000000</td>\n",
              "      <td>1.000000</td>\n",
              "    </tr>\n",
              "  </tbody>\n",
              "</table>\n",
              "</div>"
            ],
            "text/plain": [
              "                Day     Year   Total Seats    Sold Seats  Percentage Sold\n",
              "count  11350.000000  11350.0  11287.000000  11287.000000     11287.000000\n",
              "mean      16.046608   2020.0    117.583326     20.975724         0.190912\n",
              "std        9.131442      0.0     73.098642     24.763530         0.196191\n",
              "min        1.000000   2020.0     28.000000      0.000000         0.000000\n",
              "25%        8.000000   2020.0     75.000000      5.000000         0.053333\n",
              "50%       17.000000   2020.0    106.000000     13.000000         0.120690\n",
              "75%       24.000000   2020.0    148.000000     27.000000         0.259843\n",
              "max       31.000000   2020.0    502.000000    287.000000         1.000000"
            ]
          },
          "metadata": {
            "tags": []
          },
          "execution_count": 13
        }
      ]
    },
    {
      "cell_type": "code",
      "metadata": {
        "id": "yJBcJJAweQhq",
        "outputId": "24c2ff5f-e667-4428-fc83-3d0e411f4aa0",
        "colab": {
          "base_uri": "https://localhost:8080/",
          "height": 364
        }
      },
      "source": [
        "df.info()"
      ],
      "execution_count": null,
      "outputs": [
        {
          "output_type": "stream",
          "text": [
            "<class 'pandas.core.frame.DataFrame'>\n",
            "RangeIndex: 11350 entries, 0 to 11349\n",
            "Data columns (total 13 columns):\n",
            " #   Column           Non-Null Count  Dtype  \n",
            "---  ------           --------------  -----  \n",
            " 0   Date             11350 non-null  object \n",
            " 1   Day              11350 non-null  int64  \n",
            " 2   Month            11350 non-null  object \n",
            " 3   Year             11350 non-null  int64  \n",
            " 4   Theatre          11350 non-null  object \n",
            " 5   Hall             11350 non-null  object \n",
            " 6   Movie            11350 non-null  object \n",
            " 7   Time             11350 non-null  object \n",
            " 8   Total Seats      11287 non-null  float64\n",
            " 9   Sold Seats       11287 non-null  float64\n",
            " 10  Percentage Sold  11287 non-null  float64\n",
            " 11  Buy Order        11287 non-null  object \n",
            " 12  Seat Distb       11287 non-null  object \n",
            "dtypes: float64(3), int64(2), object(8)\n",
            "memory usage: 1.1+ MB\n"
          ],
          "name": "stdout"
        }
      ]
    },
    {
      "cell_type": "code",
      "metadata": {
        "id": "pe1kWYBCu4Gu",
        "outputId": "25ae5972-95e4-4e2a-c7ac-499c1171c37d",
        "colab": {
          "base_uri": "https://localhost:8080/",
          "height": 1000
        }
      },
      "source": [
        "df['Theatre'].unique()\n",
        "\n",
        "for col in df:\n",
        "    print(col, df[col].unique(), '\\n-------------------------\\n')"
      ],
      "execution_count": null,
      "outputs": [
        {
          "output_type": "stream",
          "text": [
            "Date ['1 Jan 2020' '2 Jan 2020' '3 Jan 2020' '4 Jan 2020' '5 Jan 2020'\n",
            " '6 Jan 2020' '7 Jan 2020' '8 Jan 2020' '9 Jan 2020' '10 Jan 2020'\n",
            " '11 Jan 2020' '12 Jan 2020' '13 Jan 2020' '14 Jan 2020' '15 Jan 2020'\n",
            " '16 Jan 2020' '17 Jan 2020' '18 Jan 2020' '19 Jan 2020' '20 Jan 2020'\n",
            " '21 Jan 2020' '22 Jan 2020' '23 Jan 2020' '24 Jan 2020' '25 Jan 2020'\n",
            " '26 Jan 2020' '27 Jan 2020' '28 Jan 2020' '29 Jan 2020' '30 Jan 2020'\n",
            " '31 Jan 2020'] \n",
            "-------------------------\n",
            "\n",
            "Day [ 1  2  3  4  5  6  7  8  9 10 11 12 13 14 15 16 17 18 19 20 21 22 23 24\n",
            " 25 26 27 28 29 30 31] \n",
            "-------------------------\n",
            "\n",
            "Month ['Jan'] \n",
            "-------------------------\n",
            "\n",
            "Year [2020] \n",
            "-------------------------\n",
            "\n",
            "Theatre ['Jcube' 'Jewel' 'Lido' 'Nex' 'Paya_Lebar' 'Seletar' 'Waterway_Point'] \n",
            "-------------------------\n",
            "\n",
            "Hall ['JCube Hall 1' 'JCube Hall 2' 'JCube Hall 3' 'JCube Hall 4'\n",
            " 'JCube Hall 5' 'JCube Hall 6' 'JCube IMAX' 'Jewel Dreamers'\n",
            " 'Jewel Hall 1' 'Jewel Hall 2' 'Jewel Hall 3' 'Jewel Hall 4'\n",
            " 'Jewel Hall 5' 'Jewel Hall 6' 'Jewel Hall 7' 'Jewel IMAX'\n",
            " 'Jewel Lumiere One' 'Jewel Lumiere Two' 'Lido Hall 1' 'Lido Hall 10'\n",
            " 'Lido Hall 2' 'Lido Hall 3' 'Lido Hall 4' 'Lido Hall 5' 'Lido Hall 6'\n",
            " 'Lido Hall 7' 'Lido Hall 8' 'Lido Hall 9' 'Lido IMAX' 'nex Hall 1'\n",
            " 'nex Hall 2' 'nex Hall 3' 'nex Hall 4' 'nex Hall 5' 'nex Hall 6'\n",
            " 'nex Hall 7' 'nex Hall 8' 'nex premiere 1' 'nex premiere 2'\n",
            " 'Paya Lebar Quarter Hall 1' 'Paya Lebar Quarter Hall 2'\n",
            " 'Paya Lebar Quarter Hall 3' 'Paya Lebar Quarter Hall 4'\n",
            " 'Paya Lebar Quarter Hall 5' 'Paya Lebar Quarter Hall 6'\n",
            " 'Paya Lebar Quarter Hall 7' 'Paya Lebar Quarter Hall 8'\n",
            " 'Paya Lebar Quarter Hall 9' 'Paya Lebar Quarter IMAX'\n",
            " 'Paya Lebar Quarter Lumiere One' 'Paya Lebar Quarter Lumiere Two'\n",
            " 'Seletar Hall 1' 'Seletar Hall 2' 'Seletar Hall 3' 'Seletar Hall 4'\n",
            " 'Seletar Hall 5' 'Seletar Hall 6' 'Seletar Hall 7' 'Seletar Hall 8'\n",
            " 'Waterway Point Hall 1' 'Waterway Point Hall 10' 'Waterway Point Hall 2'\n",
            " 'Waterway Point Hall 3' 'Waterway Point Hall 4' 'Waterway Point Hall 5'\n",
            " 'Waterway Point Hall 6' 'Waterway Point Hall 7' 'Waterway Point Hall 8'\n",
            " 'Waterway Point Hall 9' 'Waterway Point IMAX'] \n",
            "-------------------------\n",
            "\n",
            "Movie ['Star Wars: The Rise Of Skywalker' 'Jumanji: The Next Level'\n",
            " 'Spies In Disguise' 'IP MAN 4: THE FINALE (M)' 'Cats' \"Disney's Frozen 2\"\n",
            " 'Official Secrets' 'A Shaun The Sheep Movie: Farmageddon'\n",
            " 'Perfect Nanny (F)' 'Someone, Somewhere (F)' 'The Aeronauts'\n",
            " 'Kumanthong (VIETNAMESE)' 'The Grudge' 'Dark Waters' 'Jojo Rabbit'\n",
            " 'An Easy Girl (F)' 'The Wolf Hour' '1917' 'Sheep Without A Shepherd (M)'\n",
            " 'Bernie The Dolphin 2' 'Judy' 'Darbar (T)' 'Playing With Fire'\n",
            " 'Richard Jewell' 'The Farewell' 'Start Up (K)' 'Only Cloud Knows (M)'\n",
            " 'Disney`s Frozen 2 Sing-A-Long' 'Dolittle' 'Distinction' 'Primal'\n",
            " 'The Peanut Butter Falcon' 'Champions' \"Disney's Frozen Sing-A-Long\"\n",
            " 'Intelligent Lives' 'My Brother Chases Dinosaurs' 'Innocent Witness'\n",
            " 'Enter The Fat Dragon (M)' 'Bad Boys For Life' 'Underwater'\n",
            " \"All's Well End's Well 2020 (M)\" 'The Grand Grandmaster (M)'\n",
            " 'Secret Zoo (K)' 'A Moment of Happiness  (M)'] \n",
            "-------------------------\n",
            "\n",
            "Time ['10:00' '13:10' '16:20' '19:30' '16:00' '11:20' '13:40' '18:50' '11:30'\n",
            " '14:40' '17:50' '21:00' '14:00' '16:30' '19:00' '21:30' '10:15' '12:45'\n",
            " '15:15' '17:45' '20:15' '10:40' '13:20' '18:40' '21:20' '11:00' '14:10'\n",
            " '17:20' '20:30' '20:40' '23:00' '00:20' '21:40' '00:10' '12:15' '14:45'\n",
            " '17:15' '19:45' '22:15' '9:45' '10:45' '13:15' '15:45' '18:15' '20:45'\n",
            " '23:15' '10:50' '17:10' '20:20' '23:30' '00:00' '16:40' '12:00' '14:20'\n",
            " '19:10' '9:40' '00:30' '11:50' '15:00' '18:10' '22:45' '10:10' '19:40'\n",
            " '22:50' '12:05' '15:10' '18:20' '9:00' '16:10' '18:30' '13:50' '18:45'\n",
            " '21:10' '9:10' '10:20' '12:50' '15:20' '12:10' '20:50' '22:10' '13:55'\n",
            " '9:05' '20:10' '17:30' '15:50' '12:20' '17:00' '19:20' '10:30' '13:30'\n",
            " '12:40' '17:40' '13:00' '9:50' '14:50' '19:50' '15:40' '9:30' '20:00'\n",
            " '16:50' '14:30' '11:10' '15:30' '18:00' '11:15' '13:45' '16:15' '21:15'\n",
            " '23:45' '11:45' '11:40' '9:15' '9:20' '11:25' '12:30' '23:20' '23:50'\n",
            " '22:30' '23:40' '00:15' '22:05' '00:40' '00:35' '23:10' '22:40' '00:45'\n",
            " '22:20' '18:55' '14:15' '16:45' '15:05' '00:05' '18:25' '16:35' '23:05'\n",
            " '21:35' '13:05' '14:25' '21:50' '17:55' '22:55' '23:35' '16:05' '19:15'\n",
            " '18:05' '21:45' '22:00' '9:35' '17:35' '22:25' '11:55' '14:35' '14:05'\n",
            " '18:35' '12:55' '23:25' '22:35'] \n",
            "-------------------------\n",
            "\n",
            "Total Seats [100. 102. 177. 189. 137. 149. 126.  51.  59.  60. 130. 106. 131.  28.\n",
            " 502.  72. 104.  88. 313. 164.  56. 112.  75. 321. 150. 151. 148. 140.\n",
            "  50. 185.  58.  61.  97. 141.  30.  86.  89.  87.  94.  95. 108. 127.\n",
            " 122. 133.  nan 161. 166. 423. 169. 225.] \n",
            "-------------------------\n",
            "\n",
            "Sold Seats [ 13.  33.  30.  29.  90.  10.  81.  17.  19.  76.  31.   9.  57.  93.\n",
            " 143.  68.  18.  40.  65. 101.  55.   0.  14.   4.   1.  15.  26.  21.\n",
            "   7.  44.  37.  32.  48.  45.   3.  42.  28.  54.  43.  49.  25.  20.\n",
            "  23.  38.  51.  27.   2.  71.  41.  39.  12.  47.   6.  11.  24.   8.\n",
            "  56. 287.  83.  52.  64.  67.  61.  70.  59. 148. 219.  60. 121.  84.\n",
            "  78.  50.  34.  16.  72.  62.  69.  66. 178. 114.  95. 130. 120. 100.\n",
            "  46.  92. 124. 137. 115. 123. 127. 104.  36.  85.  22.  58.   5.  53.\n",
            "  63.  74.  96.  35.  99. 103. 116.  77.  82. 105. 117.  73.  80. 119.\n",
            "  88.  86.  75.  79.  nan 134. 108. 172. 102. 111.  91.  94. 165. 180.\n",
            " 164. 128.  87. 110. 107.  97. 229. 113. 138. 167.  89. 232. 198. 257.\n",
            " 122. 109. 169. 263. 112. 125. 190. 174. 156. 146. 215. 181. 139. 182.\n",
            " 192. 245. 226. 163. 221. 157. 150. 183. 145. 196.  98. 106. 129. 135.\n",
            " 142. 147. 179. 176. 131. 126. 212. 158. 187.] \n",
            "-------------------------\n",
            "\n",
            "Percentage Sold [0.13       0.33       0.3        ... 0.02364066 0.37837838 0.31081081] \n",
            "-------------------------\n",
            "\n",
            "Buy Order [\"[['B_7', 'B_6'], ['D_9', 'D_8'], ['A_13', 'A_10', 'A_12', 'A_11'], ['C_9', 'C_8'], ['C_11', 'C_10'], ['B_8']]\"\n",
            " \"[['A_11', 'A_10'], ['C_7', 'C_6'], ['C_5', 'C_4'], ['B_7', 'B_6'], ['A_1', 'A_2'], ['C_9', 'C_8'], ['D_9'], ['A_13', 'A_12'], ['B_5', 'B_4'], ['B_3'], ['C_15'], ['C_11', 'C_10'], ['D_7'], ['E_9', 'E_8'], ['D_5', 'E_4', 'D_6', 'D_4', 'D_3', 'E_6', 'E_5'], ['B_9', 'B_8']]\"\n",
            " \"[['B_7', 'B_6'], ['A_10', 'A_11'], ['A_1', 'A_2'], ['B_2', 'B_1'], ['B_3'], ['C_7'], ['D_8', 'D_9'], ['C_8'], ['D_7', 'D_6', 'D_5'], ['C_10', 'C_9'], ['A_15', 'A_14', 'A_13', 'A_12'], ['B_9', 'B_8'], ['B_12', 'B_11', 'B_10'], ['C_13', 'C_12', 'C_11']]\"\n",
            " ...\n",
            " \"[['B_7', 'B_8', 'B_9'], ['C_7', 'C_8'], ['F_7', 'F_8'], ['B_10', 'B_11'], ['C_5', 'C_6'], ['D_7', 'D_8'], ['D_5', 'D_6'], ['A_13', 'A_12'], ['C_9', 'C_10'], ['E_4', 'E_5', 'E_6'], ['E_10'], ['G_6', 'G_5'], ['G_7'], ['E_7', 'E_8'], ['F_3', 'F_4', 'F_5', 'F_6'], ['C_4', 'C_3'], ['D_9', 'D_10']]\"\n",
            " \"[['F_13', 'F_14']]\"\n",
            " \"[['A_13', 'A_14'], ['D_10', 'D_11'], ['B_13', 'B_14']]\"] \n",
            "-------------------------\n",
            "\n",
            "Seat Distb [\"{'1': 1, '2': 4, '4': 1}\" \"{'1': 4, '2': 11, '7': 1}\"\n",
            " \"{'1': 3, '2': 7, '3': 3, '4': 1}\" ... \"{'1': 10, '2': 10, '3': 1}\"\n",
            " \"{'1': 2, '2': 19, '3': 2, '4': 1, '5': 1}\" \"{'1': 1, '2': 14, '4': 2}\"] \n",
            "-------------------------\n",
            "\n"
          ],
          "name": "stdout"
        }
      ]
    },
    {
      "cell_type": "markdown",
      "metadata": {
        "id": "O1_Q0J03wNoS"
      },
      "source": [
        "## Filtering Data\n"
      ]
    },
    {
      "cell_type": "markdown",
      "metadata": {
        "id": "Qx-aF86Dzvlm"
      },
      "source": [
        "#### Getting specific rows for a subset of columns\n"
      ]
    },
    {
      "cell_type": "code",
      "metadata": {
        "id": "V0n2hymvwMs9",
        "outputId": "ce0ee664-b751-4839-ac31-d1f02cd19680",
        "colab": {
          "base_uri": "https://localhost:8080/",
          "height": 1000
        }
      },
      "source": [
        "df.loc[3000:3040, ['Theatre', 'Hall', 'Movie']]"
      ],
      "execution_count": null,
      "outputs": [
        {
          "output_type": "execute_result",
          "data": {
            "text/html": [
              "<div>\n",
              "<style scoped>\n",
              "    .dataframe tbody tr th:only-of-type {\n",
              "        vertical-align: middle;\n",
              "    }\n",
              "\n",
              "    .dataframe tbody tr th {\n",
              "        vertical-align: top;\n",
              "    }\n",
              "\n",
              "    .dataframe thead th {\n",
              "        text-align: right;\n",
              "    }\n",
              "</style>\n",
              "<table border=\"1\" class=\"dataframe\">\n",
              "  <thead>\n",
              "    <tr style=\"text-align: right;\">\n",
              "      <th></th>\n",
              "      <th>Theatre</th>\n",
              "      <th>Hall</th>\n",
              "      <th>Movie</th>\n",
              "    </tr>\n",
              "  </thead>\n",
              "  <tbody>\n",
              "    <tr>\n",
              "      <th>3000</th>\n",
              "      <td>Jcube</td>\n",
              "      <td>JCube Hall 3</td>\n",
              "      <td>IP MAN 4: THE FINALE (M)</td>\n",
              "    </tr>\n",
              "    <tr>\n",
              "      <th>3001</th>\n",
              "      <td>Jcube</td>\n",
              "      <td>JCube Hall 4</td>\n",
              "      <td>1917</td>\n",
              "    </tr>\n",
              "    <tr>\n",
              "      <th>3002</th>\n",
              "      <td>Jcube</td>\n",
              "      <td>JCube Hall 4</td>\n",
              "      <td>1917</td>\n",
              "    </tr>\n",
              "    <tr>\n",
              "      <th>3003</th>\n",
              "      <td>Jcube</td>\n",
              "      <td>JCube Hall 4</td>\n",
              "      <td>1917</td>\n",
              "    </tr>\n",
              "    <tr>\n",
              "      <th>3004</th>\n",
              "      <td>Jcube</td>\n",
              "      <td>JCube Hall 4</td>\n",
              "      <td>1917</td>\n",
              "    </tr>\n",
              "    <tr>\n",
              "      <th>3005</th>\n",
              "      <td>Jcube</td>\n",
              "      <td>JCube Hall 4</td>\n",
              "      <td>1917</td>\n",
              "    </tr>\n",
              "    <tr>\n",
              "      <th>3006</th>\n",
              "      <td>Jcube</td>\n",
              "      <td>JCube Hall 5</td>\n",
              "      <td>Sheep Without A Shepherd (M)</td>\n",
              "    </tr>\n",
              "    <tr>\n",
              "      <th>3007</th>\n",
              "      <td>Jcube</td>\n",
              "      <td>JCube Hall 5</td>\n",
              "      <td>Sheep Without A Shepherd (M)</td>\n",
              "    </tr>\n",
              "    <tr>\n",
              "      <th>3008</th>\n",
              "      <td>Jcube</td>\n",
              "      <td>JCube Hall 5</td>\n",
              "      <td>Sheep Without A Shepherd (M)</td>\n",
              "    </tr>\n",
              "    <tr>\n",
              "      <th>3009</th>\n",
              "      <td>Jcube</td>\n",
              "      <td>JCube Hall 5</td>\n",
              "      <td>Sheep Without A Shepherd (M)</td>\n",
              "    </tr>\n",
              "    <tr>\n",
              "      <th>3010</th>\n",
              "      <td>Jcube</td>\n",
              "      <td>JCube Hall 5</td>\n",
              "      <td>Sheep Without A Shepherd (M)</td>\n",
              "    </tr>\n",
              "    <tr>\n",
              "      <th>3011</th>\n",
              "      <td>Jcube</td>\n",
              "      <td>JCube Hall 6</td>\n",
              "      <td>IP MAN 4: THE FINALE (M)</td>\n",
              "    </tr>\n",
              "    <tr>\n",
              "      <th>3012</th>\n",
              "      <td>Jcube</td>\n",
              "      <td>JCube Hall 6</td>\n",
              "      <td>IP MAN 4: THE FINALE (M)</td>\n",
              "    </tr>\n",
              "    <tr>\n",
              "      <th>3013</th>\n",
              "      <td>Jcube</td>\n",
              "      <td>JCube Hall 6</td>\n",
              "      <td>IP MAN 4: THE FINALE (M)</td>\n",
              "    </tr>\n",
              "    <tr>\n",
              "      <th>3014</th>\n",
              "      <td>Jcube</td>\n",
              "      <td>JCube Hall 6</td>\n",
              "      <td>IP MAN 4: THE FINALE (M)</td>\n",
              "    </tr>\n",
              "    <tr>\n",
              "      <th>3015</th>\n",
              "      <td>Jcube</td>\n",
              "      <td>JCube Hall 6</td>\n",
              "      <td>IP MAN 4: THE FINALE (M)</td>\n",
              "    </tr>\n",
              "    <tr>\n",
              "      <th>3016</th>\n",
              "      <td>Jcube</td>\n",
              "      <td>JCube IMAX</td>\n",
              "      <td>1917</td>\n",
              "    </tr>\n",
              "    <tr>\n",
              "      <th>3017</th>\n",
              "      <td>Jcube</td>\n",
              "      <td>JCube IMAX</td>\n",
              "      <td>1917</td>\n",
              "    </tr>\n",
              "    <tr>\n",
              "      <th>3018</th>\n",
              "      <td>Jcube</td>\n",
              "      <td>JCube IMAX</td>\n",
              "      <td>1917</td>\n",
              "    </tr>\n",
              "    <tr>\n",
              "      <th>3019</th>\n",
              "      <td>Jcube</td>\n",
              "      <td>JCube IMAX</td>\n",
              "      <td>1917</td>\n",
              "    </tr>\n",
              "    <tr>\n",
              "      <th>3020</th>\n",
              "      <td>Jcube</td>\n",
              "      <td>JCube IMAX</td>\n",
              "      <td>Star Wars: The Rise Of Skywalker</td>\n",
              "    </tr>\n",
              "    <tr>\n",
              "      <th>3021</th>\n",
              "      <td>Jewel</td>\n",
              "      <td>Jewel Dreamers</td>\n",
              "      <td>Bernie The Dolphin 2</td>\n",
              "    </tr>\n",
              "    <tr>\n",
              "      <th>3022</th>\n",
              "      <td>Jewel</td>\n",
              "      <td>Jewel Dreamers</td>\n",
              "      <td>Bernie The Dolphin 2</td>\n",
              "    </tr>\n",
              "    <tr>\n",
              "      <th>3023</th>\n",
              "      <td>Jewel</td>\n",
              "      <td>Jewel Dreamers</td>\n",
              "      <td>Bernie The Dolphin 2</td>\n",
              "    </tr>\n",
              "    <tr>\n",
              "      <th>3024</th>\n",
              "      <td>Jewel</td>\n",
              "      <td>Jewel Dreamers</td>\n",
              "      <td>Disney's Frozen 2</td>\n",
              "    </tr>\n",
              "    <tr>\n",
              "      <th>3025</th>\n",
              "      <td>Jewel</td>\n",
              "      <td>Jewel Dreamers</td>\n",
              "      <td>Disney's Frozen 2</td>\n",
              "    </tr>\n",
              "    <tr>\n",
              "      <th>3026</th>\n",
              "      <td>Jewel</td>\n",
              "      <td>Jewel Dreamers</td>\n",
              "      <td>Disney's Frozen 2</td>\n",
              "    </tr>\n",
              "    <tr>\n",
              "      <th>3027</th>\n",
              "      <td>Jewel</td>\n",
              "      <td>Jewel Hall 1</td>\n",
              "      <td>Dark Waters</td>\n",
              "    </tr>\n",
              "    <tr>\n",
              "      <th>3028</th>\n",
              "      <td>Jewel</td>\n",
              "      <td>Jewel Hall 1</td>\n",
              "      <td>Judy</td>\n",
              "    </tr>\n",
              "    <tr>\n",
              "      <th>3029</th>\n",
              "      <td>Jewel</td>\n",
              "      <td>Jewel Hall 1</td>\n",
              "      <td>Judy</td>\n",
              "    </tr>\n",
              "    <tr>\n",
              "      <th>3030</th>\n",
              "      <td>Jewel</td>\n",
              "      <td>Jewel Hall 1</td>\n",
              "      <td>Judy</td>\n",
              "    </tr>\n",
              "    <tr>\n",
              "      <th>3031</th>\n",
              "      <td>Jewel</td>\n",
              "      <td>Jewel Hall 1</td>\n",
              "      <td>Judy</td>\n",
              "    </tr>\n",
              "    <tr>\n",
              "      <th>3032</th>\n",
              "      <td>Jewel</td>\n",
              "      <td>Jewel Hall 1</td>\n",
              "      <td>Official Secrets</td>\n",
              "    </tr>\n",
              "    <tr>\n",
              "      <th>3033</th>\n",
              "      <td>Jewel</td>\n",
              "      <td>Jewel Hall 2</td>\n",
              "      <td>Spies In Disguise</td>\n",
              "    </tr>\n",
              "    <tr>\n",
              "      <th>3034</th>\n",
              "      <td>Jewel</td>\n",
              "      <td>Jewel Hall 2</td>\n",
              "      <td>Star Wars: The Rise Of Skywalker</td>\n",
              "    </tr>\n",
              "    <tr>\n",
              "      <th>3035</th>\n",
              "      <td>Jewel</td>\n",
              "      <td>Jewel Hall 2</td>\n",
              "      <td>Star Wars: The Rise Of Skywalker</td>\n",
              "    </tr>\n",
              "    <tr>\n",
              "      <th>3036</th>\n",
              "      <td>Jewel</td>\n",
              "      <td>Jewel Hall 2</td>\n",
              "      <td>Star Wars: The Rise Of Skywalker</td>\n",
              "    </tr>\n",
              "    <tr>\n",
              "      <th>3037</th>\n",
              "      <td>Jewel</td>\n",
              "      <td>Jewel Hall 2</td>\n",
              "      <td>Star Wars: The Rise Of Skywalker</td>\n",
              "    </tr>\n",
              "    <tr>\n",
              "      <th>3038</th>\n",
              "      <td>Jewel</td>\n",
              "      <td>Jewel Hall 3</td>\n",
              "      <td>Disney's Frozen 2</td>\n",
              "    </tr>\n",
              "    <tr>\n",
              "      <th>3039</th>\n",
              "      <td>Jewel</td>\n",
              "      <td>Jewel Hall 3</td>\n",
              "      <td>Jojo Rabbit</td>\n",
              "    </tr>\n",
              "    <tr>\n",
              "      <th>3040</th>\n",
              "      <td>Jewel</td>\n",
              "      <td>Jewel Hall 3</td>\n",
              "      <td>Jojo Rabbit</td>\n",
              "    </tr>\n",
              "  </tbody>\n",
              "</table>\n",
              "</div>"
            ],
            "text/plain": [
              "     Theatre            Hall                             Movie\n",
              "3000   Jcube    JCube Hall 3          IP MAN 4: THE FINALE (M)\n",
              "3001   Jcube    JCube Hall 4                              1917\n",
              "3002   Jcube    JCube Hall 4                              1917\n",
              "3003   Jcube    JCube Hall 4                              1917\n",
              "3004   Jcube    JCube Hall 4                              1917\n",
              "3005   Jcube    JCube Hall 4                              1917\n",
              "3006   Jcube    JCube Hall 5      Sheep Without A Shepherd (M)\n",
              "3007   Jcube    JCube Hall 5      Sheep Without A Shepherd (M)\n",
              "3008   Jcube    JCube Hall 5      Sheep Without A Shepherd (M)\n",
              "3009   Jcube    JCube Hall 5      Sheep Without A Shepherd (M)\n",
              "3010   Jcube    JCube Hall 5      Sheep Without A Shepherd (M)\n",
              "3011   Jcube    JCube Hall 6          IP MAN 4: THE FINALE (M)\n",
              "3012   Jcube    JCube Hall 6          IP MAN 4: THE FINALE (M)\n",
              "3013   Jcube    JCube Hall 6          IP MAN 4: THE FINALE (M)\n",
              "3014   Jcube    JCube Hall 6          IP MAN 4: THE FINALE (M)\n",
              "3015   Jcube    JCube Hall 6          IP MAN 4: THE FINALE (M)\n",
              "3016   Jcube      JCube IMAX                              1917\n",
              "3017   Jcube      JCube IMAX                              1917\n",
              "3018   Jcube      JCube IMAX                              1917\n",
              "3019   Jcube      JCube IMAX                              1917\n",
              "3020   Jcube      JCube IMAX  Star Wars: The Rise Of Skywalker\n",
              "3021   Jewel  Jewel Dreamers              Bernie The Dolphin 2\n",
              "3022   Jewel  Jewel Dreamers              Bernie The Dolphin 2\n",
              "3023   Jewel  Jewel Dreamers              Bernie The Dolphin 2\n",
              "3024   Jewel  Jewel Dreamers                 Disney's Frozen 2\n",
              "3025   Jewel  Jewel Dreamers                 Disney's Frozen 2\n",
              "3026   Jewel  Jewel Dreamers                 Disney's Frozen 2\n",
              "3027   Jewel    Jewel Hall 1                       Dark Waters\n",
              "3028   Jewel    Jewel Hall 1                              Judy\n",
              "3029   Jewel    Jewel Hall 1                              Judy\n",
              "3030   Jewel    Jewel Hall 1                              Judy\n",
              "3031   Jewel    Jewel Hall 1                              Judy\n",
              "3032   Jewel    Jewel Hall 1                  Official Secrets\n",
              "3033   Jewel    Jewel Hall 2                 Spies In Disguise\n",
              "3034   Jewel    Jewel Hall 2  Star Wars: The Rise Of Skywalker\n",
              "3035   Jewel    Jewel Hall 2  Star Wars: The Rise Of Skywalker\n",
              "3036   Jewel    Jewel Hall 2  Star Wars: The Rise Of Skywalker\n",
              "3037   Jewel    Jewel Hall 2  Star Wars: The Rise Of Skywalker\n",
              "3038   Jewel    Jewel Hall 3                 Disney's Frozen 2\n",
              "3039   Jewel    Jewel Hall 3                       Jojo Rabbit\n",
              "3040   Jewel    Jewel Hall 3                       Jojo Rabbit"
            ]
          },
          "metadata": {
            "tags": []
          },
          "execution_count": 20
        }
      ]
    },
    {
      "cell_type": "markdown",
      "metadata": {
        "id": "pKHx1fky0HyF"
      },
      "source": [
        "#### Conditional Filtering"
      ]
    },
    {
      "cell_type": "code",
      "metadata": {
        "id": "R2l_nLMa27D3",
        "outputId": "18f1418e-35c5-40f5-c2f9-be2e1a5f3f65",
        "colab": {
          "base_uri": "https://localhost:8080/",
          "height": 1000
        }
      },
      "source": [
        "#Singal value filtering\n",
        "# df[df['Day']==13].head()\n",
        "\n",
        "#Filte2ing based on range of values\n",
        "# df[df['Day'].isin([1,3,5,7])]"
      ],
      "execution_count": null,
      "outputs": [
        {
          "output_type": "execute_result",
          "data": {
            "text/html": [
              "<div>\n",
              "<style scoped>\n",
              "    .dataframe tbody tr th:only-of-type {\n",
              "        vertical-align: middle;\n",
              "    }\n",
              "\n",
              "    .dataframe tbody tr th {\n",
              "        vertical-align: top;\n",
              "    }\n",
              "\n",
              "    .dataframe thead th {\n",
              "        text-align: right;\n",
              "    }\n",
              "</style>\n",
              "<table border=\"1\" class=\"dataframe\">\n",
              "  <thead>\n",
              "    <tr style=\"text-align: right;\">\n",
              "      <th></th>\n",
              "      <th>Date</th>\n",
              "      <th>Day</th>\n",
              "      <th>Month</th>\n",
              "      <th>Year</th>\n",
              "      <th>Theatre</th>\n",
              "      <th>Hall</th>\n",
              "      <th>Movie</th>\n",
              "      <th>Time</th>\n",
              "      <th>Total Seats</th>\n",
              "      <th>Sold Seats</th>\n",
              "      <th>Percentage Sold</th>\n",
              "      <th>Buy Order</th>\n",
              "      <th>Seat Distb</th>\n",
              "    </tr>\n",
              "  </thead>\n",
              "  <tbody>\n",
              "    <tr>\n",
              "      <th>0</th>\n",
              "      <td>1 Jan 2020</td>\n",
              "      <td>1</td>\n",
              "      <td>Jan</td>\n",
              "      <td>2020</td>\n",
              "      <td>Jcube</td>\n",
              "      <td>JCube Hall 1</td>\n",
              "      <td>Star Wars: The Rise Of Skywalker</td>\n",
              "      <td>10:00</td>\n",
              "      <td>100.0</td>\n",
              "      <td>13.0</td>\n",
              "      <td>0.130000</td>\n",
              "      <td>[['B_7', 'B_6'], ['D_9', 'D_8'], ['A_13', 'A_1...</td>\n",
              "      <td>{'1': 1, '2': 4, '4': 1}</td>\n",
              "    </tr>\n",
              "    <tr>\n",
              "      <th>1</th>\n",
              "      <td>1 Jan 2020</td>\n",
              "      <td>1</td>\n",
              "      <td>Jan</td>\n",
              "      <td>2020</td>\n",
              "      <td>Jcube</td>\n",
              "      <td>JCube Hall 1</td>\n",
              "      <td>Star Wars: The Rise Of Skywalker</td>\n",
              "      <td>13:10</td>\n",
              "      <td>100.0</td>\n",
              "      <td>33.0</td>\n",
              "      <td>0.330000</td>\n",
              "      <td>[['A_11', 'A_10'], ['C_7', 'C_6'], ['C_5', 'C_...</td>\n",
              "      <td>{'1': 4, '2': 11, '7': 1}</td>\n",
              "    </tr>\n",
              "    <tr>\n",
              "      <th>2</th>\n",
              "      <td>1 Jan 2020</td>\n",
              "      <td>1</td>\n",
              "      <td>Jan</td>\n",
              "      <td>2020</td>\n",
              "      <td>Jcube</td>\n",
              "      <td>JCube Hall 1</td>\n",
              "      <td>Star Wars: The Rise Of Skywalker</td>\n",
              "      <td>16:20</td>\n",
              "      <td>100.0</td>\n",
              "      <td>30.0</td>\n",
              "      <td>0.300000</td>\n",
              "      <td>[['B_7', 'B_6'], ['A_10', 'A_11'], ['A_1', 'A_...</td>\n",
              "      <td>{'1': 3, '2': 7, '3': 3, '4': 1}</td>\n",
              "    </tr>\n",
              "    <tr>\n",
              "      <th>3</th>\n",
              "      <td>1 Jan 2020</td>\n",
              "      <td>1</td>\n",
              "      <td>Jan</td>\n",
              "      <td>2020</td>\n",
              "      <td>Jcube</td>\n",
              "      <td>JCube Hall 1</td>\n",
              "      <td>Star Wars: The Rise Of Skywalker</td>\n",
              "      <td>19:30</td>\n",
              "      <td>100.0</td>\n",
              "      <td>29.0</td>\n",
              "      <td>0.290000</td>\n",
              "      <td>[['B_6', 'B_5', 'B_4', 'B_7'], ['B_13', 'B_12'...</td>\n",
              "      <td>{'1': 3, '2': 11, '4': 1}</td>\n",
              "    </tr>\n",
              "    <tr>\n",
              "      <th>4</th>\n",
              "      <td>1 Jan 2020</td>\n",
              "      <td>1</td>\n",
              "      <td>Jan</td>\n",
              "      <td>2020</td>\n",
              "      <td>Jcube</td>\n",
              "      <td>JCube Hall 2</td>\n",
              "      <td>Jumanji: The Next Level</td>\n",
              "      <td>16:00</td>\n",
              "      <td>102.0</td>\n",
              "      <td>90.0</td>\n",
              "      <td>0.882353</td>\n",
              "      <td>[['B_7', 'B_6', 'B_5', 'B_4'], ['C_9', 'C_8'],...</td>\n",
              "      <td>{'1': 8, '2': 16, '3': 7, '4': 6, '5': 1}</td>\n",
              "    </tr>\n",
              "    <tr>\n",
              "      <th>...</th>\n",
              "      <td>...</td>\n",
              "      <td>...</td>\n",
              "      <td>...</td>\n",
              "      <td>...</td>\n",
              "      <td>...</td>\n",
              "      <td>...</td>\n",
              "      <td>...</td>\n",
              "      <td>...</td>\n",
              "      <td>...</td>\n",
              "      <td>...</td>\n",
              "      <td>...</td>\n",
              "      <td>...</td>\n",
              "      <td>...</td>\n",
              "    </tr>\n",
              "    <tr>\n",
              "      <th>2625</th>\n",
              "      <td>7 Jan 2020</td>\n",
              "      <td>7</td>\n",
              "      <td>Jan</td>\n",
              "      <td>2020</td>\n",
              "      <td>Waterway_Point</td>\n",
              "      <td>Waterway Point Hall 9</td>\n",
              "      <td>IP MAN 4: THE FINALE (M)</td>\n",
              "      <td>19:30</td>\n",
              "      <td>122.0</td>\n",
              "      <td>27.0</td>\n",
              "      <td>0.221311</td>\n",
              "      <td>[['B_7', 'B_8', 'B_9', 'B_10', 'B_11'], ['A_12...</td>\n",
              "      <td>{'1': 2, '2': 10, '5': 1}</td>\n",
              "    </tr>\n",
              "    <tr>\n",
              "      <th>2626</th>\n",
              "      <td>7 Jan 2020</td>\n",
              "      <td>7</td>\n",
              "      <td>Jan</td>\n",
              "      <td>2020</td>\n",
              "      <td>Waterway_Point</td>\n",
              "      <td>Waterway Point IMAX</td>\n",
              "      <td>Star Wars: The Rise Of Skywalker</td>\n",
              "      <td>11:20</td>\n",
              "      <td>189.0</td>\n",
              "      <td>2.0</td>\n",
              "      <td>0.010582</td>\n",
              "      <td>[['H_14'], ['C_8']]</td>\n",
              "      <td>{'1': 2}</td>\n",
              "    </tr>\n",
              "    <tr>\n",
              "      <th>2627</th>\n",
              "      <td>7 Jan 2020</td>\n",
              "      <td>7</td>\n",
              "      <td>Jan</td>\n",
              "      <td>2020</td>\n",
              "      <td>Waterway_Point</td>\n",
              "      <td>Waterway Point IMAX</td>\n",
              "      <td>Star Wars: The Rise Of Skywalker</td>\n",
              "      <td>14:40</td>\n",
              "      <td>189.0</td>\n",
              "      <td>4.0</td>\n",
              "      <td>0.021164</td>\n",
              "      <td>[['D_13'], ['D_15'], ['C_14', 'C_13']]</td>\n",
              "      <td>{'1': 2, '2': 1}</td>\n",
              "    </tr>\n",
              "    <tr>\n",
              "      <th>2628</th>\n",
              "      <td>7 Jan 2020</td>\n",
              "      <td>7</td>\n",
              "      <td>Jan</td>\n",
              "      <td>2020</td>\n",
              "      <td>Waterway_Point</td>\n",
              "      <td>Waterway Point IMAX</td>\n",
              "      <td>Star Wars: The Rise Of Skywalker</td>\n",
              "      <td>18:00</td>\n",
              "      <td>189.0</td>\n",
              "      <td>0.0</td>\n",
              "      <td>0.000000</td>\n",
              "      <td>[[]]</td>\n",
              "      <td>{'0': 1}</td>\n",
              "    </tr>\n",
              "    <tr>\n",
              "      <th>2629</th>\n",
              "      <td>7 Jan 2020</td>\n",
              "      <td>7</td>\n",
              "      <td>Jan</td>\n",
              "      <td>2020</td>\n",
              "      <td>Waterway_Point</td>\n",
              "      <td>Waterway Point IMAX</td>\n",
              "      <td>Star Wars: The Rise Of Skywalker</td>\n",
              "      <td>21:20</td>\n",
              "      <td>189.0</td>\n",
              "      <td>3.0</td>\n",
              "      <td>0.015873</td>\n",
              "      <td>[['B_15'], ['C_14', 'C_13']]</td>\n",
              "      <td>{'1': 1, '2': 1}</td>\n",
              "    </tr>\n",
              "  </tbody>\n",
              "</table>\n",
              "<p>1477 rows × 13 columns</p>\n",
              "</div>"
            ],
            "text/plain": [
              "            Date  ...                                 Seat Distb\n",
              "0     1 Jan 2020  ...                   {'1': 1, '2': 4, '4': 1}\n",
              "1     1 Jan 2020  ...                  {'1': 4, '2': 11, '7': 1}\n",
              "2     1 Jan 2020  ...           {'1': 3, '2': 7, '3': 3, '4': 1}\n",
              "3     1 Jan 2020  ...                  {'1': 3, '2': 11, '4': 1}\n",
              "4     1 Jan 2020  ...  {'1': 8, '2': 16, '3': 7, '4': 6, '5': 1}\n",
              "...          ...  ...                                        ...\n",
              "2625  7 Jan 2020  ...                  {'1': 2, '2': 10, '5': 1}\n",
              "2626  7 Jan 2020  ...                                   {'1': 2}\n",
              "2627  7 Jan 2020  ...                           {'1': 2, '2': 1}\n",
              "2628  7 Jan 2020  ...                                   {'0': 1}\n",
              "2629  7 Jan 2020  ...                           {'1': 1, '2': 1}\n",
              "\n",
              "[1477 rows x 13 columns]"
            ]
          },
          "metadata": {
            "tags": []
          },
          "execution_count": 24
        }
      ]
    },
    {
      "cell_type": "code",
      "metadata": {
        "id": "steptRvyzlMU",
        "outputId": "51576000-4ef9-40ad-bb9e-081f3c88f880",
        "colab": {
          "base_uri": "https://localhost:8080/",
          "height": 745
        }
      },
      "source": [
        "# Use '&' and '|' instead of 'and' and 'or' for multiple conditions\n",
        "\n",
        "# df[(df['Percentage Sold']==0.8) | (df['Percentage Sold']==0.9)]\n",
        "df_filtered = df[(df['Percentage Sold']>0.8) & (df['Theatre']=='Jcube')]\n",
        "# Reset Index\n",
        "df_filtered = df_filtered.reset_index(drop=True)\n",
        "\n",
        "df_filtered"
      ],
      "execution_count": null,
      "outputs": [
        {
          "output_type": "execute_result",
          "data": {
            "text/html": [
              "<div>\n",
              "<style scoped>\n",
              "    .dataframe tbody tr th:only-of-type {\n",
              "        vertical-align: middle;\n",
              "    }\n",
              "\n",
              "    .dataframe tbody tr th {\n",
              "        vertical-align: top;\n",
              "    }\n",
              "\n",
              "    .dataframe thead th {\n",
              "        text-align: right;\n",
              "    }\n",
              "</style>\n",
              "<table border=\"1\" class=\"dataframe\">\n",
              "  <thead>\n",
              "    <tr style=\"text-align: right;\">\n",
              "      <th></th>\n",
              "      <th>Date</th>\n",
              "      <th>Day</th>\n",
              "      <th>Month</th>\n",
              "      <th>Year</th>\n",
              "      <th>Theatre</th>\n",
              "      <th>Hall</th>\n",
              "      <th>Movie</th>\n",
              "      <th>Time</th>\n",
              "      <th>Total Seats</th>\n",
              "      <th>Sold Seats</th>\n",
              "      <th>Percentage Sold</th>\n",
              "      <th>Buy Order</th>\n",
              "      <th>Seat Distb</th>\n",
              "    </tr>\n",
              "  </thead>\n",
              "  <tbody>\n",
              "    <tr>\n",
              "      <th>0</th>\n",
              "      <td>1 Jan 2020</td>\n",
              "      <td>1</td>\n",
              "      <td>Jan</td>\n",
              "      <td>2020</td>\n",
              "      <td>Jcube</td>\n",
              "      <td>JCube Hall 2</td>\n",
              "      <td>Jumanji: The Next Level</td>\n",
              "      <td>16:00</td>\n",
              "      <td>102.0</td>\n",
              "      <td>90.0</td>\n",
              "      <td>0.882353</td>\n",
              "      <td>[['B_7', 'B_6', 'B_5', 'B_4'], ['C_9', 'C_8'],...</td>\n",
              "      <td>{'1': 8, '2': 16, '3': 7, '4': 6, '5': 1}</td>\n",
              "    </tr>\n",
              "    <tr>\n",
              "      <th>1</th>\n",
              "      <td>11 Jan 2020</td>\n",
              "      <td>11</td>\n",
              "      <td>Jan</td>\n",
              "      <td>2020</td>\n",
              "      <td>Jcube</td>\n",
              "      <td>JCube Hall 2</td>\n",
              "      <td>Jumanji: The Next Level</td>\n",
              "      <td>21:10</td>\n",
              "      <td>102.0</td>\n",
              "      <td>84.0</td>\n",
              "      <td>0.823529</td>\n",
              "      <td>[['A_4', 'A_3'], ['B_7', 'B_6', 'B_5'], ['A_11...</td>\n",
              "      <td>{'1': 3, '2': 25, '3': 9, '4': 1}</td>\n",
              "    </tr>\n",
              "    <tr>\n",
              "      <th>2</th>\n",
              "      <td>25 Jan 2020</td>\n",
              "      <td>25</td>\n",
              "      <td>Jan</td>\n",
              "      <td>2020</td>\n",
              "      <td>Jcube</td>\n",
              "      <td>JCube Hall 1</td>\n",
              "      <td>IP MAN 4: THE FINALE (M)</td>\n",
              "      <td>18:40</td>\n",
              "      <td>100.0</td>\n",
              "      <td>81.0</td>\n",
              "      <td>0.810000</td>\n",
              "      <td>[['B_7', 'B_6'], ['C_9', 'C_8', 'C_11', 'C_10'...</td>\n",
              "      <td>{'1': 1, '2': 16, '3': 5, '4': 7, '5': 1}</td>\n",
              "    </tr>\n",
              "    <tr>\n",
              "      <th>3</th>\n",
              "      <td>25 Jan 2020</td>\n",
              "      <td>25</td>\n",
              "      <td>Jan</td>\n",
              "      <td>2020</td>\n",
              "      <td>Jcube</td>\n",
              "      <td>JCube Hall 2</td>\n",
              "      <td>Dolittle</td>\n",
              "      <td>16:20</td>\n",
              "      <td>102.0</td>\n",
              "      <td>100.0</td>\n",
              "      <td>0.980392</td>\n",
              "      <td>[['B_7', 'B_6', 'B_5'], ['A_2', 'A_1'], ['D_9'...</td>\n",
              "      <td>{'1': 6, '2': 11, '3': 13, '4': 7, '5': 1}</td>\n",
              "    </tr>\n",
              "    <tr>\n",
              "      <th>4</th>\n",
              "      <td>25 Jan 2020</td>\n",
              "      <td>25</td>\n",
              "      <td>Jan</td>\n",
              "      <td>2020</td>\n",
              "      <td>Jcube</td>\n",
              "      <td>JCube Hall 4</td>\n",
              "      <td>Enter The Fat Dragon (M)</td>\n",
              "      <td>16:50</td>\n",
              "      <td>189.0</td>\n",
              "      <td>157.0</td>\n",
              "      <td>0.830688</td>\n",
              "      <td>[['A_6', 'A_5', 'A_4', 'B_8', 'A_3', 'B_7', 'B...</td>\n",
              "      <td>{'1': 13, '2': 13, '3': 5, '4': 9, '5': 3, '6'...</td>\n",
              "    </tr>\n",
              "    <tr>\n",
              "      <th>5</th>\n",
              "      <td>26 Jan 2020</td>\n",
              "      <td>26</td>\n",
              "      <td>Jan</td>\n",
              "      <td>2020</td>\n",
              "      <td>Jcube</td>\n",
              "      <td>JCube Hall 1</td>\n",
              "      <td>1917</td>\n",
              "      <td>21:10</td>\n",
              "      <td>100.0</td>\n",
              "      <td>81.0</td>\n",
              "      <td>0.810000</td>\n",
              "      <td>[['D_8', 'D_9'], ['B_7', 'B_6', 'B_5'], ['C_7'...</td>\n",
              "      <td>{'1': 5, '2': 17, '3': 9, '4': 1, '5': 1, '6': 1}</td>\n",
              "    </tr>\n",
              "    <tr>\n",
              "      <th>6</th>\n",
              "      <td>29 Jan 2020</td>\n",
              "      <td>29</td>\n",
              "      <td>Jan</td>\n",
              "      <td>2020</td>\n",
              "      <td>Jcube</td>\n",
              "      <td>JCube Hall 4</td>\n",
              "      <td>Enter The Fat Dragon (M)</td>\n",
              "      <td>12:00</td>\n",
              "      <td>189.0</td>\n",
              "      <td>187.0</td>\n",
              "      <td>0.989418</td>\n",
              "      <td>[['A_6'], ['A_5', 'A_4'], ['A_3'], ['A_2', 'A_...</td>\n",
              "      <td>{'1': 11, '2': 46, '3': 28}</td>\n",
              "    </tr>\n",
              "    <tr>\n",
              "      <th>7</th>\n",
              "      <td>29 Jan 2020</td>\n",
              "      <td>29</td>\n",
              "      <td>Jan</td>\n",
              "      <td>2020</td>\n",
              "      <td>Jcube</td>\n",
              "      <td>JCube Hall 4</td>\n",
              "      <td>Enter The Fat Dragon (M)</td>\n",
              "      <td>9:35</td>\n",
              "      <td>189.0</td>\n",
              "      <td>187.0</td>\n",
              "      <td>0.989418</td>\n",
              "      <td>[['A_12', 'A_13'], ['A_14', 'A_15'], ['A_16', ...</td>\n",
              "      <td>{'1': 10, '2': 28, '3': 39, '4': 1}</td>\n",
              "    </tr>\n",
              "  </tbody>\n",
              "</table>\n",
              "</div>"
            ],
            "text/plain": [
              "          Date  ...                                         Seat Distb\n",
              "0   1 Jan 2020  ...          {'1': 8, '2': 16, '3': 7, '4': 6, '5': 1}\n",
              "1  11 Jan 2020  ...                  {'1': 3, '2': 25, '3': 9, '4': 1}\n",
              "2  25 Jan 2020  ...          {'1': 1, '2': 16, '3': 5, '4': 7, '5': 1}\n",
              "3  25 Jan 2020  ...         {'1': 6, '2': 11, '3': 13, '4': 7, '5': 1}\n",
              "4  25 Jan 2020  ...  {'1': 13, '2': 13, '3': 5, '4': 9, '5': 3, '6'...\n",
              "5  26 Jan 2020  ...  {'1': 5, '2': 17, '3': 9, '4': 1, '5': 1, '6': 1}\n",
              "6  29 Jan 2020  ...                        {'1': 11, '2': 46, '3': 28}\n",
              "7  29 Jan 2020  ...                {'1': 10, '2': 28, '3': 39, '4': 1}\n",
              "\n",
              "[8 rows x 13 columns]"
            ]
          },
          "metadata": {
            "tags": []
          },
          "execution_count": 26
        }
      ]
    },
    {
      "cell_type": "markdown",
      "metadata": {
        "id": "YkSXDpyi5VPe"
      },
      "source": [
        "## Missing Values"
      ]
    },
    {
      "cell_type": "markdown",
      "metadata": {
        "id": "MEhnqyuc65hs"
      },
      "source": [
        "*    When working with real world data, there are often a lot of missing alues.\n",
        "*    Pandas provides us functions to easily remove or modify these values "
      ]
    },
    {
      "cell_type": "code",
      "metadata": {
        "id": "4nIc-lLW7LzN",
        "outputId": "ad4575b0-b475-4d1c-b79d-2071bfe37899",
        "colab": {
          "base_uri": "https://localhost:8080/",
          "height": 202
        }
      },
      "source": [
        "missing_df = pd.DataFrame({'A': [2, 3, np.nan, 5, np.nan], 'B':[np.nan, 4, 2, np.nan, 5]})\n",
        "missing_df"
      ],
      "execution_count": null,
      "outputs": [
        {
          "output_type": "execute_result",
          "data": {
            "text/html": [
              "<div>\n",
              "<style scoped>\n",
              "    .dataframe tbody tr th:only-of-type {\n",
              "        vertical-align: middle;\n",
              "    }\n",
              "\n",
              "    .dataframe tbody tr th {\n",
              "        vertical-align: top;\n",
              "    }\n",
              "\n",
              "    .dataframe thead th {\n",
              "        text-align: right;\n",
              "    }\n",
              "</style>\n",
              "<table border=\"1\" class=\"dataframe\">\n",
              "  <thead>\n",
              "    <tr style=\"text-align: right;\">\n",
              "      <th></th>\n",
              "      <th>A</th>\n",
              "      <th>B</th>\n",
              "    </tr>\n",
              "  </thead>\n",
              "  <tbody>\n",
              "    <tr>\n",
              "      <th>0</th>\n",
              "      <td>2.0</td>\n",
              "      <td>NaN</td>\n",
              "    </tr>\n",
              "    <tr>\n",
              "      <th>1</th>\n",
              "      <td>3.0</td>\n",
              "      <td>4.0</td>\n",
              "    </tr>\n",
              "    <tr>\n",
              "      <th>2</th>\n",
              "      <td>NaN</td>\n",
              "      <td>2.0</td>\n",
              "    </tr>\n",
              "    <tr>\n",
              "      <th>3</th>\n",
              "      <td>5.0</td>\n",
              "      <td>NaN</td>\n",
              "    </tr>\n",
              "    <tr>\n",
              "      <th>4</th>\n",
              "      <td>NaN</td>\n",
              "      <td>5.0</td>\n",
              "    </tr>\n",
              "  </tbody>\n",
              "</table>\n",
              "</div>"
            ],
            "text/plain": [
              "     A    B\n",
              "0  2.0  NaN\n",
              "1  3.0  4.0\n",
              "2  NaN  2.0\n",
              "3  5.0  NaN\n",
              "4  NaN  5.0"
            ]
          },
          "metadata": {
            "tags": []
          },
          "execution_count": 27
        }
      ]
    },
    {
      "cell_type": "code",
      "metadata": {
        "id": "UzEgE0GL7c5b",
        "outputId": "a06d91fe-896d-4ab7-b6bb-46b4b13c2ace",
        "colab": {
          "base_uri": "https://localhost:8080/",
          "height": 79
        }
      },
      "source": [
        "missing_df.dropna(how = 'any')"
      ],
      "execution_count": null,
      "outputs": [
        {
          "output_type": "execute_result",
          "data": {
            "text/html": [
              "<div>\n",
              "<style scoped>\n",
              "    .dataframe tbody tr th:only-of-type {\n",
              "        vertical-align: middle;\n",
              "    }\n",
              "\n",
              "    .dataframe tbody tr th {\n",
              "        vertical-align: top;\n",
              "    }\n",
              "\n",
              "    .dataframe thead th {\n",
              "        text-align: right;\n",
              "    }\n",
              "</style>\n",
              "<table border=\"1\" class=\"dataframe\">\n",
              "  <thead>\n",
              "    <tr style=\"text-align: right;\">\n",
              "      <th></th>\n",
              "      <th>A</th>\n",
              "      <th>B</th>\n",
              "    </tr>\n",
              "  </thead>\n",
              "  <tbody>\n",
              "    <tr>\n",
              "      <th>1</th>\n",
              "      <td>3.0</td>\n",
              "      <td>4.0</td>\n",
              "    </tr>\n",
              "  </tbody>\n",
              "</table>\n",
              "</div>"
            ],
            "text/plain": [
              "     A    B\n",
              "1  3.0  4.0"
            ]
          },
          "metadata": {
            "tags": []
          },
          "execution_count": 28
        }
      ]
    },
    {
      "cell_type": "code",
      "metadata": {
        "id": "lbNT5cQN7-WU",
        "outputId": "94ecccf2-d102-4cfa-e42f-52df4c06198b",
        "colab": {
          "base_uri": "https://localhost:8080/",
          "height": 202
        }
      },
      "source": [
        "missing_df.fillna(value = 'Null')"
      ],
      "execution_count": null,
      "outputs": [
        {
          "output_type": "execute_result",
          "data": {
            "text/html": [
              "<div>\n",
              "<style scoped>\n",
              "    .dataframe tbody tr th:only-of-type {\n",
              "        vertical-align: middle;\n",
              "    }\n",
              "\n",
              "    .dataframe tbody tr th {\n",
              "        vertical-align: top;\n",
              "    }\n",
              "\n",
              "    .dataframe thead th {\n",
              "        text-align: right;\n",
              "    }\n",
              "</style>\n",
              "<table border=\"1\" class=\"dataframe\">\n",
              "  <thead>\n",
              "    <tr style=\"text-align: right;\">\n",
              "      <th></th>\n",
              "      <th>A</th>\n",
              "      <th>B</th>\n",
              "    </tr>\n",
              "  </thead>\n",
              "  <tbody>\n",
              "    <tr>\n",
              "      <th>0</th>\n",
              "      <td>2</td>\n",
              "      <td>Null</td>\n",
              "    </tr>\n",
              "    <tr>\n",
              "      <th>1</th>\n",
              "      <td>3</td>\n",
              "      <td>4</td>\n",
              "    </tr>\n",
              "    <tr>\n",
              "      <th>2</th>\n",
              "      <td>Null</td>\n",
              "      <td>2</td>\n",
              "    </tr>\n",
              "    <tr>\n",
              "      <th>3</th>\n",
              "      <td>5</td>\n",
              "      <td>Null</td>\n",
              "    </tr>\n",
              "    <tr>\n",
              "      <th>4</th>\n",
              "      <td>Null</td>\n",
              "      <td>5</td>\n",
              "    </tr>\n",
              "  </tbody>\n",
              "</table>\n",
              "</div>"
            ],
            "text/plain": [
              "      A     B\n",
              "0     2  Null\n",
              "1     3     4\n",
              "2  Null     2\n",
              "3     5  Null\n",
              "4  Null     5"
            ]
          },
          "metadata": {
            "tags": []
          },
          "execution_count": 30
        }
      ]
    },
    {
      "cell_type": "code",
      "metadata": {
        "id": "rZi8kV8B9wwF",
        "outputId": "c2652d3e-5d62-462b-890d-3f4bc71b43a7",
        "colab": {
          "base_uri": "https://localhost:8080/",
          "height": 202
        }
      },
      "source": [
        "pd.isna(missing_df)"
      ],
      "execution_count": null,
      "outputs": [
        {
          "output_type": "execute_result",
          "data": {
            "text/html": [
              "<div>\n",
              "<style scoped>\n",
              "    .dataframe tbody tr th:only-of-type {\n",
              "        vertical-align: middle;\n",
              "    }\n",
              "\n",
              "    .dataframe tbody tr th {\n",
              "        vertical-align: top;\n",
              "    }\n",
              "\n",
              "    .dataframe thead th {\n",
              "        text-align: right;\n",
              "    }\n",
              "</style>\n",
              "<table border=\"1\" class=\"dataframe\">\n",
              "  <thead>\n",
              "    <tr style=\"text-align: right;\">\n",
              "      <th></th>\n",
              "      <th>A</th>\n",
              "      <th>B</th>\n",
              "    </tr>\n",
              "  </thead>\n",
              "  <tbody>\n",
              "    <tr>\n",
              "      <th>0</th>\n",
              "      <td>False</td>\n",
              "      <td>True</td>\n",
              "    </tr>\n",
              "    <tr>\n",
              "      <th>1</th>\n",
              "      <td>False</td>\n",
              "      <td>False</td>\n",
              "    </tr>\n",
              "    <tr>\n",
              "      <th>2</th>\n",
              "      <td>True</td>\n",
              "      <td>False</td>\n",
              "    </tr>\n",
              "    <tr>\n",
              "      <th>3</th>\n",
              "      <td>False</td>\n",
              "      <td>True</td>\n",
              "    </tr>\n",
              "    <tr>\n",
              "      <th>4</th>\n",
              "      <td>True</td>\n",
              "      <td>False</td>\n",
              "    </tr>\n",
              "  </tbody>\n",
              "</table>\n",
              "</div>"
            ],
            "text/plain": [
              "       A      B\n",
              "0  False   True\n",
              "1  False  False\n",
              "2   True  False\n",
              "3  False   True\n",
              "4   True  False"
            ]
          },
          "metadata": {
            "tags": []
          },
          "execution_count": 31
        }
      ]
    },
    {
      "cell_type": "markdown",
      "metadata": {
        "id": "C4a6tXru94DF"
      },
      "source": [
        "## Operations"
      ]
    },
    {
      "cell_type": "code",
      "metadata": {
        "id": "Vl-EFsX693W-",
        "outputId": "fb9d6f41-cb8f-419f-ec57-569b9a89ea06",
        "colab": {
          "base_uri": "https://localhost:8080/",
          "height": 779
        }
      },
      "source": [
        "df\n",
        "\n",
        "# df['Popular'] = df['Percentage Sold']>0.8\n",
        "\n",
        "# df['Percentage Sold'] = df['Percentage Sold']/100\n",
        "\n",
        "\n",
        "\n",
        "# df.head()\n",
        "\n",
        "#Sorting\n",
        "# df.sort_values(by ='Sold Seats', ascending=False)\n",
        "\n",
        "#Creating a column based on another column\n",
        "df.loc[df['Day'].isin(range(1,8)), 'Week'] = 'Week1'\n",
        "df.loc[df['Day'].isin(range(8,15)), 'Week'] = 'Week2'\n",
        "df.loc[df['Day'].isin(range(15,22)), 'Week'] = 'Week3'\n",
        "df.loc[df['Day'].isin(range(22,32)), 'Week'] = 'Week4'\n",
        "df"
      ],
      "execution_count": null,
      "outputs": [
        {
          "output_type": "execute_result",
          "data": {
            "text/html": [
              "<div>\n",
              "<style scoped>\n",
              "    .dataframe tbody tr th:only-of-type {\n",
              "        vertical-align: middle;\n",
              "    }\n",
              "\n",
              "    .dataframe tbody tr th {\n",
              "        vertical-align: top;\n",
              "    }\n",
              "\n",
              "    .dataframe thead th {\n",
              "        text-align: right;\n",
              "    }\n",
              "</style>\n",
              "<table border=\"1\" class=\"dataframe\">\n",
              "  <thead>\n",
              "    <tr style=\"text-align: right;\">\n",
              "      <th></th>\n",
              "      <th>Date</th>\n",
              "      <th>Day</th>\n",
              "      <th>Month</th>\n",
              "      <th>Year</th>\n",
              "      <th>Theatre</th>\n",
              "      <th>Hall</th>\n",
              "      <th>Movie</th>\n",
              "      <th>Time</th>\n",
              "      <th>Total Seats</th>\n",
              "      <th>Sold Seats</th>\n",
              "      <th>Percentage Sold</th>\n",
              "      <th>Buy Order</th>\n",
              "      <th>Seat Distb</th>\n",
              "      <th>Popular</th>\n",
              "      <th>Week</th>\n",
              "    </tr>\n",
              "  </thead>\n",
              "  <tbody>\n",
              "    <tr>\n",
              "      <th>0</th>\n",
              "      <td>1 Jan 2020</td>\n",
              "      <td>1</td>\n",
              "      <td>Jan</td>\n",
              "      <td>2020</td>\n",
              "      <td>Jcube</td>\n",
              "      <td>JCube Hall 1</td>\n",
              "      <td>Star Wars: The Rise Of Skywalker</td>\n",
              "      <td>10:00</td>\n",
              "      <td>100.0</td>\n",
              "      <td>13.0</td>\n",
              "      <td>13.000000</td>\n",
              "      <td>[['B_7', 'B_6'], ['D_9', 'D_8'], ['A_13', 'A_1...</td>\n",
              "      <td>{'1': 1, '2': 4, '4': 1}</td>\n",
              "      <td>False</td>\n",
              "      <td>Week1</td>\n",
              "    </tr>\n",
              "    <tr>\n",
              "      <th>1</th>\n",
              "      <td>1 Jan 2020</td>\n",
              "      <td>1</td>\n",
              "      <td>Jan</td>\n",
              "      <td>2020</td>\n",
              "      <td>Jcube</td>\n",
              "      <td>JCube Hall 1</td>\n",
              "      <td>Star Wars: The Rise Of Skywalker</td>\n",
              "      <td>13:10</td>\n",
              "      <td>100.0</td>\n",
              "      <td>33.0</td>\n",
              "      <td>33.000000</td>\n",
              "      <td>[['A_11', 'A_10'], ['C_7', 'C_6'], ['C_5', 'C_...</td>\n",
              "      <td>{'1': 4, '2': 11, '7': 1}</td>\n",
              "      <td>False</td>\n",
              "      <td>Week1</td>\n",
              "    </tr>\n",
              "    <tr>\n",
              "      <th>2</th>\n",
              "      <td>1 Jan 2020</td>\n",
              "      <td>1</td>\n",
              "      <td>Jan</td>\n",
              "      <td>2020</td>\n",
              "      <td>Jcube</td>\n",
              "      <td>JCube Hall 1</td>\n",
              "      <td>Star Wars: The Rise Of Skywalker</td>\n",
              "      <td>16:20</td>\n",
              "      <td>100.0</td>\n",
              "      <td>30.0</td>\n",
              "      <td>30.000000</td>\n",
              "      <td>[['B_7', 'B_6'], ['A_10', 'A_11'], ['A_1', 'A_...</td>\n",
              "      <td>{'1': 3, '2': 7, '3': 3, '4': 1}</td>\n",
              "      <td>False</td>\n",
              "      <td>Week1</td>\n",
              "    </tr>\n",
              "    <tr>\n",
              "      <th>3</th>\n",
              "      <td>1 Jan 2020</td>\n",
              "      <td>1</td>\n",
              "      <td>Jan</td>\n",
              "      <td>2020</td>\n",
              "      <td>Jcube</td>\n",
              "      <td>JCube Hall 1</td>\n",
              "      <td>Star Wars: The Rise Of Skywalker</td>\n",
              "      <td>19:30</td>\n",
              "      <td>100.0</td>\n",
              "      <td>29.0</td>\n",
              "      <td>29.000000</td>\n",
              "      <td>[['B_6', 'B_5', 'B_4', 'B_7'], ['B_13', 'B_12'...</td>\n",
              "      <td>{'1': 3, '2': 11, '4': 1}</td>\n",
              "      <td>False</td>\n",
              "      <td>Week1</td>\n",
              "    </tr>\n",
              "    <tr>\n",
              "      <th>4</th>\n",
              "      <td>1 Jan 2020</td>\n",
              "      <td>1</td>\n",
              "      <td>Jan</td>\n",
              "      <td>2020</td>\n",
              "      <td>Jcube</td>\n",
              "      <td>JCube Hall 2</td>\n",
              "      <td>Jumanji: The Next Level</td>\n",
              "      <td>16:00</td>\n",
              "      <td>102.0</td>\n",
              "      <td>90.0</td>\n",
              "      <td>88.235294</td>\n",
              "      <td>[['B_7', 'B_6', 'B_5', 'B_4'], ['C_9', 'C_8'],...</td>\n",
              "      <td>{'1': 8, '2': 16, '3': 7, '4': 6, '5': 1}</td>\n",
              "      <td>True</td>\n",
              "      <td>Week1</td>\n",
              "    </tr>\n",
              "    <tr>\n",
              "      <th>...</th>\n",
              "      <td>...</td>\n",
              "      <td>...</td>\n",
              "      <td>...</td>\n",
              "      <td>...</td>\n",
              "      <td>...</td>\n",
              "      <td>...</td>\n",
              "      <td>...</td>\n",
              "      <td>...</td>\n",
              "      <td>...</td>\n",
              "      <td>...</td>\n",
              "      <td>...</td>\n",
              "      <td>...</td>\n",
              "      <td>...</td>\n",
              "      <td>...</td>\n",
              "      <td>...</td>\n",
              "    </tr>\n",
              "    <tr>\n",
              "      <th>11345</th>\n",
              "      <td>31 Jan 2020</td>\n",
              "      <td>31</td>\n",
              "      <td>Jan</td>\n",
              "      <td>2020</td>\n",
              "      <td>Waterway_Point</td>\n",
              "      <td>Waterway Point IMAX</td>\n",
              "      <td>1917</td>\n",
              "      <td>10:50</td>\n",
              "      <td>225.0</td>\n",
              "      <td>2.0</td>\n",
              "      <td>0.888889</td>\n",
              "      <td>[['F_13', 'F_14']]</td>\n",
              "      <td>{'2': 1}</td>\n",
              "      <td>False</td>\n",
              "      <td>Week4</td>\n",
              "    </tr>\n",
              "    <tr>\n",
              "      <th>11346</th>\n",
              "      <td>31 Jan 2020</td>\n",
              "      <td>31</td>\n",
              "      <td>Jan</td>\n",
              "      <td>2020</td>\n",
              "      <td>Waterway_Point</td>\n",
              "      <td>Waterway Point IMAX</td>\n",
              "      <td>1917</td>\n",
              "      <td>13:30</td>\n",
              "      <td>225.0</td>\n",
              "      <td>0.0</td>\n",
              "      <td>0.000000</td>\n",
              "      <td>[[]]</td>\n",
              "      <td>{'0': 1}</td>\n",
              "      <td>False</td>\n",
              "      <td>Week4</td>\n",
              "    </tr>\n",
              "    <tr>\n",
              "      <th>11347</th>\n",
              "      <td>31 Jan 2020</td>\n",
              "      <td>31</td>\n",
              "      <td>Jan</td>\n",
              "      <td>2020</td>\n",
              "      <td>Waterway_Point</td>\n",
              "      <td>Waterway Point IMAX</td>\n",
              "      <td>1917</td>\n",
              "      <td>19:00</td>\n",
              "      <td>225.0</td>\n",
              "      <td>0.0</td>\n",
              "      <td>0.000000</td>\n",
              "      <td>[[]]</td>\n",
              "      <td>{'0': 1}</td>\n",
              "      <td>False</td>\n",
              "      <td>Week4</td>\n",
              "    </tr>\n",
              "    <tr>\n",
              "      <th>11348</th>\n",
              "      <td>31 Jan 2020</td>\n",
              "      <td>31</td>\n",
              "      <td>Jan</td>\n",
              "      <td>2020</td>\n",
              "      <td>Waterway_Point</td>\n",
              "      <td>Waterway Point IMAX</td>\n",
              "      <td>1917</td>\n",
              "      <td>21:40</td>\n",
              "      <td>225.0</td>\n",
              "      <td>6.0</td>\n",
              "      <td>2.666667</td>\n",
              "      <td>[['A_13', 'A_14'], ['D_10', 'D_11'], ['B_13', ...</td>\n",
              "      <td>{'2': 3}</td>\n",
              "      <td>False</td>\n",
              "      <td>Week4</td>\n",
              "    </tr>\n",
              "    <tr>\n",
              "      <th>11349</th>\n",
              "      <td>31 Jan 2020</td>\n",
              "      <td>31</td>\n",
              "      <td>Jan</td>\n",
              "      <td>2020</td>\n",
              "      <td>Waterway_Point</td>\n",
              "      <td>Waterway Point IMAX</td>\n",
              "      <td>Bad Boys For Life</td>\n",
              "      <td>16:10</td>\n",
              "      <td>225.0</td>\n",
              "      <td>2.0</td>\n",
              "      <td>0.888889</td>\n",
              "      <td>[['A_13', 'A_14']]</td>\n",
              "      <td>{'2': 1}</td>\n",
              "      <td>False</td>\n",
              "      <td>Week4</td>\n",
              "    </tr>\n",
              "  </tbody>\n",
              "</table>\n",
              "<p>11350 rows × 15 columns</p>\n",
              "</div>"
            ],
            "text/plain": [
              "              Date  Day  ... Popular   Week\n",
              "0       1 Jan 2020    1  ...   False  Week1\n",
              "1       1 Jan 2020    1  ...   False  Week1\n",
              "2       1 Jan 2020    1  ...   False  Week1\n",
              "3       1 Jan 2020    1  ...   False  Week1\n",
              "4       1 Jan 2020    1  ...    True  Week1\n",
              "...            ...  ...  ...     ...    ...\n",
              "11345  31 Jan 2020   31  ...   False  Week4\n",
              "11346  31 Jan 2020   31  ...   False  Week4\n",
              "11347  31 Jan 2020   31  ...   False  Week4\n",
              "11348  31 Jan 2020   31  ...   False  Week4\n",
              "11349  31 Jan 2020   31  ...   False  Week4\n",
              "\n",
              "[11350 rows x 15 columns]"
            ]
          },
          "metadata": {
            "tags": []
          },
          "execution_count": 41
        }
      ]
    },
    {
      "cell_type": "markdown",
      "metadata": {
        "id": "samE-FGiBCwS"
      },
      "source": [
        "## Grouping\n",
        "\n",
        "*   The 'groupby' function in pandas allows us to aggregate data based on specific columns to \n",
        "*   Similar to the pivot table function in Excel\n",
        "*   Grouping data makes it easier for us to analyse it\n",
        "\n"
      ]
    },
    {
      "cell_type": "markdown",
      "metadata": {
        "id": "ePRJ_6HqaB4w"
      },
      "source": [
        "#### Popularity of Theatres"
      ]
    },
    {
      "cell_type": "code",
      "metadata": {
        "id": "6c45-xWrBARa",
        "outputId": "d062d51b-c568-4c06-e0f1-2f0ee5d3c730",
        "colab": {
          "base_uri": "https://localhost:8080/",
          "height": 294
        }
      },
      "source": [
        "df2 = df.groupby(['Theatre']).sum().loc[:,['Total Seats','Sold Seats']]\n",
        "df2"
      ],
      "execution_count": 6,
      "outputs": [
        {
          "output_type": "execute_result",
          "data": {
            "text/html": [
              "<div>\n",
              "<style scoped>\n",
              "    .dataframe tbody tr th:only-of-type {\n",
              "        vertical-align: middle;\n",
              "    }\n",
              "\n",
              "    .dataframe tbody tr th {\n",
              "        vertical-align: top;\n",
              "    }\n",
              "\n",
              "    .dataframe thead th {\n",
              "        text-align: right;\n",
              "    }\n",
              "</style>\n",
              "<table border=\"1\" class=\"dataframe\">\n",
              "  <thead>\n",
              "    <tr style=\"text-align: right;\">\n",
              "      <th></th>\n",
              "      <th>Total Seats</th>\n",
              "      <th>Sold Seats</th>\n",
              "    </tr>\n",
              "    <tr>\n",
              "      <th>Theatre</th>\n",
              "      <th></th>\n",
              "      <th></th>\n",
              "    </tr>\n",
              "  </thead>\n",
              "  <tbody>\n",
              "    <tr>\n",
              "      <th>Jcube</th>\n",
              "      <td>160008.0</td>\n",
              "      <td>23409.0</td>\n",
              "    </tr>\n",
              "    <tr>\n",
              "      <th>Jewel</th>\n",
              "      <td>144399.0</td>\n",
              "      <td>23037.0</td>\n",
              "    </tr>\n",
              "    <tr>\n",
              "      <th>Lido</th>\n",
              "      <td>309915.0</td>\n",
              "      <td>61832.0</td>\n",
              "    </tr>\n",
              "    <tr>\n",
              "      <th>Nex</th>\n",
              "      <td>205210.0</td>\n",
              "      <td>43825.0</td>\n",
              "    </tr>\n",
              "    <tr>\n",
              "      <th>Paya_Lebar</th>\n",
              "      <td>158969.0</td>\n",
              "      <td>23653.0</td>\n",
              "    </tr>\n",
              "    <tr>\n",
              "      <th>Seletar</th>\n",
              "      <td>118801.0</td>\n",
              "      <td>17868.0</td>\n",
              "    </tr>\n",
              "    <tr>\n",
              "      <th>Waterway_Point</th>\n",
              "      <td>229861.0</td>\n",
              "      <td>43129.0</td>\n",
              "    </tr>\n",
              "  </tbody>\n",
              "</table>\n",
              "</div>"
            ],
            "text/plain": [
              "                Total Seats  Sold Seats\n",
              "Theatre                                \n",
              "Jcube              160008.0     23409.0\n",
              "Jewel              144399.0     23037.0\n",
              "Lido               309915.0     61832.0\n",
              "Nex                205210.0     43825.0\n",
              "Paya_Lebar         158969.0     23653.0\n",
              "Seletar            118801.0     17868.0\n",
              "Waterway_Point     229861.0     43129.0"
            ]
          },
          "metadata": {
            "tags": []
          },
          "execution_count": 6
        }
      ]
    },
    {
      "cell_type": "code",
      "metadata": {
        "id": "EjRrVXN6es9X",
        "outputId": "7d952c55-1602-4108-dc07-39f726df1419",
        "colab": {
          "base_uri": "https://localhost:8080/",
          "height": 294
        }
      },
      "source": [
        "\n",
        "df2['Percentage Sold'] = df2['Sold Seats'] / df2['Total Seats'] * 100\n",
        "df2.sort_values(by= 'Percentage Sold')\n"
      ],
      "execution_count": 7,
      "outputs": [
        {
          "output_type": "execute_result",
          "data": {
            "text/html": [
              "<div>\n",
              "<style scoped>\n",
              "    .dataframe tbody tr th:only-of-type {\n",
              "        vertical-align: middle;\n",
              "    }\n",
              "\n",
              "    .dataframe tbody tr th {\n",
              "        vertical-align: top;\n",
              "    }\n",
              "\n",
              "    .dataframe thead th {\n",
              "        text-align: right;\n",
              "    }\n",
              "</style>\n",
              "<table border=\"1\" class=\"dataframe\">\n",
              "  <thead>\n",
              "    <tr style=\"text-align: right;\">\n",
              "      <th></th>\n",
              "      <th>Total Seats</th>\n",
              "      <th>Sold Seats</th>\n",
              "      <th>Percentage Sold</th>\n",
              "    </tr>\n",
              "    <tr>\n",
              "      <th>Theatre</th>\n",
              "      <th></th>\n",
              "      <th></th>\n",
              "      <th></th>\n",
              "    </tr>\n",
              "  </thead>\n",
              "  <tbody>\n",
              "    <tr>\n",
              "      <th>Jcube</th>\n",
              "      <td>160008.0</td>\n",
              "      <td>23409.0</td>\n",
              "      <td>14.629894</td>\n",
              "    </tr>\n",
              "    <tr>\n",
              "      <th>Paya_Lebar</th>\n",
              "      <td>158969.0</td>\n",
              "      <td>23653.0</td>\n",
              "      <td>14.879002</td>\n",
              "    </tr>\n",
              "    <tr>\n",
              "      <th>Seletar</th>\n",
              "      <td>118801.0</td>\n",
              "      <td>17868.0</td>\n",
              "      <td>15.040277</td>\n",
              "    </tr>\n",
              "    <tr>\n",
              "      <th>Jewel</th>\n",
              "      <td>144399.0</td>\n",
              "      <td>23037.0</td>\n",
              "      <td>15.953712</td>\n",
              "    </tr>\n",
              "    <tr>\n",
              "      <th>Waterway_Point</th>\n",
              "      <td>229861.0</td>\n",
              "      <td>43129.0</td>\n",
              "      <td>18.763079</td>\n",
              "    </tr>\n",
              "    <tr>\n",
              "      <th>Lido</th>\n",
              "      <td>309915.0</td>\n",
              "      <td>61832.0</td>\n",
              "      <td>19.951277</td>\n",
              "    </tr>\n",
              "    <tr>\n",
              "      <th>Nex</th>\n",
              "      <td>205210.0</td>\n",
              "      <td>43825.0</td>\n",
              "      <td>21.356172</td>\n",
              "    </tr>\n",
              "  </tbody>\n",
              "</table>\n",
              "</div>"
            ],
            "text/plain": [
              "                Total Seats  Sold Seats  Percentage Sold\n",
              "Theatre                                                 \n",
              "Jcube              160008.0     23409.0        14.629894\n",
              "Paya_Lebar         158969.0     23653.0        14.879002\n",
              "Seletar            118801.0     17868.0        15.040277\n",
              "Jewel              144399.0     23037.0        15.953712\n",
              "Waterway_Point     229861.0     43129.0        18.763079\n",
              "Lido               309915.0     61832.0        19.951277\n",
              "Nex                205210.0     43825.0        21.356172"
            ]
          },
          "metadata": {
            "tags": []
          },
          "execution_count": 7
        }
      ]
    },
    {
      "cell_type": "markdown",
      "metadata": {
        "id": "vDTb7kOsaNQR"
      },
      "source": [
        "#### Popularity of Movies"
      ]
    },
    {
      "cell_type": "code",
      "metadata": {
        "id": "CknpE3hGaMFa",
        "outputId": "a868b64c-d322-4749-c88e-f3fa59cd5409",
        "colab": {
          "base_uri": "https://localhost:8080/",
          "height": 1000
        }
      },
      "source": [
        "df3 = df.groupby(['Movie']).sum().loc[:,['Total Seats','Sold Seats']]\n",
        "df3['Percentage Sold'] = df3['Sold Seats'] / df3['Total Seats'] * 100\n",
        "df3"
      ],
      "execution_count": 8,
      "outputs": [
        {
          "output_type": "execute_result",
          "data": {
            "text/html": [
              "<div>\n",
              "<style scoped>\n",
              "    .dataframe tbody tr th:only-of-type {\n",
              "        vertical-align: middle;\n",
              "    }\n",
              "\n",
              "    .dataframe tbody tr th {\n",
              "        vertical-align: top;\n",
              "    }\n",
              "\n",
              "    .dataframe thead th {\n",
              "        text-align: right;\n",
              "    }\n",
              "</style>\n",
              "<table border=\"1\" class=\"dataframe\">\n",
              "  <thead>\n",
              "    <tr style=\"text-align: right;\">\n",
              "      <th></th>\n",
              "      <th>Total Seats</th>\n",
              "      <th>Sold Seats</th>\n",
              "      <th>Percentage Sold</th>\n",
              "    </tr>\n",
              "    <tr>\n",
              "      <th>Movie</th>\n",
              "      <th></th>\n",
              "      <th></th>\n",
              "      <th></th>\n",
              "    </tr>\n",
              "  </thead>\n",
              "  <tbody>\n",
              "    <tr>\n",
              "      <th>1917</th>\n",
              "      <td>198855.0</td>\n",
              "      <td>30656.0</td>\n",
              "      <td>15.416258</td>\n",
              "    </tr>\n",
              "    <tr>\n",
              "      <th>A Moment of Happiness  (M)</th>\n",
              "      <td>4142.0</td>\n",
              "      <td>647.0</td>\n",
              "      <td>15.620473</td>\n",
              "    </tr>\n",
              "    <tr>\n",
              "      <th>A Shaun The Sheep Movie: Farmageddon</th>\n",
              "      <td>6505.0</td>\n",
              "      <td>1167.0</td>\n",
              "      <td>17.940046</td>\n",
              "    </tr>\n",
              "    <tr>\n",
              "      <th>All's Well End's Well 2020 (M)</th>\n",
              "      <td>18974.0</td>\n",
              "      <td>4980.0</td>\n",
              "      <td>26.246443</td>\n",
              "    </tr>\n",
              "    <tr>\n",
              "      <th>An Easy Girl (F)</th>\n",
              "      <td>1456.0</td>\n",
              "      <td>346.0</td>\n",
              "      <td>23.763736</td>\n",
              "    </tr>\n",
              "    <tr>\n",
              "      <th>Bad Boys For Life</th>\n",
              "      <td>68055.0</td>\n",
              "      <td>12699.0</td>\n",
              "      <td>18.659907</td>\n",
              "    </tr>\n",
              "    <tr>\n",
              "      <th>Bernie The Dolphin 2</th>\n",
              "      <td>1575.0</td>\n",
              "      <td>108.0</td>\n",
              "      <td>6.857143</td>\n",
              "    </tr>\n",
              "    <tr>\n",
              "      <th>Cats</th>\n",
              "      <td>26665.0</td>\n",
              "      <td>3126.0</td>\n",
              "      <td>11.723233</td>\n",
              "    </tr>\n",
              "    <tr>\n",
              "      <th>Champions</th>\n",
              "      <td>164.0</td>\n",
              "      <td>124.0</td>\n",
              "      <td>75.609756</td>\n",
              "    </tr>\n",
              "    <tr>\n",
              "      <th>Darbar (T)</th>\n",
              "      <td>25298.0</td>\n",
              "      <td>5211.0</td>\n",
              "      <td>20.598466</td>\n",
              "    </tr>\n",
              "    <tr>\n",
              "      <th>Dark Waters</th>\n",
              "      <td>22658.0</td>\n",
              "      <td>4520.0</td>\n",
              "      <td>19.948804</td>\n",
              "    </tr>\n",
              "    <tr>\n",
              "      <th>Disney's Frozen 2</th>\n",
              "      <td>15031.0</td>\n",
              "      <td>3999.0</td>\n",
              "      <td>26.605016</td>\n",
              "    </tr>\n",
              "    <tr>\n",
              "      <th>Disney's Frozen Sing-A-Long</th>\n",
              "      <td>240.0</td>\n",
              "      <td>5.0</td>\n",
              "      <td>2.083333</td>\n",
              "    </tr>\n",
              "    <tr>\n",
              "      <th>Disney`s Frozen 2 Sing-A-Long</th>\n",
              "      <td>561.0</td>\n",
              "      <td>151.0</td>\n",
              "      <td>26.916221</td>\n",
              "    </tr>\n",
              "    <tr>\n",
              "      <th>Distinction</th>\n",
              "      <td>112.0</td>\n",
              "      <td>102.0</td>\n",
              "      <td>91.071429</td>\n",
              "    </tr>\n",
              "    <tr>\n",
              "      <th>Dolittle</th>\n",
              "      <td>180523.0</td>\n",
              "      <td>23068.0</td>\n",
              "      <td>12.778427</td>\n",
              "    </tr>\n",
              "    <tr>\n",
              "      <th>Enter The Fat Dragon (M)</th>\n",
              "      <td>109743.0</td>\n",
              "      <td>28115.0</td>\n",
              "      <td>25.618946</td>\n",
              "    </tr>\n",
              "    <tr>\n",
              "      <th>IP MAN 4: THE FINALE (M)</th>\n",
              "      <td>205121.0</td>\n",
              "      <td>48693.0</td>\n",
              "      <td>23.738671</td>\n",
              "    </tr>\n",
              "    <tr>\n",
              "      <th>Innocent Witness</th>\n",
              "      <td>164.0</td>\n",
              "      <td>146.0</td>\n",
              "      <td>89.024390</td>\n",
              "    </tr>\n",
              "    <tr>\n",
              "      <th>Intelligent Lives</th>\n",
              "      <td>164.0</td>\n",
              "      <td>67.0</td>\n",
              "      <td>40.853659</td>\n",
              "    </tr>\n",
              "    <tr>\n",
              "      <th>Jojo Rabbit</th>\n",
              "      <td>20881.0</td>\n",
              "      <td>5333.0</td>\n",
              "      <td>25.539965</td>\n",
              "    </tr>\n",
              "    <tr>\n",
              "      <th>Judy</th>\n",
              "      <td>19751.0</td>\n",
              "      <td>2568.0</td>\n",
              "      <td>13.001873</td>\n",
              "    </tr>\n",
              "    <tr>\n",
              "      <th>Jumanji: The Next Level</th>\n",
              "      <td>53469.0</td>\n",
              "      <td>12075.0</td>\n",
              "      <td>22.583179</td>\n",
              "    </tr>\n",
              "    <tr>\n",
              "      <th>Kumanthong (VIETNAMESE)</th>\n",
              "      <td>14778.0</td>\n",
              "      <td>810.0</td>\n",
              "      <td>5.481121</td>\n",
              "    </tr>\n",
              "    <tr>\n",
              "      <th>My Brother Chases Dinosaurs</th>\n",
              "      <td>0.0</td>\n",
              "      <td>0.0</td>\n",
              "      <td>NaN</td>\n",
              "    </tr>\n",
              "    <tr>\n",
              "      <th>Official Secrets</th>\n",
              "      <td>7236.0</td>\n",
              "      <td>1806.0</td>\n",
              "      <td>24.958541</td>\n",
              "    </tr>\n",
              "    <tr>\n",
              "      <th>Only Cloud Knows (M)</th>\n",
              "      <td>2540.0</td>\n",
              "      <td>99.0</td>\n",
              "      <td>3.897638</td>\n",
              "    </tr>\n",
              "    <tr>\n",
              "      <th>Perfect Nanny (F)</th>\n",
              "      <td>56.0</td>\n",
              "      <td>17.0</td>\n",
              "      <td>30.357143</td>\n",
              "    </tr>\n",
              "    <tr>\n",
              "      <th>Playing With Fire</th>\n",
              "      <td>26975.0</td>\n",
              "      <td>2109.0</td>\n",
              "      <td>7.818350</td>\n",
              "    </tr>\n",
              "    <tr>\n",
              "      <th>Primal</th>\n",
              "      <td>8263.0</td>\n",
              "      <td>858.0</td>\n",
              "      <td>10.383638</td>\n",
              "    </tr>\n",
              "    <tr>\n",
              "      <th>Richard Jewell</th>\n",
              "      <td>9591.0</td>\n",
              "      <td>1135.0</td>\n",
              "      <td>11.834011</td>\n",
              "    </tr>\n",
              "    <tr>\n",
              "      <th>Secret Zoo (K)</th>\n",
              "      <td>8515.0</td>\n",
              "      <td>1376.0</td>\n",
              "      <td>16.159718</td>\n",
              "    </tr>\n",
              "    <tr>\n",
              "      <th>Sheep Without A Shepherd (M)</th>\n",
              "      <td>18889.0</td>\n",
              "      <td>1816.0</td>\n",
              "      <td>9.614061</td>\n",
              "    </tr>\n",
              "    <tr>\n",
              "      <th>Someone, Somewhere (F)</th>\n",
              "      <td>504.0</td>\n",
              "      <td>159.0</td>\n",
              "      <td>31.547619</td>\n",
              "    </tr>\n",
              "    <tr>\n",
              "      <th>Spies In Disguise</th>\n",
              "      <td>38000.0</td>\n",
              "      <td>8303.0</td>\n",
              "      <td>21.850000</td>\n",
              "    </tr>\n",
              "    <tr>\n",
              "      <th>Star Wars: The Rise Of Skywalker</th>\n",
              "      <td>120477.0</td>\n",
              "      <td>18783.0</td>\n",
              "      <td>15.590528</td>\n",
              "    </tr>\n",
              "    <tr>\n",
              "      <th>Start Up (K)</th>\n",
              "      <td>8058.0</td>\n",
              "      <td>456.0</td>\n",
              "      <td>5.658972</td>\n",
              "    </tr>\n",
              "    <tr>\n",
              "      <th>The Aeronauts</th>\n",
              "      <td>952.0</td>\n",
              "      <td>255.0</td>\n",
              "      <td>26.785714</td>\n",
              "    </tr>\n",
              "    <tr>\n",
              "      <th>The Farewell</th>\n",
              "      <td>1344.0</td>\n",
              "      <td>401.0</td>\n",
              "      <td>29.836310</td>\n",
              "    </tr>\n",
              "    <tr>\n",
              "      <th>The Grand Grandmaster (M)</th>\n",
              "      <td>15220.0</td>\n",
              "      <td>1094.0</td>\n",
              "      <td>7.187911</td>\n",
              "    </tr>\n",
              "    <tr>\n",
              "      <th>The Grudge</th>\n",
              "      <td>38834.0</td>\n",
              "      <td>5275.0</td>\n",
              "      <td>13.583458</td>\n",
              "    </tr>\n",
              "    <tr>\n",
              "      <th>The Peanut Butter Falcon</th>\n",
              "      <td>7464.0</td>\n",
              "      <td>974.0</td>\n",
              "      <td>13.049303</td>\n",
              "    </tr>\n",
              "    <tr>\n",
              "      <th>The Wolf Hour</th>\n",
              "      <td>4540.0</td>\n",
              "      <td>191.0</td>\n",
              "      <td>4.207048</td>\n",
              "    </tr>\n",
              "    <tr>\n",
              "      <th>Underwater</th>\n",
              "      <td>14820.0</td>\n",
              "      <td>2930.0</td>\n",
              "      <td>19.770580</td>\n",
              "    </tr>\n",
              "  </tbody>\n",
              "</table>\n",
              "</div>"
            ],
            "text/plain": [
              "                                      Total Seats  Sold Seats  Percentage Sold\n",
              "Movie                                                                         \n",
              "1917                                     198855.0     30656.0        15.416258\n",
              "A Moment of Happiness  (M)                 4142.0       647.0        15.620473\n",
              "A Shaun The Sheep Movie: Farmageddon       6505.0      1167.0        17.940046\n",
              "All's Well End's Well 2020 (M)            18974.0      4980.0        26.246443\n",
              "An Easy Girl (F)                           1456.0       346.0        23.763736\n",
              "Bad Boys For Life                         68055.0     12699.0        18.659907\n",
              "Bernie The Dolphin 2                       1575.0       108.0         6.857143\n",
              "Cats                                      26665.0      3126.0        11.723233\n",
              "Champions                                   164.0       124.0        75.609756\n",
              "Darbar (T)                                25298.0      5211.0        20.598466\n",
              "Dark Waters                               22658.0      4520.0        19.948804\n",
              "Disney's Frozen 2                         15031.0      3999.0        26.605016\n",
              "Disney's Frozen Sing-A-Long                 240.0         5.0         2.083333\n",
              "Disney`s Frozen 2 Sing-A-Long               561.0       151.0        26.916221\n",
              "Distinction                                 112.0       102.0        91.071429\n",
              "Dolittle                                 180523.0     23068.0        12.778427\n",
              "Enter The Fat Dragon (M)                 109743.0     28115.0        25.618946\n",
              "IP MAN 4: THE FINALE (M)                 205121.0     48693.0        23.738671\n",
              "Innocent Witness                            164.0       146.0        89.024390\n",
              "Intelligent Lives                           164.0        67.0        40.853659\n",
              "Jojo Rabbit                               20881.0      5333.0        25.539965\n",
              "Judy                                      19751.0      2568.0        13.001873\n",
              "Jumanji: The Next Level                   53469.0     12075.0        22.583179\n",
              "Kumanthong (VIETNAMESE)                   14778.0       810.0         5.481121\n",
              "My Brother Chases Dinosaurs                   0.0         0.0              NaN\n",
              "Official Secrets                           7236.0      1806.0        24.958541\n",
              "Only Cloud Knows (M)                       2540.0        99.0         3.897638\n",
              "Perfect Nanny (F)                            56.0        17.0        30.357143\n",
              "Playing With Fire                         26975.0      2109.0         7.818350\n",
              "Primal                                     8263.0       858.0        10.383638\n",
              "Richard Jewell                             9591.0      1135.0        11.834011\n",
              "Secret Zoo (K)                             8515.0      1376.0        16.159718\n",
              "Sheep Without A Shepherd (M)              18889.0      1816.0         9.614061\n",
              "Someone, Somewhere (F)                      504.0       159.0        31.547619\n",
              "Spies In Disguise                         38000.0      8303.0        21.850000\n",
              "Star Wars: The Rise Of Skywalker         120477.0     18783.0        15.590528\n",
              "Start Up (K)                               8058.0       456.0         5.658972\n",
              "The Aeronauts                               952.0       255.0        26.785714\n",
              "The Farewell                               1344.0       401.0        29.836310\n",
              "The Grand Grandmaster (M)                 15220.0      1094.0         7.187911\n",
              "The Grudge                                38834.0      5275.0        13.583458\n",
              "The Peanut Butter Falcon                   7464.0       974.0        13.049303\n",
              "The Wolf Hour                              4540.0       191.0         4.207048\n",
              "Underwater                                14820.0      2930.0        19.770580"
            ]
          },
          "metadata": {
            "tags": []
          },
          "execution_count": 8
        }
      ]
    },
    {
      "cell_type": "markdown",
      "metadata": {
        "id": "cjnH8uEkVkK4"
      },
      "source": [
        "## Plotting"
      ]
    },
    {
      "cell_type": "code",
      "metadata": {
        "id": "i5wiy4eYVjWt",
        "outputId": "a347978b-7f27-47a3-d0e2-fe3985d23e6f",
        "colab": {
          "base_uri": "https://localhost:8080/",
          "height": 436
        }
      },
      "source": [
        "df2.plot(kind = 'bar', figsize=(10, 5))\n",
        "\n",
        "# Adjust xticks\n",
        "plt.xticks(fontsize =15,rotation=45)\n",
        "\n",
        "# Label x-axis\n",
        "plt.xlabel('Theatre in Shaw')\n",
        "\n",
        "#Label y-axis\n",
        "plt.ylabel('No. of Seats')\n",
        "\n",
        "#Plot Title\n",
        "plt.title('Ticket Sales across Theatres')\n",
        "\n",
        "#Save plot\n",
        "plt.savefig('Output.png',dpi=300,bbox_inches='tight')\n",
        "\n",
        "# Display plot\n",
        "plt.show()"
      ],
      "execution_count": 15,
      "outputs": [
        {
          "output_type": "display_data",
          "data": {
            "image/png": "[encoded data removed]",
            "text/plain": [
              "<Figure size 720x360 with 1 Axes>"
            ]
          },
          "metadata": {
            "tags": [],
            "needs_background": "light"
          }
        }
      ]
    },
    {
      "cell_type": "code",
      "metadata": {
        "id": "8nvPy27Wlqjy",
        "outputId": "7338eca7-d3e2-4011-d259-bbdce9f01e10",
        "colab": {
          "base_uri": "https://localhost:8080/",
          "height": 337
        }
      },
      "source": [
        "df2.T.plot(kind = 'barh', figsize=(10, 5))"
      ],
      "execution_count": null,
      "outputs": [
        {
          "output_type": "execute_result",
          "data": {
            "text/plain": [
              "<matplotlib.axes._subplots.AxesSubplot at 0x7f7a5475cac8>"
            ]
          },
          "metadata": {
            "tags": []
          },
          "execution_count": 60
        },
        {
          "output_type": "display_data",
          "data": {
            "image/png": "[encoded data removed]",
            "text/plain": [
              "<Figure size 720x360 with 1 Axes>"
            ]
          },
          "metadata": {
            "tags": [],
            "needs_background": "light"
          }
        }
      ]
    },
    {
      "cell_type": "markdown",
      "metadata": {
        "id": "xPsRg40EXYla"
      },
      "source": [
        "# **Problem Set 3**"
      ]
    },
    {
      "cell_type": "markdown",
      "metadata": {
        "id": "nDWDpdQZhuGC"
      },
      "source": [
        "#### **Exercise 1**\n",
        "#### Create a new column called 'Time Period' which has the values **'Morning', 'Afternoon', 'Evening' or 'Night'** based on the conditions:\n",
        "1. 00:00 <= Time <  12:00 : Morning\n",
        "2. 12:00 <= Time <  16:00 : Afternoon\n",
        "3. 16:00 <= Time <  20:00 : Evening\n",
        "4. 20:00 <= Time <= 23:59 : Night"
      ]
    },
    {
      "cell_type": "code",
      "metadata": {
        "id": "_Y_ha2s7hamf"
      },
      "source": [
        "#Fill in your code here!"
      ],
      "execution_count": null,
      "outputs": []
    },
    {
      "cell_type": "markdown",
      "metadata": {
        "id": "LkTRkxtWhIM2"
      },
      "source": [
        "#### **Exercise 2**\n",
        "#### Using the Movie dataset and the `groupby` function, find out the following\n",
        "1. **% of seats sold** for each **hall** -> Hence find the most popular hall\n",
        "2. **Total seats sold** for each **day** of the month -> Hence find the most popular day to watch movies\n",
        "3. Number of seats sold for each unique Time -> Hence find the most popular **Movie Screening Time**"
      ]
    },
    {
      "cell_type": "code",
      "metadata": {
        "id": "N_Vfh0wkg63G"
      },
      "source": [
        "#Fill in your code here!"
      ],
      "execution_count": null,
      "outputs": []
    },
    {
      "cell_type": "markdown",
      "metadata": {
        "id": "wXuAV5vTjX_W"
      },
      "source": [
        "#### **Exercise 3**\n",
        "#### Plot graphs for each of the subparts 2 and 3 in exercise 2\n"
      ]
    },
    {
      "cell_type": "code",
      "metadata": {
        "id": "uL_sr_qCjIAf"
      },
      "source": [
        "#Fill in your code here!"
      ],
      "execution_count": null,
      "outputs": []
    }
  ]
}